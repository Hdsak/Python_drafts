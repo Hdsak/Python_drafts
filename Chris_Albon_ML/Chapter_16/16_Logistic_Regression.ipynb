{
 "cells": [
  {
   "cell_type": "code",
   "execution_count": 2,
   "metadata": {
    "collapsed": true
   },
   "outputs": [],
   "source": [
    "# 16.1 Training a Binary Classifier\n",
    "from sklearn import datasets\n",
    "from sklearn.linear_model import LinearRegression\n",
    "from sklearn.preprocessing import StandardScaler\n",
    "# Load data with only two classes\n",
    "iris = datasets.load_iris()\n",
    "features = iris.data[:100,:]\n",
    "target = iris.target[:100]\n",
    "std = StandardScaler()\n",
    "features_std = std.fit_transform(features)\n",
    "clf = LinearRegression()\n",
    "model = clf.fit(features_std, target)"
   ]
  },
  {
   "cell_type": "code",
   "execution_count": 4,
   "outputs": [],
   "source": [
    "# 16.2 Training a Multiclass Classifier\n",
    "from sklearn.linear_model import LogisticRegression\n",
    "features = iris.data\n",
    "target = iris.target\n",
    "\n",
    "features_std = std.fit_transform(features)\n",
    "clf = LogisticRegression(random_state=0, multi_class=\"ovr\")\n",
    "\n",
    "model = clf.fit(features_std, target)"
   ],
   "metadata": {
    "collapsed": false,
    "pycharm": {
     "name": "#%%\n"
    }
   }
  },
  {
   "cell_type": "code",
   "execution_count": 5,
   "outputs": [],
   "source": [
    "# 16.3 Reducing Variance Through Regularization\n",
    "\n",
    "from sklearn.linear_model import LogisticRegressionCV\n",
    "\n",
    "logistic_regression = LogisticRegressionCV(\n",
    "penalty='l2', Cs=10, random_state=0, n_jobs=-1)\n",
    "# Train model\n",
    "model = logistic_regression.fit(features_std, target)"
   ],
   "metadata": {
    "collapsed": false,
    "pycharm": {
     "name": "#%%\n"
    }
   }
  },
  {
   "cell_type": "code",
   "execution_count": 6,
   "outputs": [],
   "source": [
    "# 16.4 Training a Classifier on Very Large Data\n",
    "\n",
    "# Create logistic regression object\n",
    "logistic_regression = LogisticRegression(random_state=0, solver=\"sag\")\n",
    "# Train model\n",
    "model = logistic_regression.fit(features_std, target)"
   ],
   "metadata": {
    "collapsed": false,
    "pycharm": {
     "name": "#%%\n"
    }
   }
  },
  {
   "cell_type": "code",
   "execution_count": 10,
   "outputs": [],
   "source": [
    "#16.5 Handling Imbalanced Classes\n",
    "\n",
    "\n",
    "import numpy as np\n",
    "iris = datasets.load_iris()\n",
    "features = iris.data\n",
    "target = iris.target\n",
    "# Make class highly imbalanced by removing first 40 observations\n",
    "features = features[40:,:]\n",
    "target = target[40:]\n",
    "# Create target vector indicating if class 0, otherwise 1\n",
    "target = np.where((target == 0), 0, 1)\n",
    "# Standardize features\n",
    "scaler = StandardScaler()\n",
    "features_standardized = scaler.fit_transform(features)\n",
    "# Create decision tree classifier object\n",
    "logistic_regression = LogisticRegression(random_state=0, class_weight=\"balanced\")\n",
    "# Train model\n",
    "model = logistic_regression.fit(features_standardized, target)\n",
    "\n"
   ],
   "metadata": {
    "collapsed": false,
    "pycharm": {
     "name": "#%%\n"
    }
   }
  },
  {
   "cell_type": "code",
   "execution_count": null,
   "outputs": [],
   "source": [],
   "metadata": {
    "collapsed": false,
    "pycharm": {
     "name": "#%%\n"
    }
   }
  }
 ],
 "metadata": {
  "kernelspec": {
   "display_name": "Python 3",
   "language": "python",
   "name": "python3"
  },
  "language_info": {
   "codemirror_mode": {
    "name": "ipython",
    "version": 2
   },
   "file_extension": ".py",
   "mimetype": "text/x-python",
   "name": "python",
   "nbconvert_exporter": "python",
   "pygments_lexer": "ipython2",
   "version": "2.7.6"
  }
 },
 "nbformat": 4,
 "nbformat_minor": 0
}