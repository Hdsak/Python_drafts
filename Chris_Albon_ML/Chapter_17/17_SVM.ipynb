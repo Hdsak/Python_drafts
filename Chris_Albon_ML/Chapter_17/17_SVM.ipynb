{
 "cells": [
  {
   "cell_type": "code",
   "execution_count": 6,
   "metadata": {
    "collapsed": true
   },
   "outputs": [
    {
     "data": {
      "text/plain": "<Figure size 432x288 with 1 Axes>",
      "image/png": "[encoded data removed]"
     },
     "metadata": {
      "needs_background": "light"
     },
     "output_type": "display_data"
    }
   ],
   "source": [
    "from sklearn.svm import SVC\n",
    "\n",
    "#17.1 Training a Linear Classifier\n",
    "\n",
    "from sklearn.svm import LinearSVC\n",
    "from sklearn import datasets\n",
    "from sklearn.preprocessing import StandardScaler\n",
    "import numpy as np\n",
    "\n",
    "iris = datasets.load_iris()\n",
    "features = iris.data[:100, :2]\n",
    "target = iris.target[:100]\n",
    "\n",
    "scalar = StandardScaler()\n",
    "\n",
    "features_std = scalar.fit_transform(features)\n",
    "\n",
    "clf = LinearSVC(C=1.0)\n",
    "# Train model\n",
    "model = clf.fit(features_std, target)\n",
    "from matplotlib import pyplot as plt\n",
    "# Plot data points and color using their class\n",
    "color = [\"black\" if c == 0 else \"lightgrey\" for c in target]\n",
    "plt.scatter(features_std[:,0], features_std[:,1], c=color)\n",
    "# Create the hyperplane\n",
    "w = clf.coef_[0]\n",
    "a = -w[0] / w[1]\n",
    "xx = np.linspace(-2.5, 2.5)\n",
    "yy = a * xx - (clf.intercept_[0]) / w[1]\n",
    "# Plot the hyperplane\n",
    "plt.plot(xx, yy)\n",
    "plt.axis(\"off\"), plt.show();"
   ]
  },
  {
   "cell_type": "code",
   "execution_count": 7,
   "outputs": [],
   "source": [
    "# 17.2 Handling Linearly Inseparable Classes Using Kernels\n",
    "\n",
    "# Set randomization seed\n",
    "np.random.seed(0)\n",
    "# Generate two features\n",
    "features = np.random.randn(200, 2)\n",
    "# Use a XOR gate (you don't need to know what this is) to generate\n",
    "# linearly inseparable classes\n",
    "target_xor = np.logical_xor(features[:, 0] > 0, features[:, 1] > 0)\n",
    "target = np.where(target_xor, 0, 1)\n",
    "# Create a support vector machine with a radial basis function kernel\n",
    "svc = SVC(kernel=\"rbf\", random_state=0, gamma=1, C=1)\n",
    "# Train the classifier\n",
    "model = svc.fit(features, target)"
   ],
   "metadata": {
    "collapsed": false,
    "pycharm": {
     "name": "#%%\n"
    }
   }
  },
  {
   "cell_type": "code",
   "execution_count": 8,
   "outputs": [
    {
     "data": {
      "text/plain": "array([[0.00541761, 0.97348825, 0.02109414]])"
     },
     "execution_count": 8,
     "metadata": {},
     "output_type": "execute_result"
    }
   ],
   "source": [
    "\n",
    "# 17.3 Creating Predicted Probabilities\n",
    "\n",
    "# Load data\n",
    "iris = datasets.load_iris()\n",
    "features = iris.data\n",
    "target = iris.target\n",
    "# Standardize features\n",
    "scaler = StandardScaler()\n",
    "features_standardized = scaler.fit_transform(features)\n",
    "# Create support vector classifier object\n",
    "svc = SVC(kernel=\"linear\", probability=True, random_state=0)\n",
    "# Train classifier\n",
    "model = svc.fit(features_standardized, target)\n",
    "# Create new observation\n",
    "new_observation = [[.4, .4, .4, .4]]\n",
    "# View predicted probabilities\n",
    "model.predict_proba(new_observation)"
   ],
   "metadata": {
    "collapsed": false,
    "pycharm": {
     "name": "#%%\n"
    }
   }
  },
  {
   "cell_type": "code",
   "execution_count": 9,
   "outputs": [
    {
     "data": {
      "text/plain": "array([[-0.5810659 ,  0.42196824, -0.80497402, -0.50860702],\n       [-1.52079513, -1.67737625, -1.08231219, -0.86427627],\n       [-0.89430898, -1.4674418 ,  0.30437864,  0.38056609],\n       [-0.5810659 , -1.25750735,  0.09637501,  0.55840072]])"
     },
     "execution_count": 9,
     "metadata": {},
     "output_type": "execute_result"
    }
   ],
   "source": [
    "\n",
    "# 17.4 Identifying Support Vectors\n",
    "\n",
    "#Load data with only two classes\n",
    "iris = datasets.load_iris()\n",
    "features = iris.data[:100,:]\n",
    "target = iris.target[:100]\n",
    "# Standardize features\n",
    "scaler = StandardScaler()\n",
    "features_standardized = scaler.fit_transform(features)\n",
    "# Create support vector classifier object\n",
    "svc = SVC(kernel=\"linear\", random_state=0)\n",
    "# Train classifier\n",
    "model = svc.fit(features_standardized, target)\n",
    "# View support vectors\n",
    "model.support_vectors_"
   ],
   "metadata": {
    "collapsed": false,
    "pycharm": {
     "name": "#%%\n"
    }
   }
  },
  {
   "cell_type": "code",
   "execution_count": 10,
   "outputs": [],
   "source": [
    "\n",
    "# 17.5 Handling Imbalanced Classes\n",
    "\n",
    "#Load data with only two classes\n",
    "iris = datasets.load_iris()\n",
    "features = iris.data[:100,:]\n",
    "target = iris.target[:100]\n",
    "# Make class highly imbalanced by removing first 40 observations\n",
    "features = features[40:,:]\n",
    "target = target[40:]\n",
    "# Create target vector indicating if class 0, otherwise 1\n",
    "target = np.where((target == 0), 0, 1)\n",
    "# Standardize features\n",
    "scaler = StandardScaler()\n",
    "features_standardized = scaler.fit_transform(features)\n",
    "# Create support vector classifier\n",
    "svc = SVC(kernel=\"linear\", class_weight=\"balanced\", C=1.0, random_state=0)\n",
    "# Train classifier\n",
    "model = svc.fit(features_standardized, target)"
   ],
   "metadata": {
    "collapsed": false,
    "pycharm": {
     "name": "#%%\n"
    }
   }
  },
  {
   "cell_type": "code",
   "execution_count": null,
   "outputs": [],
   "source": [],
   "metadata": {
    "collapsed": false,
    "pycharm": {
     "name": "#%%\n"
    }
   }
  }
 ],
 "metadata": {
  "kernelspec": {
   "display_name": "Python 3",
   "language": "python",
   "name": "python3"
  },
  "language_info": {
   "codemirror_mode": {
    "name": "ipython",
    "version": 2
   },
   "file_extension": ".py",
   "mimetype": "text/x-python",
   "name": "python",
   "nbconvert_exporter": "python",
   "pygments_lexer": "ipython2",
   "version": "2.7.6"
  }
 },
 "nbformat": 4,
 "nbformat_minor": 0
}