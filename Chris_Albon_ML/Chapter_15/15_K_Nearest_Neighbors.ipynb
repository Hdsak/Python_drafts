{
 "cells": [
  {
   "cell_type": "code",
   "execution_count": 6,
   "metadata": {
    "collapsed": true
   },
   "outputs": [
    {
     "data": {
      "text/plain": "array([[[1.03800476, 0.55861082, 1.10378283, 1.18556721],\n        [0.79566902, 0.32841405, 0.76275827, 1.05393502]]])"
     },
     "execution_count": 6,
     "metadata": {},
     "output_type": "execute_result"
    }
   ],
   "source": [
    "# 15.1 Finding an Observation’s Nearest Neighbors\n",
    "\n",
    "from sklearn import datasets\n",
    "from sklearn.neighbors import NearestNeighbors\n",
    "from sklearn.preprocessing import StandardScaler\n",
    "\n",
    "iris = datasets.load_iris()\n",
    "features = iris.data\n",
    "standardizer = StandardScaler()\n",
    "\n",
    "\n",
    "features_standardized = standardizer.fit_transform(features)\n",
    "# Two nearest neighbors\n",
    "nearest_neighbors = NearestNeighbors(n_neighbors=2).fit(features_standardized)\n",
    "\n",
    "new_observations = [1,1,1,1]\n",
    "# Find distances and indices of the observation's nearest neighbors\n",
    "distances, indices = nearest_neighbors.kneighbors([new_observations])\n",
    "# View the nearest neighbors\n",
    "features_standardized[indices]"
   ]
  },
  {
   "cell_type": "code",
   "execution_count": 7,
   "outputs": [
    {
     "data": {
      "text/plain": "array([1, 2])"
     },
     "execution_count": 7,
     "metadata": {},
     "output_type": "execute_result"
    }
   ],
   "source": [
    "#  15.2 Creating a K-Nearest Neighbor Classifier\n",
    "from sklearn.neighbors import KNeighborsClassifier\n",
    "knn = KNeighborsClassifier(n_neighbors=5, n_jobs=-1).fit(features_standardized, iris.target)\n",
    "new_observations = [[ 0.75, 0.75, 0.75, 0.75],\n",
    "[ 1, 1, 1, 1]]\n",
    "# Predict the class of two observations\n",
    "knn.predict(new_observations)"
   ],
   "metadata": {
    "collapsed": false,
    "pycharm": {
     "name": "#%%\n"
    }
   }
  },
  {
   "cell_type": "code",
   "execution_count": 10,
   "outputs": [
    {
     "data": {
      "text/plain": "6"
     },
     "execution_count": 10,
     "metadata": {},
     "output_type": "execute_result"
    }
   ],
   "source": [
    "from sklearn.model_selection import GridSearchCV\n",
    "\n",
    "# 15.3 Identifying the Best Neighborhood Size\n",
    "\n",
    "from sklearn.pipeline import Pipeline, FeatureUnion\n",
    "\n",
    "iris = datasets.load_iris()\n",
    "features = iris.data\n",
    "target = iris.target\n",
    "\n",
    "std_scaler = StandardScaler()\n",
    "features_standardized = std_scaler.fit_transform(features)\n",
    "knn = KNeighborsClassifier(n_neighbors=5, n_jobs=-1)\n",
    "pipe = Pipeline([('standardizer', std_scaler), ('knn',knn)])\n",
    "params_grid = {'knn__n_neighbors':[1,2,3,4,5,6,7,8,9,10]}\n",
    "clf = GridSearchCV(pipe, param_grid=params_grid, cv = 5, verbose=0).fit(features_standardized, target)\n",
    "# Best neighborhood size (k)\n",
    "clf.best_estimator_.get_params()[\"knn__n_neighbors\"]"
   ],
   "metadata": {
    "collapsed": false,
    "pycharm": {
     "name": "#%%\n"
    }
   }
  },
  {
   "cell_type": "code",
   "execution_count": 11,
   "outputs": [
    {
     "data": {
      "text/plain": "array([2])"
     },
     "execution_count": 11,
     "metadata": {},
     "output_type": "execute_result"
    }
   ],
   "source": [
    "# 15.4 Creating a Radius-Based Nearest Neighbor Classifier\n",
    "# Load libraries\n",
    "from sklearn.neighbors import RadiusNeighborsClassifier\n",
    "from sklearn.preprocessing import StandardScaler\n",
    "from sklearn import datasets\n",
    "# Load data\n",
    "iris = datasets.load_iris()\n",
    "features = iris.data\n",
    "target = iris.target\n",
    "# Create standardizer\n",
    "standardizer = StandardScaler()\n",
    "# Standardize features\n",
    "features_standardized = standardizer.fit_transform(features)\n",
    "# Train a radius neighbors classifier\n",
    "rnn = RadiusNeighborsClassifier(\n",
    "radius=.5, n_jobs=-1).fit(features_standardized, target)\n",
    "# Create two observations\n",
    "new_observations = [[ 1, 1, 1, 1]]\n",
    "# Predict the class of two observations\n",
    "rnn.predict(new_observations)"
   ],
   "metadata": {
    "collapsed": false,
    "pycharm": {
     "name": "#%%\n"
    }
   }
  },
  {
   "cell_type": "code",
   "execution_count": null,
   "outputs": [],
   "source": [],
   "metadata": {
    "collapsed": false,
    "pycharm": {
     "name": "#%%\n"
    }
   }
  }
 ],
 "metadata": {
  "kernelspec": {
   "display_name": "Python 3",
   "language": "python",
   "name": "python3"
  },
  "language_info": {
   "codemirror_mode": {
    "name": "ipython",
    "version": 2
   },
   "file_extension": ".py",
   "mimetype": "text/x-python",
   "name": "python",
   "nbconvert_exporter": "python",
   "pygments_lexer": "ipython2",
   "version": "2.7.6"
  }
 },
 "nbformat": 4,
 "nbformat_minor": 0
}