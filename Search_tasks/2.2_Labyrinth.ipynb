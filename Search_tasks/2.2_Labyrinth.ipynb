{
 "cells": [
  {
   "cell_type": "code",
   "execution_count": 5,
   "metadata": {
    "collapsed": true
   },
   "outputs": [],
   "source": [
    "from enum import Enum\n",
    "from typing import List, NamedTuple, Callable, Optional\n",
    "import random\n",
    "from math import sqrt"
   ]
  },
  {
   "cell_type": "code",
   "execution_count": 6,
   "outputs": [],
   "source": [
    "class Cell(str, Enum):\n",
    "    EMPTY = \" \"\n",
    "    BLOCKED = \"X\"\n",
    "    START = \"S\"\n",
    "    GOAL = \"G\"\n",
    "    PATH = \"*\"\n"
   ],
   "metadata": {
    "collapsed": false,
    "pycharm": {
     "name": "#%%\n"
    }
   }
  },
  {
   "cell_type": "code",
   "execution_count": 7,
   "outputs": [],
   "source": [
    "class MazeLocation(NamedTuple):\n",
    "    row:int\n",
    "    column:int"
   ],
   "metadata": {
    "collapsed": false,
    "pycharm": {
     "name": "#%%\n"
    }
   }
  },
  {
   "cell_type": "code",
   "execution_count": 17,
   "outputs": [],
   "source": [
    "class Maze:\n",
    "    def __init__(self, rows = 10, columns = 10, sparseness = 0.2, start: MazeLocation = MazeLocation(0, 0), goal = MazeLocation(9, 9)):\n",
    "        # инициализация базовых переменных экземпляра\n",
    "        self._rows = rows\n",
    "        self._columns = columns\n",
    "        self.start = start\n",
    "        self.goal = goal\n",
    "        #    заполнение сетки пустыми ячейками\n",
    "        self._grid = [[Cell.EMPTY for с in range(columns)] for r in range(rows)]\n",
    "        # заполнение сетки заблокированными ячейками\n",
    "        self._randomly_fill(rows, columns, sparseness)\n",
    "        # заполнение начальной и конечной позиций в лабиринте\n",
    "        self._grid[start.row][start.column] = Cell.START\n",
    "        self._grid[goal.row][goal.column] = Cell.GOAL\n",
    "    def _randomly_fill(self, rows: int, columns: int, sparseness: float):\n",
    "        for row in range(rows):\n",
    "            for column in range(columns):\n",
    "                if random.uniform(0, 1.0) < sparseness:\n",
    "                        self._grid[row][column] = Cell.BLOCKED\n",
    "\n",
    "    def goal_test(self, mazelocation):\n",
    "        return mazelocation == self.goal\n",
    "\n",
    "    def successors(self, ml: MazeLocation) -> List[MazeLocation]:\n",
    "       locations: List[MazeLocation] = []\n",
    "       if ml.row + 1 < self._rows and self._grid[ml.row + 1][ml.column] != Cell.BLOCKED:\n",
    "           locations.append(MazeLocation(ml.row + 1, ml.column))\n",
    "       if ml.row - 1 >= 0 and self._grid[ml.row - 1][ml.column] != Cell.BLOCKED:\n",
    "           locations.append(MazeLocation(ml.row - 1, ml.column))\n",
    "       if ml.column + 1 < self._columns and self._grid[ml.row][ml.column + 1] != Cell.BLOCKED:\n",
    "           locations.append(MazeLocation(ml.row, ml.column + 1))\n",
    "       if ml.column - 1 >= 0 and self._grid[ml.row][ml.column - 1] != Cell.BLOCKED:\n",
    "           locations.append(MazeLocation(ml.row, ml.column - 1))\n",
    "       return locations\n",
    "\n",
    "\n",
    "\n",
    "\n",
    "    # вывести красиво отформатированную Версию лабиринта для печати\n",
    "    def __str__(self):\n",
    "        output = \"\"\n",
    "        for row in self._grid:\n",
    "            output += \"\".join([c.value for c in row]) + \"\\n\"\n",
    "        return output"
   ],
   "metadata": {
    "collapsed": false,
    "pycharm": {
     "name": "#%%\n"
    }
   }
  },
  {
   "cell_type": "code",
   "execution_count": 1,
   "outputs": [],
   "source": [
    "class Stack():\n",
    "    def __init__(self):\n",
    "        self._container = []\n",
    "\n",
    "    @property\n",
    "    def empty(self):\n",
    "        return not self._container\n",
    "    def push(self, item):\n",
    "        self._container.append(item)\n",
    "    def pop(self):\n",
    "        return self._container.pop()\n",
    "    def __repr__(self):\n",
    "        return repr(self._container)"
   ],
   "metadata": {
    "collapsed": false,
    "pycharm": {
     "name": "#%%\n"
    }
   }
  },
  {
   "cell_type": "code",
   "execution_count": 19,
   "outputs": [
    {
     "name": "stdout",
     "output_type": "stream",
     "text": [
      "S   X     \n",
      " X   X X X\n",
      "  X    X  \n",
      "          \n",
      "  XX      \n",
      "X   X  X  \n",
      "X         \n",
      "  X   X   \n",
      "    X    X\n",
      "  XX     G\n",
      "\n"
     ]
    }
   ],
   "source": [
    "maze = Maze()\n",
    "print(maze)"
   ],
   "metadata": {
    "collapsed": false,
    "pycharm": {
     "name": "#%%\n"
    }
   }
  },
  {
   "cell_type": "code",
   "execution_count": null,
   "outputs": [],
   "source": [],
   "metadata": {
    "collapsed": false,
    "pycharm": {
     "name": "#%%\n"
    }
   }
  }
 ],
 "metadata": {
  "kernelspec": {
   "display_name": "Python 3",
   "language": "python",
   "name": "python3"
  },
  "language_info": {
   "codemirror_mode": {
    "name": "ipython",
    "version": 2
   },
   "file_extension": ".py",
   "mimetype": "text/x-python",
   "name": "python",
   "nbconvert_exporter": "python",
   "pygments_lexer": "ipython2",
   "version": "2.7.6"
  }
 },
 "nbformat": 4,
 "nbformat_minor": 0
}