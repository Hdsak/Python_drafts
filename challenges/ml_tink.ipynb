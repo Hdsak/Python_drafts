{
 "cells": [
  {
   "cell_type": "code",
   "execution_count": 2,
   "metadata": {
    "collapsed": true
   },
   "outputs": [
    {
     "name": "stdout",
     "output_type": "stream",
     "text": [
      "Yes\n"
     ]
    }
   ],
   "source": [
    "#Task 1\n",
    "\n",
    "a = int(input())\n",
    "b = int(input())\n",
    "n = int(input())\n",
    "if a>b:\n",
    "    print('Yes')\n",
    "else:\n",
    "    print('No')"
   ]
  },
  {
   "cell_type": "code",
   "execution_count": 5,
   "outputs": [
    {
     "name": "stdout",
     "output_type": "stream",
     "text": [
      "YES\n"
     ]
    }
   ],
   "source": [
    "# Task 1\n",
    "a = int(input())\n",
    "b = int(input())\n",
    "n = int(input())\n",
    "if a > b and a - n >= b + n and (a - b) %2 == 0:\n",
    "\tprint(\"YES\")\n",
    "else:\n",
    "\tprint(\"NO\")"
   ],
   "metadata": {
    "collapsed": false,
    "pycharm": {
     "name": "#%%\n"
    }
   }
  },
  {
   "cell_type": "code",
   "execution_count": 10,
   "outputs": [
    {
     "name": "stdout",
     "output_type": "stream",
     "text": [
      "cab\n",
      "cba\n"
     ]
    }
   ],
   "source": [
    "#Task 2\n",
    "s1=input()\n",
    "s2=input()\n",
    "s3=input()\n",
    "g=''\n",
    "if s1=='<' and s2=='<':\n",
    "    if s3=='>':\n",
    "        t='acb'\n",
    "    else:\n",
    "        t='abc'\n",
    "elif s1=='>' and s2=='>':\n",
    "    if s3=='>':\n",
    "        t='cba'\n",
    "    else:\n",
    "        t='bca'\n",
    "elif s1=='<' and s2=='>':\n",
    "    t='cab'\n",
    "elif s1=='>' and s2=='<':\n",
    "    t='bac'\n",
    "elif s1=='=':\n",
    "    if s2=='>':\n",
    "        t='cba'\n",
    "        g = 'cab'\n",
    "    else:\n",
    "        t='abc'\n",
    "if g:\n",
    "    print(g)\n",
    "    print(t)\n",
    "else:\n",
    "    print(t)"
   ],
   "metadata": {
    "collapsed": false,
    "pycharm": {
     "name": "#%%\n"
    }
   }
  },
  {
   "cell_type": "code",
   "execution_count": 15,
   "outputs": [
    {
     "name": "stdout",
     "output_type": "stream",
     "text": [
      "2\n"
     ]
    }
   ],
   "source": [
    "#Task 3\n",
    "a = int(input())\n",
    "sum = 0\n",
    "while True:\n",
    "    b = a %10\n",
    "    if b != 0:\n",
    "        break\n",
    "    a = a/10\n",
    "a = str(int(a))\n",
    "for i in a:\n",
    "    if i == '0':\n",
    "        sum+=1\n",
    "print(sum)"
   ],
   "metadata": {
    "collapsed": false,
    "pycharm": {
     "name": "#%%\n"
    }
   }
  },
  {
   "cell_type": "code",
   "execution_count": 7,
   "outputs": [
    {
     "name": "stdout",
     "output_type": "stream",
     "text": [
      "5\n"
     ]
    }
   ],
   "source": [
    "#Task 3\n",
    "print(input().strip('0').count('0'))"
   ],
   "metadata": {
    "collapsed": false,
    "pycharm": {
     "name": "#%%\n"
    }
   }
  },
  {
   "cell_type": "code",
   "execution_count": 5,
   "outputs": [
    {
     "name": "stdout",
     "output_type": "stream",
     "text": [
      "abcba\n",
      "babab\n",
      "cbabc\n",
      "babab\n",
      "abcba\n"
     ]
    }
   ],
   "source": [
    "#Task 4\n",
    "disposable = ['a', 'b', 'c', 'd', 'e', 'f', 'g', 'h', 'i', 'j', 'k', 'l', 'm', 'n', 'o', 'p', 'q', 'r', 's', 't', 'u', 'v', 'w', 'x', 'y', 'z']\n",
    "n = int(input())\n",
    "matrix = [[0]*n for i in range(n)]\n",
    "for i in range(n):\n",
    "    for j in range(n):\n",
    "        tmp = min(abs(i-j), abs(i+j-n+1))\n",
    "        matrix[i][j] = disposable[tmp%26]\n",
    "for a in matrix:\n",
    "    print(''.join(a))"
   ],
   "metadata": {
    "collapsed": false,
    "pycharm": {
     "name": "#%%\n"
    }
   }
  },
  {
   "cell_type": "code",
   "execution_count": 7,
   "outputs": [
    {
     "name": "stdout",
     "output_type": "stream",
     "text": [
      "2\n"
     ]
    }
   ],
   "source": [
    "#Task 5\n",
    "import itertools\n",
    "n, k = map(int, input().split())\n",
    "fin = 0\n",
    "for j in itertools.permutations((i for i in range(1, n + 1)), n):\n",
    "    tmp = 0\n",
    "    for i in range(n):\n",
    "        tmp += j[i] * (i + 1)\n",
    "    if tmp % k == 0:\n",
    "        fin += 1\n",
    "print(fin)"
   ],
   "metadata": {
    "collapsed": false,
    "pycharm": {
     "name": "#%%\n"
    }
   }
  },
  {
   "cell_type": "code",
   "execution_count": null,
   "outputs": [],
   "source": [
    "#Task 6\n"
   ],
   "metadata": {
    "collapsed": false,
    "pycharm": {
     "name": "#%%\n"
    }
   }
  },
  {
   "cell_type": "code",
   "execution_count": 3,
   "outputs": [
    {
     "name": "stdout",
     "output_type": "stream",
     "text": [
      "0\n"
     ]
    }
   ],
   "source": [
    "#Task 7\n",
    "from itertools import *\n",
    "n, k = map(int, input().split())\n",
    "p = input().split()\n",
    "p = [int(i) for i in p]\n",
    "sum = 0\n",
    "for i in combinations(p, k):\n",
    "    sum+=1\n",
    "#m = 10**9+7\n",
    "print(sum)"
   ],
   "metadata": {
    "collapsed": false,
    "pycharm": {
     "name": "#%%\n"
    }
   }
  },
  {
   "cell_type": "code",
   "execution_count": null,
   "outputs": [],
   "source": [],
   "metadata": {
    "collapsed": false,
    "pycharm": {
     "name": "#%%\n"
    }
   }
  },
  {
   "cell_type": "code",
   "execution_count": 12,
   "outputs": [
    {
     "name": "stdout",
     "output_type": "stream",
     "text": [
      "(2, 9, 0)\n",
      "(2, 9, 1)\n",
      "(2, 0, 9)\n",
      "(2, 0, 1)\n",
      "(2, 1, 9)\n",
      "(2, 1, 0)\n",
      "(9, 2, 0)\n",
      "(9, 2, 1)\n",
      "(9, 0, 2)\n",
      "(9, 0, 1)\n",
      "(9, 1, 2)\n",
      "(9, 1, 0)\n",
      "(1, 2, 9)\n",
      "(1, 2, 0)\n",
      "(1, 9, 2)\n",
      "(1, 9, 0)\n",
      "(1, 0, 2)\n",
      "(1, 0, 9)\n",
      "18\n"
     ]
    }
   ],
   "source": [
    "from itertools import *\n",
    "def my_filter(temp):\n",
    "    if temp[0] != 0:\n",
    "        return temp\n",
    "sum=0\n",
    "for i in filter(my_filter,permutations([2,9,0,1], 3)):\n",
    "    print(i)\n",
    "    sum+=1\n",
    "print(sum)"
   ],
   "metadata": {
    "collapsed": false,
    "pycharm": {
     "name": "#%%\n"
    }
   }
  },
  {
   "cell_type": "code",
   "execution_count": 8,
   "outputs": [
    {
     "name": "stdout",
     "output_type": "stream",
     "text": [
      "24\n"
     ]
    }
   ],
   "source": [
    "sum = 0\n",
    "for i in permutations([2,9,0,1], 3):\n",
    "    sum+=1\n",
    "print(sum)"
   ],
   "metadata": {
    "collapsed": false,
    "pycharm": {
     "name": "#%%\n"
    }
   }
  },
  {
   "cell_type": "code",
   "execution_count": 7,
   "outputs": [
    {
     "name": "stdout",
     "output_type": "stream",
     "text": [
      "(2, 9, 0)\n",
      "(2, 9, 1)\n",
      "(2, 0, 9)\n",
      "(2, 0, 1)\n",
      "(2, 1, 9)\n",
      "(2, 1, 0)\n",
      "(9, 2, 0)\n",
      "(9, 2, 1)\n",
      "(9, 0, 2)\n",
      "(9, 0, 1)\n",
      "(9, 1, 2)\n",
      "(9, 1, 0)\n",
      "(0, 2, 9)\n",
      "(0, 2, 1)\n",
      "(0, 9, 2)\n",
      "(0, 9, 1)\n",
      "(0, 1, 2)\n",
      "(0, 1, 9)\n",
      "(1, 2, 9)\n",
      "(1, 2, 0)\n",
      "(1, 9, 2)\n",
      "(1, 9, 0)\n",
      "(1, 0, 2)\n",
      "(1, 0, 9)\n"
     ]
    }
   ],
   "source": [
    "for i in permutations([2,9,0,1], 3):\n",
    "    print(i)"
   ],
   "metadata": {
    "collapsed": false,
    "pycharm": {
     "name": "#%%\n"
    }
   }
  },
  {
   "cell_type": "code",
   "execution_count": null,
   "outputs": [],
   "source": [],
   "metadata": {
    "collapsed": false,
    "pycharm": {
     "name": "#%%\n"
    }
   }
  }
 ],
 "metadata": {
  "kernelspec": {
   "display_name": "Python 3",
   "language": "python",
   "name": "python3"
  },
  "language_info": {
   "codemirror_mode": {
    "name": "ipython",
    "version": 2
   },
   "file_extension": ".py",
   "mimetype": "text/x-python",
   "name": "python",
   "nbconvert_exporter": "python",
   "pygments_lexer": "ipython2",
   "version": "2.7.6"
  }
 },
 "nbformat": 4,
 "nbformat_minor": 0
}