{
 "nbformat": 4,
 "nbformat_minor": 0,
 "metadata": {
  "colab": {
   "name": "DL_Lab_01_notebook.ipynb",
   "provenance": [],
   "collapsed_sections": [
    "vOF59eU6MJ4V",
    "4Qy2TOD5NQkc",
    "n_U07HobPpne",
    "WJjyK9Dfqe1K",
    "xLk2Gn_-swN0",
    "NntG_Bd1uYAs",
    "xcRUhQEYtHNx",
    "_8HaUHwRt6jS",
    "1jDLVkXRuaNR",
    "mUJbD1yrBDgN",
    "XgFipUGF7DhM",
    "EJe77p1XBDgs",
    "DqqptBvQBDg9",
    "nEONtZCnBDhE",
    "K7euibeQBDhJ",
    "_IKAgDiGBDhR",
    "KccI2kWPwH7L",
    "YykiKRUoyTak",
    "fnw2fEtZyeNh",
    "yVY_Hdz1zbLn",
    "nexgvPezBDfB",
    "ul-xIwr9BDfC",
    "UhMP3LQqBDfH",
    "8T8PdpMHBDfW",
    "zh2NoXJjBDfb",
    "oLqyaaei-vjv"
   ]
  },
  "kernelspec": {
   "name": "python3",
   "language": "python",
   "display_name": "Python 3"
  }
 },
 "cells": [
  {
   "cell_type": "markdown",
   "metadata": {
    "id": "wNaf_Xm9KfHF"
   },
   "source": [
    "# NumPy Tutorial\n",
    "Adapted from the [CS231n Python tutorial](http://cs231n.github.io/python-numpy-tutorial/) by Justin Johnson and the [NumPy Tutorial](https://www.oreilly.com/library/view/hands-on-machine-learning/9781491962282/) by Aurélien Géron."
   ]
  },
  {
   "cell_type": "markdown",
   "metadata": {
    "id": "vOF59eU6MJ4V"
   },
   "source": [
    "## Basics\n",
    "\n",
    "NumPy\n",
    "- is an optimized library for matrix and vector computation.\n",
    "- is the core library for scientific computing in Python.\n",
    "- makes use of C/C++ subroutines and memory-efficient data structures.\n",
    "- provides a high-performance multidimensional array object, and tools for working with these arrays\n",
    "\n",
    "To use NumPy, we first need to import the numpy package. Most people import it as `np`:"
   ]
  },
  {
   "cell_type": "code",
   "metadata": {
    "id": "dT5pX-MOIl_-"
   },
   "source": [
    "import numpy as np"
   ],
   "execution_count": null,
   "outputs": []
  },
  {
   "cell_type": "markdown",
   "metadata": {
    "id": "4Qy2TOD5NQkc"
   },
   "source": [
    "### Why NumPy?\n",
    "Vanilla Python:"
   ]
  },
  {
   "cell_type": "code",
   "metadata": {
    "id": "76aaDevFNPkQ",
    "outputId": "51f2014b-b384-4ac0-a7ed-ba2ea0969960",
    "colab": {
     "base_uri": "https://localhost:8080/",
     "height": 72
    }
   },
   "source": [
    "%%time\n",
    "a = list(range(int(1e6)))\n",
    "b = list(range(int(1e6)))"
   ],
   "execution_count": null,
   "outputs": [
    {
     "output_type": "stream",
     "text": [
      "CPU times: user 23.7 ms, sys: 59 ms, total: 82.7 ms\n",
      "Wall time: 82.5 ms\n"
     ],
     "name": "stdout"
    }
   ]
  },
  {
   "cell_type": "code",
   "metadata": {
    "id": "7bRheiFUN16z",
    "outputId": "c898080e-dca0-4c52-f2ee-152ee32f66bb",
    "colab": {
     "base_uri": "https://localhost:8080/",
     "height": 72
    }
   },
   "source": [
    "%%time\n",
    "for _ in range(10):\n",
    "  c = []\n",
    "  for i in range(len(a)):\n",
    "    c.append(a[i] + 2 * b[i])"
   ],
   "execution_count": null,
   "outputs": [
    {
     "output_type": "stream",
     "text": [
      "CPU times: user 2.31 s, sys: 179 ms, total: 2.49 s\n",
      "Wall time: 2.49 s\n"
     ],
     "name": "stdout"
    }
   ]
  },
  {
   "cell_type": "markdown",
   "metadata": {
    "id": "u9HQJ52AN5Ah"
   },
   "source": [
    "With NumPy:"
   ]
  },
  {
   "cell_type": "code",
   "metadata": {
    "id": "xQCVPBjeN7mj",
    "outputId": "23cf0a82-98a6-46fc-e74b-1917bffd254a",
    "colab": {
     "base_uri": "https://localhost:8080/",
     "height": 72
    }
   },
   "source": [
    "%%time\n",
    "a = np.arange(int(1e6))\n",
    "b = np.arange(int(1e6))"
   ],
   "execution_count": null,
   "outputs": [
    {
     "output_type": "stream",
     "text": [
      "CPU times: user 24.7 ms, sys: 6.8 ms, total: 31.5 ms\n",
      "Wall time: 33 ms\n"
     ],
     "name": "stdout"
    }
   ]
  },
  {
   "cell_type": "code",
   "metadata": {
    "id": "9q6IMd6SN7vE",
    "outputId": "338fae38-8b6c-4f2c-9194-7b05532632ba",
    "colab": {
     "base_uri": "https://localhost:8080/",
     "height": 72
    }
   },
   "source": [
    "%%time\n",
    "for _ in range(10):\n",
    "  c = a + 2 * b"
   ],
   "execution_count": null,
   "outputs": [
    {
     "output_type": "stream",
     "text": [
      "CPU times: user 56.7 ms, sys: 2.96 ms, total: 59.7 ms\n",
      "Wall time: 67.4 ms\n"
     ],
     "name": "stdout"
    }
   ]
  },
  {
   "cell_type": "markdown",
   "metadata": {
    "id": "vEC14WRsOLCI"
   },
   "source": [
    "**Remember**: Vectorization\n",
    "- is much faster (no type checking, collated memory)\n",
    "- easier to read\n",
    "- more closely resembles mathematical notation"
   ]
  },
  {
   "cell_type": "markdown",
   "metadata": {
    "id": "yLtpl06yKApv"
   },
   "source": [
    "## ndarrays: N-dimensional arrays\n",
    "\n",
    "A numpy array\n",
    "\n",
    "- is grid of values, all of the same type\n",
    "- has fixed size at creation\n",
    "- is indexed by tuple of nonnegative integers\n",
    "\n",
    "\n",
    "### Some vocabulary\n",
    "* In NumPy, each dimension is called an **axis**.\n",
    "* The number of axes is called the **rank**.\n",
    "    * For example, the above 3x4 matrix is an array of rank 2 (it is 2-dimensional).\n",
    "    * The first axis has length 3, the second has length 4.\n",
    "* An array's list of axis lengths is called the **shape** of the array.\n",
    "    * For example, the above matrix's shape is `(3, 4)`.\n",
    "    * The rank is equal to the shape's length.\n",
    "* The **size** of an array is the total number of elements, which is the product of all axis lengths (eg. 3*4=12)\n"
   ]
  },
  {
   "cell_type": "markdown",
   "metadata": {
    "id": "n_U07HobPpne"
   },
   "source": [
    "### Create Arrays\n",
    "We can initialize numpy arrays from nested Python lists, and access elements using square brackets:"
   ]
  },
  {
   "cell_type": "code",
   "metadata": {
    "id": "kR6e5zJ5KAp2",
    "outputId": "eb50563f-ca09-4896-d3b8-4b9e8cedb699",
    "colab": {
     "base_uri": "https://localhost:8080/",
     "height": 125
    }
   },
   "source": [
    "a = np.array([1, 2, 3])  # Create a rank 1 array\n",
    "\n",
    "print(type(a), a.shape, a[0], a[1], a[2])\n",
    "\n",
    "a[0] = 5                 # Change an element of the array\n",
    "\n",
    "print(a)\n",
    "print('shape:', a.shape)\n",
    "print('rank:', a.ndim)   # equal to len(a.shape)\n",
    "print('size:', a.size)"
   ],
   "execution_count": null,
   "outputs": [
    {
     "output_type": "stream",
     "text": [
      "<class 'numpy.ndarray'> (3,) 1 2 3\n",
      "[5 2 3]\n",
      "shape: (3,)\n",
      "rank: 1\n",
      "size: 3\n"
     ],
     "name": "stdout"
    }
   ]
  },
  {
   "cell_type": "code",
   "metadata": {
    "id": "VPIu7_7rKAp3",
    "outputId": "ed4c8c6d-964f-4cae-9e57-93562b765b43",
    "colab": {
     "base_uri": "https://localhost:8080/",
     "height": 125
    }
   },
   "source": [
    "a = np.array([[1,2,3],[4,5,6]])   # Create a rank 2 array\n",
    "print(a)\n",
    "print('shape:', a.shape)\n",
    "print('rank:', a.ndim)\n",
    "print('size:', a.size)"
   ],
   "execution_count": null,
   "outputs": [
    {
     "output_type": "stream",
     "text": [
      "[[1 2 3]\n",
      " [4 5 6]]\n",
      "shape: (2, 3)\n",
      "rank: 2\n",
      "size: 6\n"
     ],
     "name": "stdout"
    }
   ]
  },
  {
   "cell_type": "markdown",
   "metadata": {
    "id": "Tqf_4rwmKAp6"
   },
   "source": [
    "Numpy also provides many functions to create arrays:"
   ]
  },
  {
   "cell_type": "code",
   "metadata": {
    "id": "7seXsR38KAp6",
    "outputId": "e5d01bbd-0b0a-462d-ecd9-9a431d407631",
    "colab": {
     "base_uri": "https://localhost:8080/",
     "height": 72
    }
   },
   "source": [
    "a = np.zeros((2,2))  # Create an array of all zeros\n",
    "print(a)"
   ],
   "execution_count": null,
   "outputs": [
    {
     "output_type": "stream",
     "text": [
      "[[0. 0.]\n",
      " [0. 0.]]\n"
     ],
     "name": "stdout"
    }
   ]
  },
  {
   "cell_type": "code",
   "metadata": {
    "id": "3mAVvvqxKAp8",
    "outputId": "e67fa24a-0a7f-40de-d5b5-0d8cc477a95a",
    "colab": {
     "base_uri": "https://localhost:8080/",
     "height": 55
    }
   },
   "source": [
    "b = np.ones((1,2))   # Create an array of all ones\n",
    "print(b)"
   ],
   "execution_count": null,
   "outputs": [
    {
     "output_type": "stream",
     "text": [
      "[[1. 1.]]\n"
     ],
     "name": "stdout"
    }
   ]
  },
  {
   "cell_type": "code",
   "metadata": {
    "id": "6PJPXGUSKAp-",
    "outputId": "3a1afd23-de42-4e0f-a9f3-83d824d2b785",
    "colab": {
     "base_uri": "https://localhost:8080/",
     "height": 72
    }
   },
   "source": [
    "c = np.full((2,2), 7) # Create a constant array\n",
    "print(c)"
   ],
   "execution_count": null,
   "outputs": [
    {
     "output_type": "stream",
     "text": [
      "[[7 7]\n",
      " [7 7]]\n"
     ],
     "name": "stdout"
    }
   ]
  },
  {
   "cell_type": "code",
   "metadata": {
    "id": "0eMgqtgrKAqA",
    "outputId": "54086b52-1765-4dc9-c1c8-5a3ce0a205f7",
    "colab": {
     "base_uri": "https://localhost:8080/",
     "height": 72
    }
   },
   "source": [
    "d = np.eye(2)        # Create a 2x2 identity matrix\n",
    "print(d)"
   ],
   "execution_count": null,
   "outputs": [
    {
     "output_type": "stream",
     "text": [
      "[[1. 0.]\n",
      " [0. 1.]]\n"
     ],
     "name": "stdout"
    }
   ]
  },
  {
   "cell_type": "code",
   "metadata": {
    "id": "GbPahW15KAqB",
    "outputId": "e548e7f8-474e-4cc9-ca2b-d2abffa75487",
    "colab": {
     "base_uri": "https://localhost:8080/",
     "height": 72
    }
   },
   "source": [
    "e = np.random.rand(2,2) # Create an array filled with random values\n",
    "print(e)"
   ],
   "execution_count": null,
   "outputs": [
    {
     "output_type": "stream",
     "text": [
      "[[0.1566677  0.15483665]\n",
      " [0.21358936 0.08752244]]\n"
     ],
     "name": "stdout"
    }
   ]
  },
  {
   "cell_type": "code",
   "metadata": {
    "id": "PcwWpuy5mky3",
    "outputId": "bbef10d2-12a5-499f-87aa-69c86a90638d",
    "colab": {
     "base_uri": "https://localhost:8080/",
     "height": 72
    }
   },
   "source": [
    "f = np.random.randn( 2,2 ) # Create an array filled with normally distributed values\n",
    "print(f)"
   ],
   "execution_count": null,
   "outputs": [
    {
     "output_type": "stream",
     "text": [
      "[[1.72159002 0.46803639]\n",
      " [0.43374172 1.52218961]]\n"
     ],
     "name": "stdout"
    }
   ]
  },
  {
   "cell_type": "markdown",
   "metadata": {
    "id": "Wkfy66OFp_Ql"
   },
   "source": [
    "To give you a feel of what these distributions look like, let's use matplotlib (see the [matplotlib tutorial](tools_matplotlib.ipynb) for more details):"
   ]
  },
  {
   "cell_type": "code",
   "metadata": {
    "id": "Uhm-1wrJpqdG",
    "outputId": "c19d007f-d1ea-45f3-aa6f-222f3c55bf80",
    "colab": {
     "base_uri": "https://localhost:8080/",
     "height": 315
    }
   },
   "source": [
    "%matplotlib inline\n",
    "import matplotlib.pyplot as plt\n",
    "\n",
    "plt.hist(np.random.rand(100000), density=True, bins=100, histtype=\"step\", color=\"blue\", label=\"rand\")\n",
    "plt.hist(np.random.randn(100000), density=True, bins=100, histtype=\"step\", color=\"red\", label=\"randn\")\n",
    "plt.axis([-2.5, 2.5, 0, 1.1])\n",
    "plt.legend(loc = \"upper left\")\n",
    "plt.title(\"Random distributions\")\n",
    "plt.xlabel(\"Value\")\n",
    "plt.ylabel(\"Density\")\n",
    "plt.show()"
   ],
   "execution_count": null,
   "outputs": [
    {
     "output_type": "display_data",
     "data": {
      "image/png": "[encoded data removed]",
      "text/plain": [
       "<Figure size 432x288 with 1 Axes>"
      ]
     },
     "metadata": {
      "tags": []
     }
    }
   ]
  },
  {
   "cell_type": "markdown",
   "metadata": {
    "id": "Un1YDH5tplob"
   },
   "source": [
    "You can create an `ndarray` using NumPy's `range` function (similar to python's built-in `range` function):"
   ]
  },
  {
   "cell_type": "code",
   "metadata": {
    "id": "HYArqxT-m6__",
    "outputId": "2136f5bf-4aef-47e1-d602-311385b6acbd",
    "colab": {
     "base_uri": "https://localhost:8080/",
     "height": 55
    }
   },
   "source": [
    "g = np.arange(1.0, 5)\n",
    "print(g)"
   ],
   "execution_count": null,
   "outputs": [
    {
     "output_type": "stream",
     "text": [
      "[1. 2. 3. 4.]\n"
     ],
     "name": "stdout"
    }
   ]
  },
  {
   "cell_type": "markdown",
   "metadata": {
    "id": "XiD_qOE_nuwx"
   },
   "source": [
    "However, when dealing with floats, the exact number of elements in the array is not always predictible. For example, consider this:"
   ]
  },
  {
   "cell_type": "code",
   "metadata": {
    "id": "jX0sScp7nvyt",
    "outputId": "6f5b2f17-48c0-4dea-a456-668a527b6f82",
    "colab": {
     "base_uri": "https://localhost:8080/",
     "height": 90
    }
   },
   "source": [
    "print(np.arange(0, 5/3, 1/3)) # depending on floating point errors, the max value is 4/3 or 5/3.\n",
    "print(np.arange(0, 5/3, 0.333333333))\n",
    "print(np.arange(0, 5/3, 0.333333334))"
   ],
   "execution_count": null,
   "outputs": [
    {
     "output_type": "stream",
     "text": [
      "[0.         0.33333333 0.66666667 1.         1.33333333 1.66666667]\n",
      "[0.         0.33333333 0.66666667 1.         1.33333333 1.66666667]\n",
      "[0.         0.33333333 0.66666667 1.         1.33333334]\n"
     ],
     "name": "stdout"
    }
   ]
  },
  {
   "cell_type": "markdown",
   "metadata": {
    "id": "sJ1uu_Hwn7bM"
   },
   "source": [
    "For this reason, it is generally preferable to use the `linspace` function instead of `arange` when working with floats. The `linspace` function returns an array containing a specific number of points evenly distributed between two values (note that the maximum value is *included*, contrary to `arange`):"
   ]
  },
  {
   "cell_type": "code",
   "metadata": {
    "id": "D8Fs3zkXnLiz",
    "outputId": "152a4e9c-2e1d-4621-aa85-5b474a7a402f",
    "colab": {
     "base_uri": "https://localhost:8080/",
     "height": 72
    }
   },
   "source": [
    "h = np.linspace(0, 5/3, 6)\n",
    "print(h)\n",
    "h = np.linspace(1, 4.5, 8)\n",
    "print(h)"
   ],
   "execution_count": null,
   "outputs": [
    {
     "output_type": "stream",
     "text": [
      "[0.         0.33333333 0.66666667 1.         1.33333333 1.66666667]\n",
      "[1.  1.5 2.  2.5 3.  3.5 4.  4.5]\n"
     ],
     "name": "stdout"
    }
   ]
  },
  {
   "cell_type": "markdown",
   "metadata": {
    "id": "c_9uz4NuokE1"
   },
   "source": [
    "Instead of linear spacing, you can also create arrays with logarithmic spacing:"
   ]
  },
  {
   "cell_type": "code",
   "metadata": {
    "id": "I90UU9b1nLpK",
    "outputId": "96c76162-8046-48fd-a58d-61620b643972",
    "colab": {
     "base_uri": "https://localhost:8080/",
     "height": 55
    }
   },
   "source": [
    "i = np.logspace(0, 3, 4)\n",
    "print(i)"
   ],
   "execution_count": null,
   "outputs": [
    {
     "output_type": "stream",
     "text": [
      "[   1.   10.  100. 1000.]\n"
     ],
     "name": "stdout"
    }
   ]
  },
  {
   "cell_type": "markdown",
   "metadata": {
    "id": "WJjyK9Dfqe1K"
   },
   "source": [
    "### Data Types\n",
    "NumPy's `ndarray`s are also efficient in part because all their elements must have the same type (usually numbers).\n",
    "You can check what the data type is by looking at the `dtype` attribute:"
   ]
  },
  {
   "cell_type": "code",
   "metadata": {
    "id": "Sg0MxRccqhD5",
    "outputId": "f14581c8-cb05-466d-d376-9b35a4742f39",
    "colab": {
     "base_uri": "https://localhost:8080/",
     "height": 55
    }
   },
   "source": [
    "c = np.arange(1, 5)\n",
    "print(c.dtype, c)"
   ],
   "execution_count": null,
   "outputs": [
    {
     "output_type": "stream",
     "text": [
      "int64 [1 2 3 4]\n"
     ],
     "name": "stdout"
    }
   ]
  },
  {
   "cell_type": "code",
   "metadata": {
    "id": "ZJj9rvRvrQTD",
    "outputId": "cb9ea7ca-aa8c-4277-b2df-61110233b29b",
    "colab": {
     "base_uri": "https://localhost:8080/",
     "height": 55
    }
   },
   "source": [
    "c = np.arange(1.0, 5.0)\n",
    "print(c.dtype, c)"
   ],
   "execution_count": null,
   "outputs": [
    {
     "output_type": "stream",
     "text": [
      "float64 [1. 2. 3. 4.]\n"
     ],
     "name": "stdout"
    }
   ]
  },
  {
   "cell_type": "markdown",
   "metadata": {
    "id": "WxmxJ7jzrdC9"
   },
   "source": [
    "Instead of letting NumPy guess what data type to use, you can set it explicitly when creating an array by setting the `dtype` parameter:"
   ]
  },
  {
   "cell_type": "code",
   "metadata": {
    "id": "TNMW1NWurW9z",
    "outputId": "006a82cc-f811-4c2c-8f58-cf6cab91a1ed",
    "colab": {
     "base_uri": "https://localhost:8080/",
     "height": 72
    }
   },
   "source": [
    "d = np.arange(1, 5, dtype=np.float16) # half precision float\n",
    "print(d.dtype, d)\n",
    "\n",
    "d = np.arange(1, 5, dtype=np.complex64)\n",
    "print(d.dtype, d)"
   ],
   "execution_count": null,
   "outputs": [
    {
     "output_type": "stream",
     "text": [
      "float16 [1. 2. 3. 4.]\n",
      "complex64 [1.+0.j 2.+0.j 3.+0.j 4.+0.j]\n"
     ],
     "name": "stdout"
    }
   ]
  },
  {
   "cell_type": "markdown",
   "metadata": {
    "id": "v1jehta9r1-y"
   },
   "source": [
    "Available data types include `int8`, `int16`, `int32`, `int64`, `uint8`|`16`|`32`|`64`, `float16`|`32`|`64` and `complex64`|`128`. Check out [the documentation](http://docs.scipy.org/doc/numpy-1.10.1/user/basics.types.html) for the full list.\n",
    "\n",
    "The `itemsize` attribute returns the size (in bytes) of each item:"
   ]
  },
  {
   "cell_type": "code",
   "metadata": {
    "id": "Awjj6lmMr_wo",
    "outputId": "67f9a8da-5e94-4ea0-9292-004084e20785",
    "colab": {
     "base_uri": "https://localhost:8080/",
     "height": 90
    }
   },
   "source": [
    "d = np.arange(1, 5, dtype=np.float16) # half precision float\n",
    "print(d.dtype, d, d.itemsize)\n",
    "\n",
    "d = np.arange(1, 5, dtype=np.float32) # single precision float\n",
    "print(d.dtype, d, d.itemsize)\n",
    "\n",
    "d = np.arange(1, 5, dtype=np.float64) # double precision float\n",
    "print(d.dtype, d, d.itemsize)\n"
   ],
   "execution_count": null,
   "outputs": [
    {
     "output_type": "stream",
     "text": [
      "float16 [1. 2. 3. 4.] 2\n",
      "float32 [1. 2. 3. 4.] 4\n",
      "float64 [1. 2. 3. 4.] 8\n"
     ],
     "name": "stdout"
    }
   ]
  },
  {
   "cell_type": "markdown",
   "metadata": {
    "id": "xLk2Gn_-swN0"
   },
   "source": [
    "## Reshaping an array"
   ]
  },
  {
   "cell_type": "markdown",
   "metadata": {
    "id": "NntG_Bd1uYAs"
   },
   "source": [
    "### In place\n",
    "Changing the shape of an `ndarray` is as simple as setting its `shape` attribute. However, the array's size must remain the same."
   ]
  },
  {
   "cell_type": "code",
   "metadata": {
    "id": "HzHOxKg3sN5P",
    "outputId": "5c7cb2a1-e426-4dbc-d78d-b8af539b6f8d",
    "colab": {
     "base_uri": "https://localhost:8080/",
     "height": 72
    }
   },
   "source": [
    "g = np.arange(24)\n",
    "print(g)\n",
    "print(\"Rank:\", g.ndim)"
   ],
   "execution_count": null,
   "outputs": [
    {
     "output_type": "stream",
     "text": [
      "[ 0  1  2  3  4  5  6  7  8  9 10 11 12 13 14 15 16 17 18 19 20 21 22 23]\n",
      "Rank: 1\n"
     ],
     "name": "stdout"
    }
   ]
  },
  {
   "cell_type": "code",
   "metadata": {
    "id": "Zm0JUZwUs5V3",
    "outputId": "b3316c36-187a-4a40-8ea6-e2814739d4b5",
    "colab": {
     "base_uri": "https://localhost:8080/",
     "height": 160
    }
   },
   "source": [
    "g.shape = (6, 4)\n",
    "print(g)\n",
    "print(\"Rank:\", g.ndim)"
   ],
   "execution_count": null,
   "outputs": [
    {
     "output_type": "stream",
     "text": [
      "[[ 0  1  2  3]\n",
      " [ 4  5  6  7]\n",
      " [ 8  9 10 11]\n",
      " [12 13 14 15]\n",
      " [16 17 18 19]\n",
      " [20 21 22 23]]\n",
      "Rank: 2\n"
     ],
     "name": "stdout"
    }
   ]
  },
  {
   "cell_type": "code",
   "metadata": {
    "id": "c_1GQm_Ns9GT",
    "outputId": "9fec20c5-4974-46f5-a38e-7256a368390f",
    "colab": {
     "base_uri": "https://localhost:8080/",
     "height": 178
    }
   },
   "source": [
    "g.shape = (2, 3, 4)\n",
    "print(g)\n",
    "print(\"Rank:\", g.ndim)"
   ],
   "execution_count": null,
   "outputs": [
    {
     "output_type": "stream",
     "text": [
      "[[[ 0  1  2  3]\n",
      "  [ 4  5  6  7]\n",
      "  [ 8  9 10 11]]\n",
      "\n",
      " [[12 13 14 15]\n",
      "  [16 17 18 19]\n",
      "  [20 21 22 23]]]\n",
      "Rank: 3\n"
     ],
     "name": "stdout"
    }
   ]
  },
  {
   "cell_type": "markdown",
   "metadata": {
    "id": "xcRUhQEYtHNx"
   },
   "source": [
    "### `reshape`\n",
    "The `reshape` function returns a new `ndarray` object pointing at the *same* data. This means that modifying one array will also modify the other. More on data views and copies later."
   ]
  },
  {
   "cell_type": "code",
   "metadata": {
    "id": "Zb_jSlqqs-nT",
    "outputId": "ace85ecf-c441-45f8-b505-26b8ca322801",
    "colab": {
     "base_uri": "https://localhost:8080/",
     "height": 125
    }
   },
   "source": [
    "g2 = g.reshape(4,6)\n",
    "print(g2)\n",
    "print(\"Rank:\", g2.ndim)"
   ],
   "execution_count": null,
   "outputs": [
    {
     "output_type": "stream",
     "text": [
      "[[ 0  1  2  3  4  5]\n",
      " [ 6  7  8  9 10 11]\n",
      " [12 13 14 15 16 17]\n",
      " [18 19 20 21 22 23]]\n",
      "Rank: 2\n"
     ],
     "name": "stdout"
    }
   ]
  },
  {
   "cell_type": "markdown",
   "metadata": {
    "id": "xTdsM8w6tW1m"
   },
   "source": [
    "Set item at row 1, col 2 to 999 (more about indexing below)."
   ]
  },
  {
   "cell_type": "code",
   "metadata": {
    "id": "eIRIdQJCtYHL",
    "outputId": "90b94803-9332-4034-db1a-a442bf8cc5a4",
    "colab": {
     "base_uri": "https://localhost:8080/",
     "height": 108
    }
   },
   "source": [
    "g2[1, 2] = 999\n",
    "print(g2)"
   ],
   "execution_count": null,
   "outputs": [
    {
     "output_type": "stream",
     "text": [
      "[[  0   1   2   3   4   5]\n",
      " [  6   7 999   9  10  11]\n",
      " [ 12  13  14  15  16  17]\n",
      " [ 18  19  20  21  22  23]]\n"
     ],
     "name": "stdout"
    }
   ]
  },
  {
   "cell_type": "markdown",
   "metadata": {
    "id": "mx8DvPqytndQ"
   },
   "source": [
    "The corresponding element in `g` has been modified."
   ]
  },
  {
   "cell_type": "code",
   "metadata": {
    "id": "fiSwg9sZtmtg",
    "outputId": "61b3735a-0991-4fbd-9a67-7b848b864336",
    "colab": {
     "base_uri": "https://localhost:8080/",
     "height": 160
    }
   },
   "source": [
    "print(g)"
   ],
   "execution_count": null,
   "outputs": [
    {
     "output_type": "stream",
     "text": [
      "[[[  0   1   2   3]\n",
      "  [  4   5   6   7]\n",
      "  [999   9  10  11]]\n",
      "\n",
      " [[ 12  13  14  15]\n",
      "  [ 16  17  18  19]\n",
      "  [ 20  21  22  23]]]\n"
     ],
     "name": "stdout"
    }
   ]
  },
  {
   "cell_type": "markdown",
   "metadata": {
    "id": "_8HaUHwRt6jS"
   },
   "source": [
    "### `ravel`\n",
    "The `ravel` function returns a new one-dimensional `ndarray` that also points to the same data:"
   ]
  },
  {
   "cell_type": "code",
   "metadata": {
    "id": "pGg-GWY3tYgY",
    "outputId": "434d49c5-a594-4d08-e186-8af2eb197e64",
    "colab": {
     "base_uri": "https://localhost:8080/",
     "height": 72
    }
   },
   "source": [
    "g.ravel()"
   ],
   "execution_count": null,
   "outputs": [
    {
     "output_type": "execute_result",
     "data": {
      "text/plain": [
       "array([  0,   1,   2,   3,   4,   5,   6,   7, 999,   9,  10,  11,  12,\n",
       "        13,  14,  15,  16,  17,  18,  19,  20,  21,  22,  23])"
      ]
     },
     "metadata": {
      "tags": []
     },
     "execution_count": 31
    }
   ]
  },
  {
   "cell_type": "markdown",
   "metadata": {
    "id": "1jDLVkXRuaNR"
   },
   "source": [
    "### flatten\n",
    "For a one-dimensional **copy** of the data, use the `flatten` function:"
   ]
  },
  {
   "cell_type": "code",
   "metadata": {
    "id": "0Hc6JMFvubxd",
    "outputId": "a637282e-cad2-4099-d062-f08c7822fb1f",
    "colab": {
     "base_uri": "https://localhost:8080/",
     "height": 55
    }
   },
   "source": [
    "g3 = g2.flatten()\n",
    "print(g3.shape, g2.shape)"
   ],
   "execution_count": null,
   "outputs": [
    {
     "output_type": "stream",
     "text": [
      "(24,) (4, 6)\n"
     ],
     "name": "stdout"
    }
   ]
  },
  {
   "cell_type": "markdown",
   "metadata": {
    "id": "2VdRClvF0Unh"
   },
   "source": [
    "Apart from flattening arrays, we frequently need to transpose a matrix:"
   ]
  },
  {
   "cell_type": "code",
   "metadata": {
    "id": "y_06OoxT0nfG",
    "outputId": "e3a2ba47-4c28-420f-ee3a-386be94d49bd",
    "colab": {
     "base_uri": "https://localhost:8080/",
     "height": 143
    }
   },
   "source": [
    "print(g2.T)"
   ],
   "execution_count": null,
   "outputs": [
    {
     "output_type": "stream",
     "text": [
      "[[  0   6  12  18]\n",
      " [  1   7  13  19]\n",
      " [  2 999  14  20]\n",
      " [  3   9  15  21]\n",
      " [  4  10  16  22]\n",
      " [  5  11  17  23]]\n"
     ],
     "name": "stdout"
    }
   ]
  },
  {
   "cell_type": "markdown",
   "metadata": {
    "id": "2kOlLln65H6V"
   },
   "source": [
    ""
   ]
  },
  {
   "cell_type": "markdown",
   "metadata": {
    "id": "mUJbD1yrBDgN"
   },
   "source": [
    "## Array indexing"
   ]
  },
  {
   "cell_type": "markdown",
   "metadata": {
    "id": "XgFipUGF7DhM"
   },
   "source": [
    "### One-dimensional arrays\n",
    "One-dimensional NumPy arrays can be accessed more or less like regular python arrays:"
   ]
  },
  {
   "cell_type": "code",
   "metadata": {
    "id": "5THGlllbBDgN",
    "outputId": "03963c82-fdd4-4651-b80f-df5eb4832f82",
    "colab": {
     "base_uri": "https://localhost:8080/",
     "height": 55
    }
   },
   "source": [
    "a = np.array([1, 5, 3, 19, 13, 7, 3])\n",
    "a[3]"
   ],
   "execution_count": null,
   "outputs": [
    {
     "output_type": "execute_result",
     "data": {
      "text/plain": [
       "19"
      ]
     },
     "metadata": {
      "tags": []
     },
     "execution_count": 34
    }
   ]
  },
  {
   "cell_type": "code",
   "metadata": {
    "id": "NuipWRhrBDgP",
    "outputId": "37b2f00e-2573-4842-bbca-cd3f0381690a",
    "colab": {
     "base_uri": "https://localhost:8080/",
     "height": 55
    }
   },
   "source": [
    "a[2:5]"
   ],
   "execution_count": null,
   "outputs": [
    {
     "output_type": "execute_result",
     "data": {
      "text/plain": [
       "array([ 3, 19, 13])"
      ]
     },
     "metadata": {
      "tags": []
     },
     "execution_count": 35
    }
   ]
  },
  {
   "cell_type": "code",
   "metadata": {
    "id": "uIvNtuWEBDgS",
    "outputId": "cb4f08e7-0e16-4294-8159-47d09b4c560a",
    "colab": {
     "base_uri": "https://localhost:8080/",
     "height": 55
    }
   },
   "source": [
    "a[2:-1]"
   ],
   "execution_count": null,
   "outputs": [
    {
     "output_type": "execute_result",
     "data": {
      "text/plain": [
       "array([ 3, 19, 13,  7])"
      ]
     },
     "metadata": {
      "tags": []
     },
     "execution_count": 36
    }
   ]
  },
  {
   "cell_type": "code",
   "metadata": {
    "id": "LMcjnatWBDgU"
   },
   "source": [
    "a[:2]"
   ],
   "execution_count": null,
   "outputs": []
  },
  {
   "cell_type": "code",
   "metadata": {
    "id": "0mpfplpuBDgW",
    "outputId": "ea78a8f7-3a8e-4aa3-9710-89a740d456d2",
    "colab": {
     "base_uri": "https://localhost:8080/",
     "height": 55
    }
   },
   "source": [
    "a[2::2]"
   ],
   "execution_count": null,
   "outputs": [
    {
     "output_type": "execute_result",
     "data": {
      "text/plain": [
       "array([ 3, 13,  3])"
      ]
     },
     "metadata": {
      "tags": []
     },
     "execution_count": 37
    }
   ]
  },
  {
   "cell_type": "code",
   "metadata": {
    "id": "vdLWyZWLBDgY",
    "outputId": "8bbf08e7-80c2-4eb3-8357-350f70a3709a",
    "colab": {
     "base_uri": "https://localhost:8080/",
     "height": 55
    }
   },
   "source": [
    "a[::-1]"
   ],
   "execution_count": null,
   "outputs": [
    {
     "output_type": "execute_result",
     "data": {
      "text/plain": [
       "array([ 3,  7, 13, 19,  3,  5,  1])"
      ]
     },
     "metadata": {
      "tags": []
     },
     "execution_count": 38
    }
   ]
  },
  {
   "cell_type": "markdown",
   "metadata": {
    "id": "FtNVhSMTBDga"
   },
   "source": [
    "Of course, you can modify elements:"
   ]
  },
  {
   "cell_type": "code",
   "metadata": {
    "id": "SWgmnVW1BDgb",
    "outputId": "f60b9c7f-9e8b-4660-94ff-ed02187b919e",
    "colab": {
     "base_uri": "https://localhost:8080/",
     "height": 55
    }
   },
   "source": [
    "a[3]=999\n",
    "a"
   ],
   "execution_count": null,
   "outputs": [
    {
     "output_type": "execute_result",
     "data": {
      "text/plain": [
       "array([  1,   5,   3, 999,  13,   7,   3])"
      ]
     },
     "metadata": {
      "tags": []
     },
     "execution_count": 39
    }
   ]
  },
  {
   "cell_type": "markdown",
   "metadata": {
    "id": "LcE2b1n7BDgd"
   },
   "source": [
    "You can also modify an `ndarray` slice:"
   ]
  },
  {
   "cell_type": "code",
   "metadata": {
    "id": "Ka99YqXeBDgd",
    "outputId": "c545c2c9-9cb1-4363-db99-6bcb24d603c4",
    "colab": {
     "base_uri": "https://localhost:8080/",
     "height": 55
    }
   },
   "source": [
    "a[2:5] = [997, 998, 999]\n",
    "a"
   ],
   "execution_count": null,
   "outputs": [
    {
     "output_type": "execute_result",
     "data": {
      "text/plain": [
       "array([  1,   5, 997, 998, 999,   7,   3])"
      ]
     },
     "metadata": {
      "tags": []
     },
     "execution_count": 40
    }
   ]
  },
  {
   "cell_type": "markdown",
   "metadata": {
    "id": "g65wzO87BDgh"
   },
   "source": [
    "Of course, you cannot grow or shrink `ndarray`s this way:"
   ]
  },
  {
   "cell_type": "code",
   "metadata": {
    "scrolled": false,
    "id": "Jld7mDdbBDgi",
    "outputId": "19bfbdf7-15ed-47b0-ad84-520eb0f68a2a",
    "colab": {
     "base_uri": "https://localhost:8080/",
     "height": 55
    }
   },
   "source": [
    "try:\n",
    "    a[2:5] = [1,2,3,4,5,6]  # too long\n",
    "except ValueError as e:\n",
    "    print(e)"
   ],
   "execution_count": null,
   "outputs": [
    {
     "output_type": "stream",
     "text": [
      "cannot copy sequence with size 6 to array axis with dimension 3\n"
     ],
     "name": "stdout"
    }
   ]
  },
  {
   "cell_type": "markdown",
   "metadata": {
    "id": "st0V76GIBDgj"
   },
   "source": [
    "You cannot delete elements either:"
   ]
  },
  {
   "cell_type": "code",
   "metadata": {
    "id": "4B5ZufwCBDgk",
    "outputId": "29c2661a-9324-462d-ae06-d3fddca30d06",
    "colab": {
     "base_uri": "https://localhost:8080/",
     "height": 55
    }
   },
   "source": [
    "try:\n",
    "    del a[2:5]\n",
    "except ValueError as e:\n",
    "    print(e)"
   ],
   "execution_count": null,
   "outputs": [
    {
     "output_type": "stream",
     "text": [
      "cannot delete array elements\n"
     ],
     "name": "stdout"
    }
   ]
  },
  {
   "cell_type": "markdown",
   "metadata": {
    "id": "EJe77p1XBDgs"
   },
   "source": [
    "### Multi-dimensional arrays\n",
    "Multi-dimensional arrays can be accessed in a similar way by providing an index or slice for each axis, separated by commas:"
   ]
  },
  {
   "cell_type": "code",
   "metadata": {
    "id": "0wO97ND0BDgt",
    "outputId": "5c0a05c8-fe41-4a30-9334-c2b9626ca96b",
    "colab": {
     "base_uri": "https://localhost:8080/",
     "height": 108
    }
   },
   "source": [
    "b = np.arange(48).reshape(4, 12)\n",
    "b"
   ],
   "execution_count": null,
   "outputs": [
    {
     "output_type": "execute_result",
     "data": {
      "text/plain": [
       "array([[ 0,  1,  2,  3,  4,  5,  6,  7,  8,  9, 10, 11],\n",
       "       [12, 13, 14, 15, 16, 17, 18, 19, 20, 21, 22, 23],\n",
       "       [24, 25, 26, 27, 28, 29, 30, 31, 32, 33, 34, 35],\n",
       "       [36, 37, 38, 39, 40, 41, 42, 43, 44, 45, 46, 47]])"
      ]
     },
     "metadata": {
      "tags": []
     },
     "execution_count": 43
    }
   ]
  },
  {
   "cell_type": "code",
   "metadata": {
    "id": "tvhEES29BDgv",
    "outputId": "356d83a1-ba83-4054-bb76-b47497160bab",
    "colab": {
     "base_uri": "https://localhost:8080/",
     "height": 55
    }
   },
   "source": [
    "b[1, 2]  # row 1, col 2"
   ],
   "execution_count": null,
   "outputs": [
    {
     "output_type": "execute_result",
     "data": {
      "text/plain": [
       "14"
      ]
     },
     "metadata": {
      "tags": []
     },
     "execution_count": 44
    }
   ]
  },
  {
   "cell_type": "code",
   "metadata": {
    "id": "NxDIebZzBDgy",
    "outputId": "f9604686-1de2-440b-c9b6-bba122e24c9d",
    "colab": {
     "base_uri": "https://localhost:8080/",
     "height": 55
    }
   },
   "source": [
    "b[1, :]  # row 1, all columns"
   ],
   "execution_count": null,
   "outputs": [
    {
     "output_type": "execute_result",
     "data": {
      "text/plain": [
       "array([12, 13, 14, 15, 16, 17, 18, 19, 20, 21, 22, 23])"
      ]
     },
     "metadata": {
      "tags": []
     },
     "execution_count": 45
    }
   ]
  },
  {
   "cell_type": "code",
   "metadata": {
    "id": "gi6S9MA5BDg2",
    "outputId": "cb7c65fe-c83e-493b-8641-18b649399a37",
    "colab": {
     "base_uri": "https://localhost:8080/",
     "height": 55
    }
   },
   "source": [
    "b[:, 1]  # all rows, column 1"
   ],
   "execution_count": null,
   "outputs": [
    {
     "output_type": "execute_result",
     "data": {
      "text/plain": [
       "array([ 1, 13, 25, 37])"
      ]
     },
     "metadata": {
      "tags": []
     },
     "execution_count": 46
    }
   ]
  },
  {
   "cell_type": "markdown",
   "metadata": {
    "id": "DXirJVmmBDg4"
   },
   "source": [
    "**Caution**: note the subtle difference between these two expressions: "
   ]
  },
  {
   "cell_type": "code",
   "metadata": {
    "scrolled": true,
    "id": "Dy6uZGdbBDg6",
    "outputId": "8071d764-af4b-416d-d4ad-725c1e34cd20",
    "colab": {
     "base_uri": "https://localhost:8080/",
     "height": 55
    }
   },
   "source": [
    "b[1, :]"
   ],
   "execution_count": null,
   "outputs": [
    {
     "output_type": "execute_result",
     "data": {
      "text/plain": [
       "array([12, 13, 14, 15, 16, 17, 18, 19, 20, 21, 22, 23])"
      ]
     },
     "metadata": {
      "tags": []
     },
     "execution_count": 47
    }
   ]
  },
  {
   "cell_type": "code",
   "metadata": {
    "id": "sawpfKebBDg7",
    "outputId": "902e161b-dc18-40bd-e94c-2f7c23eec75b",
    "colab": {
     "base_uri": "https://localhost:8080/",
     "height": 55
    }
   },
   "source": [
    "b[1:2, :]"
   ],
   "execution_count": null,
   "outputs": [
    {
     "output_type": "execute_result",
     "data": {
      "text/plain": [
       "array([[12, 13, 14, 15, 16, 17, 18, 19, 20, 21, 22, 23]])"
      ]
     },
     "metadata": {
      "tags": []
     },
     "execution_count": 48
    }
   ]
  },
  {
   "cell_type": "markdown",
   "metadata": {
    "id": "QYotoXpVBDg9"
   },
   "source": [
    "The first expression returns row 1 as a 1D array of shape `(12,)`, while the second returns that same row as a 2D array of shape `(1, 12)`."
   ]
  },
  {
   "cell_type": "markdown",
   "metadata": {
    "id": "DqqptBvQBDg9"
   },
   "source": [
    "### Fancy indexing\n",
    "You may also specify a list of indices that you are interested in. This is referred to as *fancy indexing*."
   ]
  },
  {
   "cell_type": "code",
   "metadata": {
    "scrolled": true,
    "id": "dMtcdcxIBDg-",
    "outputId": "e7fafb68-26be-465f-f9f3-a87adf538543",
    "colab": {
     "base_uri": "https://localhost:8080/",
     "height": 72
    }
   },
   "source": [
    "b[(0,2), 2:5]  # rows 0 and 2, columns 2 to 4 (5-1)"
   ],
   "execution_count": null,
   "outputs": [
    {
     "output_type": "execute_result",
     "data": {
      "text/plain": [
       "array([[ 2,  3,  4],\n",
       "       [26, 27, 28]])"
      ]
     },
     "metadata": {
      "tags": []
     },
     "execution_count": 49
    }
   ]
  },
  {
   "cell_type": "code",
   "metadata": {
    "id": "0VCigR0SBDhA",
    "outputId": "96be3616-c65b-4bce-b0a6-2f448c77419e",
    "colab": {
     "base_uri": "https://localhost:8080/",
     "height": 108
    }
   },
   "source": [
    "b[:, (-1, 2, -1)]  # all rows, columns -1 (last), 2 and -1 (again, and in this order)"
   ],
   "execution_count": null,
   "outputs": [
    {
     "output_type": "execute_result",
     "data": {
      "text/plain": [
       "array([[11,  2, 11],\n",
       "       [23, 14, 23],\n",
       "       [35, 26, 35],\n",
       "       [47, 38, 47]])"
      ]
     },
     "metadata": {
      "tags": []
     },
     "execution_count": 50
    }
   ]
  },
  {
   "cell_type": "markdown",
   "metadata": {
    "id": "-dyRKwnjBDhC"
   },
   "source": [
    "If you provide multiple index arrays, you get a 1D `ndarray` containing the values of the elements at the specified coordinates."
   ]
  },
  {
   "cell_type": "code",
   "metadata": {
    "id": "dmfctkKsBDhC"
   },
   "source": [
    "b[(-1, 2, -1, 2), (5, 9, 1, 9)]  # returns a 1D array with b[-1, 5], b[2, 9], b[-1, 1] and b[2, 9] (again)"
   ],
   "execution_count": null,
   "outputs": []
  },
  {
   "cell_type": "markdown",
   "metadata": {
    "id": "nEONtZCnBDhE"
   },
   "source": [
    "### Higher dimensions\n",
    "Everything works just as well with higher dimensional arrays, but it's useful to look at a few examples:"
   ]
  },
  {
   "cell_type": "code",
   "metadata": {
    "id": "mpwWui_MBDhE",
    "outputId": "98f1c419-eb62-4c5b-fd68-dff6e486d7e1",
    "colab": {
     "base_uri": "https://localhost:8080/",
     "height": 231
    }
   },
   "source": [
    "c = b.reshape(4,2,6)\n",
    "c"
   ],
   "execution_count": null,
   "outputs": [
    {
     "output_type": "execute_result",
     "data": {
      "text/plain": [
       "array([[[ 0,  1,  2,  3,  4,  5],\n",
       "        [ 6,  7,  8,  9, 10, 11]],\n",
       "\n",
       "       [[12, 13, 14, 15, 16, 17],\n",
       "        [18, 19, 20, 21, 22, 23]],\n",
       "\n",
       "       [[24, 25, 26, 27, 28, 29],\n",
       "        [30, 31, 32, 33, 34, 35]],\n",
       "\n",
       "       [[36, 37, 38, 39, 40, 41],\n",
       "        [42, 43, 44, 45, 46, 47]]])"
      ]
     },
     "metadata": {
      "tags": []
     },
     "execution_count": 51
    }
   ]
  },
  {
   "cell_type": "code",
   "metadata": {
    "id": "5NPq2q--BDhG",
    "outputId": "17021a5a-ca5a-4f43-b104-01854ada7105",
    "colab": {
     "base_uri": "https://localhost:8080/",
     "height": 55
    }
   },
   "source": [
    "c[2, 1, 4]  # matrix 2, row 1, col 4"
   ],
   "execution_count": null,
   "outputs": [
    {
     "output_type": "execute_result",
     "data": {
      "text/plain": [
       "34"
      ]
     },
     "metadata": {
      "tags": []
     },
     "execution_count": 52
    }
   ]
  },
  {
   "cell_type": "code",
   "metadata": {
    "id": "x8gWHQkoBDhH",
    "outputId": "9e68bec6-0403-4722-976e-7bd5220d6b09",
    "colab": {
     "base_uri": "https://localhost:8080/",
     "height": 55
    }
   },
   "source": [
    "c[2, :, 3]  # matrix 2, all rows, col 3"
   ],
   "execution_count": null,
   "outputs": [
    {
     "output_type": "execute_result",
     "data": {
      "text/plain": [
       "array([27, 33])"
      ]
     },
     "metadata": {
      "tags": []
     },
     "execution_count": 53
    }
   ]
  },
  {
   "cell_type": "markdown",
   "metadata": {
    "id": "rlEtnCVMBDhI"
   },
   "source": [
    "If you omit coordinates for some axes, then all elements in these axes are returned:"
   ]
  },
  {
   "cell_type": "code",
   "metadata": {
    "id": "Pjt3zGMNBDhI",
    "outputId": "e10046ea-511c-4a62-94f4-59fb0a10e6ce",
    "colab": {
     "base_uri": "https://localhost:8080/",
     "height": 55
    }
   },
   "source": [
    "c[2, 1]  # Return matrix 2, row 1, all columns.  This is equivalent to c[2, 1, :]"
   ],
   "execution_count": null,
   "outputs": [
    {
     "output_type": "execute_result",
     "data": {
      "text/plain": [
       "array([30, 31, 32, 33, 34, 35])"
      ]
     },
     "metadata": {
      "tags": []
     },
     "execution_count": 54
    }
   ]
  },
  {
   "cell_type": "markdown",
   "metadata": {
    "id": "K7euibeQBDhJ"
   },
   "source": [
    "### Ellipsis (`...`)\n",
    "You may also write an ellipsis (`...`) to ask that all non-specified axes be entirely included."
   ]
  },
  {
   "cell_type": "code",
   "metadata": {
    "id": "yMQI41tJBDhK",
    "outputId": "3d5f3d2c-ec3e-4822-afa6-a431242a1d83",
    "colab": {
     "base_uri": "https://localhost:8080/",
     "height": 72
    }
   },
   "source": [
    "c[2, ...]  #  matrix 2, all rows, all columns.  This is equivalent to c[2, :, :]"
   ],
   "execution_count": null,
   "outputs": [
    {
     "output_type": "execute_result",
     "data": {
      "text/plain": [
       "array([[24, 25, 26, 27, 28, 29],\n",
       "       [30, 31, 32, 33, 34, 35]])"
      ]
     },
     "metadata": {
      "tags": []
     },
     "execution_count": 55
    }
   ]
  },
  {
   "cell_type": "code",
   "metadata": {
    "id": "rPhwBR7yBDhN"
   },
   "source": [
    "c[2, 1, ...]  # matrix 2, row 1, all columns.  This is equivalent to c[2, 1, :]"
   ],
   "execution_count": null,
   "outputs": []
  },
  {
   "cell_type": "code",
   "metadata": {
    "id": "cgTJZOLgBDhO"
   },
   "source": [
    "c[2, ..., 3]  # matrix 2, all rows, column 3.  This is equivalent to c[2, :, 3]"
   ],
   "execution_count": null,
   "outputs": []
  },
  {
   "cell_type": "code",
   "metadata": {
    "scrolled": false,
    "id": "8mMqs1dwBDhP"
   },
   "source": [
    "c[..., 3]  # all matrices, all rows, column 3.  This is equivalent to c[:, :, 3]"
   ],
   "execution_count": null,
   "outputs": []
  },
  {
   "cell_type": "markdown",
   "metadata": {
    "id": "_IKAgDiGBDhR"
   },
   "source": [
    "### Boolean indexing\n",
    "You can also provide an `ndarray` of boolean values on one axis to specify the indices that you want to access."
   ]
  },
  {
   "cell_type": "code",
   "metadata": {
    "id": "ttzoZlqNBDhS",
    "outputId": "0d7e64b4-3187-483b-da93-175ec8445e68",
    "colab": {
     "base_uri": "https://localhost:8080/",
     "height": 108
    }
   },
   "source": [
    "b = np.arange(48).reshape(4, 12)\n",
    "b"
   ],
   "execution_count": null,
   "outputs": [
    {
     "output_type": "execute_result",
     "data": {
      "text/plain": [
       "array([[ 0,  1,  2,  3,  4,  5,  6,  7,  8,  9, 10, 11],\n",
       "       [12, 13, 14, 15, 16, 17, 18, 19, 20, 21, 22, 23],\n",
       "       [24, 25, 26, 27, 28, 29, 30, 31, 32, 33, 34, 35],\n",
       "       [36, 37, 38, 39, 40, 41, 42, 43, 44, 45, 46, 47]])"
      ]
     },
     "metadata": {
      "tags": []
     },
     "execution_count": 56
    }
   ]
  },
  {
   "cell_type": "code",
   "metadata": {
    "id": "_EJBPXP4BDhU",
    "outputId": "b861a92b-e055-499e-c5d4-159160b269e0",
    "colab": {
     "base_uri": "https://localhost:8080/",
     "height": 72
    }
   },
   "source": [
    "rows_on = np.array([True, False, True, False])\n",
    "b[rows_on, :]  # Rows 0 and 2, all columns. Equivalent to b[(0, 2), :]"
   ],
   "execution_count": null,
   "outputs": [
    {
     "output_type": "execute_result",
     "data": {
      "text/plain": [
       "array([[ 0,  1,  2,  3,  4,  5,  6,  7,  8,  9, 10, 11],\n",
       "       [24, 25, 26, 27, 28, 29, 30, 31, 32, 33, 34, 35]])"
      ]
     },
     "metadata": {
      "tags": []
     },
     "execution_count": 57
    }
   ]
  },
  {
   "cell_type": "code",
   "metadata": {
    "id": "2nlCFdtDBDhW",
    "outputId": "20aa97dd-a76b-4aaa-c417-b1d7eaa8cafb",
    "colab": {
     "base_uri": "https://localhost:8080/",
     "height": 108
    }
   },
   "source": [
    "cols_on = np.array([False, True, False] * 4)\n",
    "b[:, cols_on]  # All rows, columns 1, 4, 7 and 10"
   ],
   "execution_count": null,
   "outputs": [
    {
     "output_type": "execute_result",
     "data": {
      "text/plain": [
       "array([[ 1,  4,  7, 10],\n",
       "       [13, 16, 19, 22],\n",
       "       [25, 28, 31, 34],\n",
       "       [37, 40, 43, 46]])"
      ]
     },
     "metadata": {
      "tags": []
     },
     "execution_count": 58
    }
   ]
  },
  {
   "cell_type": "code",
   "metadata": {
    "id": "muPs5YD-BDhZ",
    "outputId": "e398b5ae-55c2-4707-c952-b327fed16633",
    "colab": {
     "base_uri": "https://localhost:8080/",
     "height": 72
    }
   },
   "source": [
    "b[np.ix_(rows_on, cols_on)]"
   ],
   "execution_count": null,
   "outputs": [
    {
     "output_type": "execute_result",
     "data": {
      "text/plain": [
       "array([[ 1,  4,  7, 10],\n",
       "       [25, 28, 31, 34]])"
      ]
     },
     "metadata": {
      "tags": []
     },
     "execution_count": 59
    }
   ]
  },
  {
   "cell_type": "code",
   "metadata": {
    "id": "PeESdvW0BDha"
   },
   "source": [
    "np.ix_(rows_on, cols_on)"
   ],
   "execution_count": null,
   "outputs": []
  },
  {
   "cell_type": "markdown",
   "metadata": {
    "id": "cm9HbiwbBDhb"
   },
   "source": [
    "If you use a boolean array that has the same shape as the `ndarray`, then you get in return a 1D array containing all the values that have `True` at their coordinate. This is generally used along with conditional operators:"
   ]
  },
  {
   "cell_type": "code",
   "metadata": {
    "id": "appw2L7xBDhd",
    "outputId": "249ffd47-d792-4320-92ca-8b2dfde891a9",
    "colab": {
     "base_uri": "https://localhost:8080/",
     "height": 55
    }
   },
   "source": [
    "b[b % 3 == 1]"
   ],
   "execution_count": null,
   "outputs": [
    {
     "output_type": "execute_result",
     "data": {
      "text/plain": [
       "array([ 1,  4,  7, 10, 13, 16, 19, 22, 25, 28, 31, 34, 37, 40, 43, 46])"
      ]
     },
     "metadata": {
      "tags": []
     },
     "execution_count": 60
    }
   ]
  },
  {
   "cell_type": "markdown",
   "metadata": {
    "id": "KccI2kWPwH7L"
   },
   "source": [
    "## Arithmetic Operations"
   ]
  },
  {
   "cell_type": "markdown",
   "metadata": {
    "id": "YykiKRUoyTak"
   },
   "source": [
    "### Elementwise Array Operations\n",
    "All the usual arithmetic operators (`+`, `-`, `*`, `/`, `//`, `**`, etc.) can be used with `ndarray`s. They apply *elementwise*. The arrays must have the same shape. If they do not, NumPy will apply the *broadcasting* rules. More on broadcasting later.\n",
    "\n",
    "Most operations are available as functions in the numpy namespace as well as instance methods:"
   ]
  },
  {
   "cell_type": "code",
   "metadata": {
    "id": "pEE972xnuf-d"
   },
   "source": [
    "x = np.array([[1,2],[3,4]], dtype=np.float64)\n",
    "y = np.array([[5,6],[7,8]], dtype=np.float64)"
   ],
   "execution_count": null,
   "outputs": []
  },
  {
   "cell_type": "code",
   "metadata": {
    "id": "CfYuQwUWxZOU",
    "outputId": "41551165-4b7a-48d0-eb03-5583dec98887",
    "colab": {
     "base_uri": "https://localhost:8080/",
     "height": 108
    }
   },
   "source": [
    "# Elementwise sum\n",
    "print(x + y)\n",
    "print(np.add(x, y))"
   ],
   "execution_count": null,
   "outputs": [
    {
     "output_type": "stream",
     "text": [
      "[[ 6.  8.]\n",
      " [10. 12.]]\n",
      "[[ 6.  8.]\n",
      " [10. 12.]]\n"
     ],
     "name": "stdout"
    }
   ]
  },
  {
   "cell_type": "code",
   "metadata": {
    "id": "8RS_SXvpxZQ_",
    "outputId": "601ed300-7cc2-4d9c-e5e6-c059436fda20",
    "colab": {
     "base_uri": "https://localhost:8080/",
     "height": 108
    }
   },
   "source": [
    "# Elementwise difference\n",
    "print(x - y)\n",
    "print(np.subtract(x, y))"
   ],
   "execution_count": null,
   "outputs": [
    {
     "output_type": "stream",
     "text": [
      "[[-4. -4.]\n",
      " [-4. -4.]]\n",
      "[[-4. -4.]\n",
      " [-4. -4.]]\n"
     ],
     "name": "stdout"
    }
   ]
  },
  {
   "cell_type": "code",
   "metadata": {
    "id": "bCO2CNKQxXrT",
    "outputId": "41e38a19-43c5-4e1b-b6e7-b61d0395a4af",
    "colab": {
     "base_uri": "https://localhost:8080/",
     "height": 108
    }
   },
   "source": [
    "# Elementwise division\n",
    "print(x / y)\n",
    "print(np.divide(x, y))"
   ],
   "execution_count": null,
   "outputs": [
    {
     "output_type": "stream",
     "text": [
      "[[0.2        0.33333333]\n",
      " [0.42857143 0.5       ]]\n",
      "[[0.2        0.33333333]\n",
      " [0.42857143 0.5       ]]\n"
     ],
     "name": "stdout"
    }
   ]
  },
  {
   "cell_type": "code",
   "metadata": {
    "id": "4B2gOEZ5wta4",
    "outputId": "d9bd13ad-64ac-402e-8e00-4d3dfcfb97b5",
    "colab": {
     "base_uri": "https://localhost:8080/",
     "height": 72
    }
   },
   "source": [
    "# Elementwise square root\n",
    "print(np.sqrt(x))"
   ],
   "execution_count": null,
   "outputs": [
    {
     "output_type": "stream",
     "text": [
      "[[1.         1.41421356]\n",
      " [1.73205081 2.        ]]\n"
     ],
     "name": "stdout"
    }
   ]
  },
  {
   "cell_type": "code",
   "metadata": {
    "id": "nDSYH-dIxmAy",
    "outputId": "ec3f619e-c721-46d1-838d-df12468ed15d",
    "colab": {
     "base_uri": "https://localhost:8080/",
     "height": 108
    }
   },
   "source": [
    "# Elementwise product\n",
    "print(x * y)\n",
    "print(np.multiply(x, y))"
   ],
   "execution_count": null,
   "outputs": [
    {
     "output_type": "stream",
     "text": [
      "[[ 5. 12.]\n",
      " [21. 32.]]\n",
      "[[ 5. 12.]\n",
      " [21. 32.]]\n"
     ],
     "name": "stdout"
    }
   ]
  },
  {
   "cell_type": "markdown",
   "metadata": {
    "id": "d7TGYPrKww4a"
   },
   "source": [
    "Note that the multiplication is *not* a matrix multiplication. We will discuss matrix operations next."
   ]
  },
  {
   "cell_type": "markdown",
   "metadata": {
    "id": "fnw2fEtZyeNh"
   },
   "source": [
    "### Array Operations\n",
    "\n",
    "We use the `dot` function to compute inner products of vectors, to multiply a vector by a matrix, and to multiply matrices:"
   ]
  },
  {
   "cell_type": "code",
   "metadata": {
    "id": "iu56ggQYzEyl",
    "outputId": "28eb82f6-345c-4fef-ed10-453c3ce244c5",
    "colab": {
     "base_uri": "https://localhost:8080/",
     "height": 72
    }
   },
   "source": [
    "x = np.array([[1,2],[3,4]])\n",
    "y = np.array([[5,6],[7,8]])\n",
    "\n",
    "v = np.array([9,10])\n",
    "w = np.array([11, 12])\n",
    "\n",
    "# Inner product of vectors\n",
    "print(v.dot(w))\n",
    "print(np.dot(v, w))"
   ],
   "execution_count": null,
   "outputs": [
    {
     "output_type": "stream",
     "text": [
      "219\n",
      "219\n"
     ],
     "name": "stdout"
    }
   ]
  },
  {
   "cell_type": "code",
   "metadata": {
    "id": "PcimqlPEzGj9",
    "outputId": "c99f4a8b-fb0e-4ef1-9c18-36c3d526d1fb",
    "colab": {
     "base_uri": "https://localhost:8080/",
     "height": 72
    }
   },
   "source": [
    "# Matrix / vector product\n",
    "print(x.dot(v))\n",
    "print(np.dot(x, v))"
   ],
   "execution_count": null,
   "outputs": [
    {
     "output_type": "stream",
     "text": [
      "[29 67]\n",
      "[29 67]\n"
     ],
     "name": "stdout"
    }
   ]
  },
  {
   "cell_type": "code",
   "metadata": {
    "id": "6ESMOHQEzMRI",
    "outputId": "c4b79075-d4d2-4241-f752-f5fc686d5b92",
    "colab": {
     "base_uri": "https://localhost:8080/",
     "height": 108
    }
   },
   "source": [
    "# Matrix / matrix product\n",
    "print(x.dot(y))\n",
    "print(np.dot(x, y))"
   ],
   "execution_count": null,
   "outputs": [
    {
     "output_type": "stream",
     "text": [
      "[[19 22]\n",
      " [43 50]]\n",
      "[[19 22]\n",
      " [43 50]]\n"
     ],
     "name": "stdout"
    }
   ]
  },
  {
   "cell_type": "markdown",
   "metadata": {
    "id": "yVY_Hdz1zbLn"
   },
   "source": [
    "### Mathematical and statistical functions\n",
    "NumPy provides many useful functions for performing computations on arrays; one of the most useful is `sum`. Note that this computes the sum of all array elements, regardless of its shape:"
   ]
  },
  {
   "cell_type": "code",
   "metadata": {
    "id": "AZ6wQUc6zVDj",
    "outputId": "66cbe23c-12d0-4e83-c751-3f7cc201c5c3",
    "colab": {
     "base_uri": "https://localhost:8080/",
     "height": 72
    }
   },
   "source": [
    "x = np.array([[1,2],[3,4]])\n",
    "print(x.sum())\n",
    "print(np.sum(x))"
   ],
   "execution_count": null,
   "outputs": [
    {
     "output_type": "stream",
     "text": [
      "10\n",
      "10\n"
     ],
     "name": "stdout"
    }
   ]
  },
  {
   "cell_type": "markdown",
   "metadata": {
    "id": "2XYQqHw010lO"
   },
   "source": [
    "Here are a few more useful `ndarray` methods. You can find the full list of mathematical functions provided by numpy in the [documentation](http://docs.scipy.org/doc/numpy/reference/routines.math.html)."
   ]
  },
  {
   "cell_type": "code",
   "metadata": {
    "id": "yO4fYu-R12Ys",
    "outputId": "6042df71-34f7-4982-d4b9-b203a20ad18d",
    "colab": {
     "base_uri": "https://localhost:8080/",
     "height": 143
    }
   },
   "source": [
    "for func in (x.min, x.max, x.mean, x.prod, x.std, x.var):\n",
    "    print(func.__name__, \"=\", func())"
   ],
   "execution_count": null,
   "outputs": [
    {
     "output_type": "stream",
     "text": [
      "min = 1\n",
      "max = 4\n",
      "mean = 2.5\n",
      "prod = 24\n",
      "std = 1.118033988749895\n",
      "var = 1.25\n"
     ],
     "name": "stdout"
    }
   ]
  },
  {
   "cell_type": "markdown",
   "metadata": {
    "id": "GO6KMzSrz_E4"
   },
   "source": [
    "These functions accept an optional argument `axis` which lets you ask for the operation to be performed on elements along the given axis. For example:"
   ]
  },
  {
   "cell_type": "code",
   "metadata": {
    "id": "SEHOYmSWzeKy",
    "outputId": "b2e5fe74-37d8-44d7-dad3-e8d1f1a7d673",
    "colab": {
     "base_uri": "https://localhost:8080/",
     "height": 72
    }
   },
   "source": [
    "print(np.sum(x, axis=0))  # Compute sum of each column\n",
    "print(np.sum(x, axis=1))  # Compute sum of each row"
   ],
   "execution_count": null,
   "outputs": [
    {
     "output_type": "stream",
     "text": [
      "[4 6]\n",
      "[3 7]\n"
     ],
     "name": "stdout"
    }
   ]
  },
  {
   "cell_type": "markdown",
   "metadata": {
    "id": "nexgvPezBDfB"
   },
   "source": [
    "## Broadcasting"
   ]
  },
  {
   "cell_type": "markdown",
   "metadata": {
    "id": "ul-xIwr9BDfC"
   },
   "source": [
    "In general, when NumPy expects arrays of the same shape but finds that this is not the case, it applies the so-called *broadcasting* rules:\n",
    "\n",
    "### First rule\n",
    "*If the arrays do not have the same rank, then a 1 will be prepended to the smaller ranking arrays until their ranks match.*"
   ]
  },
  {
   "cell_type": "code",
   "metadata": {
    "id": "V709OiHcBDfD",
    "outputId": "a57dcb98-7cc0-4010-c714-151ddc1622f3",
    "colab": {
     "base_uri": "https://localhost:8080/",
     "height": 55
    }
   },
   "source": [
    "h = np.arange(5).reshape(1, 1, 5)\n",
    "print(h)"
   ],
   "execution_count": null,
   "outputs": [
    {
     "output_type": "stream",
     "text": [
      "[[[0 1 2 3 4]]]\n"
     ],
     "name": "stdout"
    }
   ]
  },
  {
   "cell_type": "markdown",
   "metadata": {
    "id": "63uSsjDmBDfE"
   },
   "source": [
    "Now let's try to add a 1D array of shape `(5,)` to this 3D array of shape `(1,1,5)`. Applying the first rule of broadcasting!"
   ]
  },
  {
   "cell_type": "code",
   "metadata": {
    "id": "Dma9F5pPBDfF",
    "outputId": "cf52ee0f-ee18-4fbb-e545-0fe34368321a",
    "colab": {
     "base_uri": "https://localhost:8080/",
     "height": 55
    }
   },
   "source": [
    "h + [10, 20, 30, 40, 50]  # same as: h + [[[10, 20, 30, 40, 50]]]\n",
    "print(h)"
   ],
   "execution_count": null,
   "outputs": [
    {
     "output_type": "stream",
     "text": [
      "[[[0 1 2 3 4]]]\n"
     ],
     "name": "stdout"
    }
   ]
  },
  {
   "cell_type": "markdown",
   "metadata": {
    "id": "UhMP3LQqBDfH"
   },
   "source": [
    "### Second rule\n",
    "*Arrays with a 1 along a particular dimension act as if they had the size of the array with the largest shape along that dimension. The value of the array element is repeated along that dimension.*"
   ]
  },
  {
   "cell_type": "code",
   "metadata": {
    "id": "P_OQnN7nBDfH",
    "outputId": "25b3b54b-b3ce-4467-ac0b-0b4d926220f3",
    "colab": {
     "base_uri": "https://localhost:8080/",
     "height": 72
    }
   },
   "source": [
    "k = np.arange(6).reshape(2, 3)\n",
    "print(k)"
   ],
   "execution_count": null,
   "outputs": [
    {
     "output_type": "stream",
     "text": [
      "[[0 1 2]\n",
      " [3 4 5]]\n"
     ],
     "name": "stdout"
    }
   ]
  },
  {
   "cell_type": "markdown",
   "metadata": {
    "id": "70BWTCAXBDfN"
   },
   "source": [
    "Let's try to add a 2D array of shape `(2,1)` to this 2D `ndarray` of shape `(2, 3)`. NumPy will apply the second rule of broadcasting:"
   ]
  },
  {
   "cell_type": "code",
   "metadata": {
    "id": "PEVQbywIBDfN",
    "outputId": "dadc567c-f543-4522-8925-1faac659dbe0",
    "colab": {
     "base_uri": "https://localhost:8080/",
     "height": 72
    }
   },
   "source": [
    "k + [[100], [200]]  # same as: k + [[100, 100, 100], [200, 200, 200]]"
   ],
   "execution_count": null,
   "outputs": [
    {
     "output_type": "execute_result",
     "data": {
      "text/plain": [
       "array([[100, 101, 102],\n",
       "       [203, 204, 205]])"
      ]
     },
     "metadata": {
      "tags": []
     },
     "execution_count": 77
    }
   ]
  },
  {
   "cell_type": "markdown",
   "metadata": {
    "id": "0rJ-79KcBDfR"
   },
   "source": [
    "Combining rules 1 & 2, we can do this:"
   ]
  },
  {
   "cell_type": "code",
   "metadata": {
    "id": "ascnSbb2BDfR",
    "outputId": "5848d6fb-d617-40a8-cbb6-7db4ffb1f8ca",
    "colab": {
     "base_uri": "https://localhost:8080/",
     "height": 72
    }
   },
   "source": [
    "k + [100, 200, 300]  # after rule 1: [[100, 200, 300]], and after rule 2: [[100, 200, 300], [100, 200, 300]]"
   ],
   "execution_count": null,
   "outputs": [
    {
     "output_type": "execute_result",
     "data": {
      "text/plain": [
       "array([[100, 201, 302],\n",
       "       [103, 204, 305]])"
      ]
     },
     "metadata": {
      "tags": []
     },
     "execution_count": 78
    }
   ]
  },
  {
   "cell_type": "markdown",
   "metadata": {
    "id": "KngrP1jDBDfT"
   },
   "source": [
    "And also, very simply:"
   ]
  },
  {
   "cell_type": "code",
   "metadata": {
    "id": "lo54QJ7ABDfU",
    "outputId": "2f47c66d-bcf2-4e20-df1b-560257a0a456",
    "colab": {
     "base_uri": "https://localhost:8080/",
     "height": 72
    }
   },
   "source": [
    "k + 1000  # same as: k + [[1000, 1000, 1000], [1000, 1000, 1000]]"
   ],
   "execution_count": null,
   "outputs": [
    {
     "output_type": "execute_result",
     "data": {
      "text/plain": [
       "array([[1000, 1001, 1002],\n",
       "       [1003, 1004, 1005]])"
      ]
     },
     "metadata": {
      "tags": []
     },
     "execution_count": 79
    }
   ]
  },
  {
   "cell_type": "markdown",
   "metadata": {
    "id": "8T8PdpMHBDfW"
   },
   "source": [
    "### Third rule\n",
    "*After rules 1 & 2, the sizes of all arrays must match.*"
   ]
  },
  {
   "cell_type": "code",
   "metadata": {
    "id": "GLbxk6v4BDfX",
    "outputId": "d31972b8-db78-4e34-f737-ede3af15ca21",
    "colab": {
     "base_uri": "https://localhost:8080/",
     "height": 55
    }
   },
   "source": [
    "try:\n",
    "    k + [33, 44]\n",
    "except ValueError as e:\n",
    "    print(e)"
   ],
   "execution_count": null,
   "outputs": [
    {
     "output_type": "stream",
     "text": [
      "operands could not be broadcast together with shapes (2,3) (2,) \n"
     ],
     "name": "stdout"
    }
   ]
  },
  {
   "cell_type": "markdown",
   "metadata": {
    "id": "hwBL-KOsBDfa"
   },
   "source": [
    "Broadcasting rules are used in many NumPy operations, not just arithmetic operations. For more details about broadcasting, check out [the documentation](https://docs.scipy.org/doc/numpy-dev/user/basics.broadcasting.html)."
   ]
  },
  {
   "cell_type": "markdown",
   "metadata": {
    "id": "zh2NoXJjBDfb"
   },
   "source": [
    "## Upcasting\n",
    "When trying to combine arrays with different `dtype`s, NumPy will *upcast* to a type capable of handling all possible values (regardless of what the *actual* values are)."
   ]
  },
  {
   "cell_type": "code",
   "metadata": {
    "id": "sYR7iTjfBDfb",
    "outputId": "a5411d20-cbc0-4d26-f69d-e259ae42e6f0",
    "colab": {
     "base_uri": "https://localhost:8080/",
     "height": 55
    }
   },
   "source": [
    "k1 = np.arange(0, 5, dtype=np.uint8)\n",
    "print(k1.dtype, k1)"
   ],
   "execution_count": null,
   "outputs": [
    {
     "output_type": "stream",
     "text": [
      "uint8 [0 1 2 3 4]\n"
     ],
     "name": "stdout"
    }
   ]
  },
  {
   "cell_type": "code",
   "metadata": {
    "id": "AkwxEeaNBDfe",
    "outputId": "2edbff9f-a1dc-48bd-a533-2153910d9619",
    "colab": {
     "base_uri": "https://localhost:8080/",
     "height": 55
    }
   },
   "source": [
    "k2 = k1 + np.array([5, 6, 7, 8, 9], dtype=np.int8)\n",
    "print(k2.dtype, k2)"
   ],
   "execution_count": null,
   "outputs": [
    {
     "output_type": "stream",
     "text": [
      "int16 [ 5  7  9 11 13]\n"
     ],
     "name": "stdout"
    }
   ]
  },
  {
   "cell_type": "markdown",
   "metadata": {
    "id": "FRXWOM_XBDfh"
   },
   "source": [
    "Note that `int16` is required to represent all *possible* `int8` and `uint8` values (from -128 to 255), even though in this case a uint8 would have sufficed."
   ]
  },
  {
   "cell_type": "code",
   "metadata": {
    "id": "C3_fzYMEBDfh",
    "outputId": "a0ba22d7-c3a4-4f70-b6a4-37fe20c3018e",
    "colab": {
     "base_uri": "https://localhost:8080/",
     "height": 55
    }
   },
   "source": [
    "k3 = k1 + 1.5\n",
    "print(k3.dtype, k3)"
   ],
   "execution_count": null,
   "outputs": [
    {
     "output_type": "stream",
     "text": [
      "float64 [1.5 2.5 3.5 4.5 5.5]\n"
     ],
     "name": "stdout"
    }
   ]
  },
  {
   "cell_type": "markdown",
   "metadata": {
    "id": "oLqyaaei-vjv"
   },
   "source": [
    "## Mutation by Slicing (Views vs. Copies)\n",
    "Depending on the operation, results can be copies or views, i.e., data is shared between view and the array.\n",
    "Keep in mind that slices produce views:"
   ]
  },
  {
   "cell_type": "code",
   "metadata": {
    "id": "VZMdGpyv_VTa",
    "outputId": "45b801d9-9fe5-46c5-913f-5061f78a1bcd",
    "colab": {
     "base_uri": "https://localhost:8080/",
     "height": 108
    }
   },
   "source": [
    "x = np.arange(5)\n",
    "print(x)\n",
    "\n",
    "view = x[1:3]\n",
    "print(view)\n",
    "\n",
    "view[1] = -1\n",
    "print(x)\n",
    "\n",
    "x[2] = 999\n",
    "print(view)"
   ],
   "execution_count": null,
   "outputs": [
    {
     "output_type": "stream",
     "text": [
      "[0 1 2 3 4]\n",
      "[1 2]\n",
      "[ 0  1 -1  3  4]\n",
      "[  1 999]\n"
     ],
     "name": "stdout"
    }
   ]
  },
  {
   "cell_type": "markdown",
   "metadata": {
    "id": "fLMs99u8_ocS"
   },
   "source": [
    "Fancy indexing instead produces copies:"
   ]
  },
  {
   "cell_type": "code",
   "metadata": {
    "id": "9oQh6C7x_wGm",
    "outputId": "87ba9cb8-3f98-490f-adb4-4c1e6befe986",
    "colab": {
     "base_uri": "https://localhost:8080/",
     "height": 108
    }
   },
   "source": [
    "x = np.arange(5)\n",
    "print(x)\n",
    "\n",
    "copy = x[[1, 2]]\n",
    "print(copy)\n",
    "\n",
    "copy[1] = -1\n",
    "print(x)\n",
    "\n",
    "x[2] = 999\n",
    "print(copy)"
   ],
   "execution_count": null,
   "outputs": [
    {
     "output_type": "stream",
     "text": [
      "[0 1 2 3 4]\n",
      "[1 2]\n",
      "[0 1 2 3 4]\n",
      "[ 1 -1]\n"
     ],
     "name": "stdout"
    }
   ]
  },
  {
   "cell_type": "markdown",
   "metadata": {
    "id": "x9C5wqARADVP"
   },
   "source": [
    "# Summary\n",
    "NumPy is a powerful library for computation providing both massive efficiency gains and convenience. \n",
    "\n",
    "\n",
    "## Take home:\n",
    "* Vectorize! Orders of magnitude faster.\n",
    "* Keeping track of the shape of your arrays is often useful.\n",
    "* Many useful math functions and operations built into NumPy.\n",
    "* Select and manipulate arbitrary pieces of data with powerful indexing schemes. • Broadcasting allows for computation across arrays of different shapes.\n",
    "* Watch out for views vs. copies.\n",
    "\n",
    "\n",
    "### What else?\n",
    "\n",
    "NumPy contains many more options and functions than discussed today. The best way to learn more is to experiment with NumPy, and go through the excellent [reference documentation](http://docs.scipy.org/doc/numpy/reference/index.html) to find more functions and features you may be interested in."
   ]
  }
 ]
}