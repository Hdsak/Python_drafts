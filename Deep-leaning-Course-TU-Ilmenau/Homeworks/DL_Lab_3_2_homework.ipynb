{
 "nbformat": 4,
 "nbformat_minor": 0,
 "metadata": {
  "colab": {
   "name": "DL_Lab_3_2_homework.ipynb",
   "provenance": [],
   "collapsed_sections": []
  },
  "kernelspec": {
   "name": "python3",
   "display_name": "Python 3"
  },
  "accelerator": "GPU"
 },
 "cells": [
  {
   "cell_type": "markdown",
   "metadata": {
    "id": "AOqpfpFheJgO"
   },
   "source": [
    "# DL Lab 3.2 - Homework - Word Embeddings\n",
    "\n",
    "Welcome to the DL Lab! In this lab, you will train a **word embedding** from scratch and investigate its interesting properties.\n",
    "\n",
    "In detail, you will train an embedding on a small dataset for sentiment classification on movie reviews, play with it, and create a projected visualization of the embedding space. \n",
    "\n",
    "***\n",
    "\n",
    "**After completing this homework you will be able to**\n",
    "\n",
    "- Use **Tokenizers** for **word vectorization**.\n",
    "- Train models containing **word embeddings**.\n",
    "- Compute **word similarities** and retrieve similar and analogous words.\n",
    "\n",
    "***\n",
    "\n",
    "**Instructions**\n",
    "\n",
    "- You'll be using Python 3 in the iPython based Google Colaboratory\n",
    "- Lines encapsulated in \"<font color='green'>`### START YOUR CODE HERE ###`</font>\" and \"<font color='green'>`### END YOUR CODE HERE ###`</font>\" denote the code fragments to be completed by you.\n",
    "- There's no need to write any other code.\n",
    "- After writing your code, you can run the cell by either pressing `SHIFT`+`ENTER` or by clicking on the play symbol on the left side of the cell.\n",
    "- We may specify \"<font color='green'>`(≈ X LOC)`</font>\" to tell you about how many lines of code you need to write. This is just a rough estimate, so don't feel bad if your code is longer or shorter.\n",
    "- If you get stuck, check your Lecture and Lab notes and use the [discussion forum](https://moodle2.tu-ilmenau.de/mod/forum/view.php?id=102963) in Moodle.\n",
    "\n",
    "Let's get started!"
   ]
  },
  {
   "cell_type": "markdown",
   "metadata": {
    "id": "_-hZtgVAlaXg"
   },
   "source": [
    "# 0 - Test for GPU\n",
    "Execute the code below for printing the TF version and testing for GPU availability."
   ]
  },
  {
   "cell_type": "code",
   "metadata": {
    "id": "wqn8Vx9KubaY",
    "cellView": "form",
    "colab": {
     "base_uri": "https://localhost:8080/"
    },
    "outputId": "d813f7af-1006-487b-cfcd-b0c369ddc380"
   },
   "source": [
    "#@title Print TF version and GPU stats\n",
    "import tensorflow as tf\n",
    "import sys\n",
    "print('TensorFlow version:', tf.__version__)\n",
    "\n",
    "device_name = tf.test.gpu_device_name()\n",
    "if device_name != '/device:GPU:0':\n",
    "   raise SystemError('GPU device not found')\n",
    "print('Found GPU at: {}'.format(device_name), '', sep='\\n')\n",
    "!nvidia-smi"
   ],
   "execution_count": null,
   "outputs": [
    {
     "output_type": "stream",
     "text": [
      "TensorFlow version: 2.3.0\n",
      "Found GPU at: /device:GPU:0\n",
      "\n",
      "Wed Dec 16 17:25:56 2020       \n",
      "+-----------------------------------------------------------------------------+\n",
      "| NVIDIA-SMI 455.45.01    Driver Version: 418.67       CUDA Version: 10.1     |\n",
      "|-------------------------------+----------------------+----------------------+\n",
      "| GPU  Name        Persistence-M| Bus-Id        Disp.A | Volatile Uncorr. ECC |\n",
      "| Fan  Temp  Perf  Pwr:Usage/Cap|         Memory-Usage | GPU-Util  Compute M. |\n",
      "|                               |                      |               MIG M. |\n",
      "|===============================+======================+======================|\n",
      "|   0  Tesla K80           Off  | 00000000:00:04.0 Off |                    0 |\n",
      "| N/A   72C    P0    76W / 149W |    134MiB / 11441MiB |     11%      Default |\n",
      "|                               |                      |                 ERR! |\n",
      "+-------------------------------+----------------------+----------------------+\n",
      "                                                                               \n",
      "+-----------------------------------------------------------------------------+\n",
      "| Processes:                                                                  |\n",
      "|  GPU   GI   CI        PID   Type   Process name                  GPU Memory |\n",
      "|        ID   ID                                                   Usage      |\n",
      "|=============================================================================|\n",
      "|  No running processes found                                                 |\n",
      "+-----------------------------------------------------------------------------+\n"
     ],
     "name": "stdout"
    }
   ]
  },
  {
   "cell_type": "markdown",
   "metadata": {
    "id": "EtDe8fNagLif"
   },
   "source": [
    "# 1 - Representing Text as Numbers"
   ]
  },
  {
   "cell_type": "markdown",
   "metadata": {
    "id": "zc1yhgTSgUXv"
   },
   "source": [
    "## 1.1 - One-Hot Encodings\n",
    "\n",
    "Categorical inputs to a neural network can be represented using **One-Hot Encodings**. We already used them (quite often actually) for class labels.\n",
    "\n",
    "E.g., consider we are classifying `['bird', 'cat', 'dog', 'fish']` animals with a neural network. The one-hot encoded label of class `'cat'` will look like `[0,1,0,0]`.\n",
    "\n",
    "We might generalize this idea for creating text representations: We create a **vocabulary** of all unique words of a text. For each word, we will then create a zero vector with length equal to the vocabulary size and place a `1` in the index corresponding to the word in the vocabulary.\n",
    "\n",
    "There are several problems with this approach: It is extremely inefficient since the one-hot encoded vectors are sparse. As the vocabulary size grows large, most of the space is wasted just for storing zeros. \n",
    "In addition, one-hot vectors do not allow computation of similarity measures, as all words will have the same distance to each other.\n",
    "\n",
    "## 1.2 - Index Encodings\n",
    "\n",
    "Another approach might be to encode each word using a unique number, e.g., the **index** of the word within the **vocabulary**. This approach would be more efficient compared to sparse one-hot encoded vectors.\n",
    "\n",
    "However, as the integer-encoding is arbitrary, there is no sorting or ordering. There is still no way to represent that cats might be more similar to dogs than to fish. As there is no relationship between the similarity of any two words and the similarity of their encodings, this also confuses the neural network which might not be able to learn anything meaningful from such encodings.\n",
    "\n",
    "## 1.3 - Word Embeddings\n",
    "\n",
    "Word embeddings give us a way to use an efficient, **dense representation** in which **similar words** have a **similar encoding**. Importantly, we do not have to specify this encoding by hand! \n",
    "\n",
    "An embedding is a dense vector of floating point values. The length of the vector is a parameter you specify. The values of the embedding are trainable parameters, i.e., weights learned by the model during training. It is common to see word embeddings that are 8-dimensional for small datasets, up to 1024-dimensions when working with large datasets. A higher dimensional embedding can capture fine-grained relationships between words, but requires more data to learn.\n",
    "\n",
    "An intuitive way to think of an embedding is as lookup table. After the embeddings weights have been learned, we can encode each word by looking up the dense vector it corresponds to in the table.\n",
    "\n",
    "---"
   ]
  },
  {
   "cell_type": "markdown",
   "metadata": {
    "id": "RZPW2zIrqG6l"
   },
   "source": [
    "# 2 - Using the Embedding layer"
   ]
  },
  {
   "cell_type": "markdown",
   "metadata": {
    "id": "pyCczK9oqJ-m"
   },
   "source": [
    "So much for the motivation. Let's get started and use embeddings!\n",
    "\n",
    "Keras makes it easy to use word embeddings by means of its [`Embedding`](https://www.tensorflow.org/api_docs/python/tf/keras/layers/Embedding) layer.\n",
    "\n",
    "The first argument `input_dim` specifies the size of the vocabulary. The second argument `output_dim` is the dimensionality of the embeddings, hence the length of the dense vectors. The `output_dim` is a parameter you can tune and experiment with in the same way you would experiment with the number of neurons in a dense layer.\n",
    "\n",
    "**Task**: Initialize a layer for embedding words of a vocabulary of 1000 words into 5 dimensions."
   ]
  },
  {
   "cell_type": "code",
   "metadata": {
    "id": "t3WvHkj1bLkl"
   },
   "source": [
    "import tensorflow as tf\n",
    "import numpy as np\n",
    "from tensorflow import keras\n",
    "from tensorflow.keras import layers"
   ],
   "execution_count": null,
   "outputs": []
  },
  {
   "cell_type": "code",
   "metadata": {
    "id": "W0ev7Swrr4ds"
   },
   "source": [
    "### START YOUR CODE HERE ###  (≈1 LOC)\n",
    "embedding_layer = layers.Embedding(1000,5)\n",
    "### END YOUR CODE HERE ###"
   ],
   "execution_count": null,
   "outputs": []
  },
  {
   "cell_type": "markdown",
   "metadata": {
    "id": "43EaPxOqvZdQ"
   },
   "source": [
    "When you create an `Embedding` layer, the weights for the embedding are randomly initialized just as for any other layer. During training, they are gradually adjusted via backpropagation. Once trained, the learned word embeddings will roughly encode similarities between words as learned for the specific problem your model was trained on.\n",
    "\n",
    "The `Embedding` layer can be understood as a lookup table that maps from integer indices (denoting specific words) to dense vectors (their embeddings). Hence, passing a list of integers to an embedding layer, the result replaces each integer with its corresponding vector from the embedding table:"
   ]
  },
  {
   "cell_type": "code",
   "metadata": {
    "id": "a2RU4rWdsq9I",
    "colab": {
     "base_uri": "https://localhost:8080/"
    },
    "outputId": "b216d4ec-0a80-4179-e510-69e6b81d2451"
   },
   "source": [
    "result = embedding_layer( np.array([3, 1, 4]) )\n",
    "print(result.numpy())"
   ],
   "execution_count": null,
   "outputs": [
    {
     "output_type": "stream",
     "text": [
      "[[ 0.02208264  0.01942709  0.04027826 -0.00572944  0.03155648]\n",
      " [ 0.03049347 -0.00843795  0.00522105 -0.02951161  0.03331155]\n",
      " [-0.03370769 -0.00104406  0.00360634 -0.02160817  0.01879874]]\n"
     ],
     "name": "stdout"
    }
   ]
  },
  {
   "cell_type": "markdown",
   "metadata": {
    "id": "_AKzT5WlwKOi"
   },
   "source": [
    "For text or sequence problems, the `Embedding` layer takes a 2D tensor of integers, of shape `(samples, sequence_length)`, where each entry is a sequence of integers. It can embed sequences of variable lengths. You could feed into the embedding layer above batches with shapes `(32, 10)` (a batch of 32 sequences of length 10), or `(64, 15)` (batch of 64 sequences of length 15):\n",
    "\n",
    "**Task**: Create an input array of shape `(64, 15)` filled with `0` of type `int`, feed it to the `Embedding` layer and print the shape of the result."
   ]
  },
  {
   "cell_type": "code",
   "metadata": {
    "id": "IdpAsxwMuQ_r",
    "colab": {
     "base_uri": "https://localhost:8080/"
    },
    "outputId": "223154db-952b-4d9a-d415-8621684e9318"
   },
   "source": [
    "### START YOUR CODE HERE ###  (≈3 LOC)\n",
    "arr = np.zeros((64,14), dtype=np.int)\n",
    "result = embedding_layer(arr)\n",
    "print(result.numpy())\n",
    "\n",
    "### END YOUR CODE HERE ###"
   ],
   "execution_count": null,
   "outputs": [
    {
     "output_type": "stream",
     "text": [
      "[[[-0.0310155  -0.0426484   0.04302492  0.04389408  0.0055267 ]\n",
      "  [-0.0310155  -0.0426484   0.04302492  0.04389408  0.0055267 ]\n",
      "  [-0.0310155  -0.0426484   0.04302492  0.04389408  0.0055267 ]\n",
      "  ...\n",
      "  [-0.0310155  -0.0426484   0.04302492  0.04389408  0.0055267 ]\n",
      "  [-0.0310155  -0.0426484   0.04302492  0.04389408  0.0055267 ]\n",
      "  [-0.0310155  -0.0426484   0.04302492  0.04389408  0.0055267 ]]\n",
      "\n",
      " [[-0.0310155  -0.0426484   0.04302492  0.04389408  0.0055267 ]\n",
      "  [-0.0310155  -0.0426484   0.04302492  0.04389408  0.0055267 ]\n",
      "  [-0.0310155  -0.0426484   0.04302492  0.04389408  0.0055267 ]\n",
      "  ...\n",
      "  [-0.0310155  -0.0426484   0.04302492  0.04389408  0.0055267 ]\n",
      "  [-0.0310155  -0.0426484   0.04302492  0.04389408  0.0055267 ]\n",
      "  [-0.0310155  -0.0426484   0.04302492  0.04389408  0.0055267 ]]\n",
      "\n",
      " [[-0.0310155  -0.0426484   0.04302492  0.04389408  0.0055267 ]\n",
      "  [-0.0310155  -0.0426484   0.04302492  0.04389408  0.0055267 ]\n",
      "  [-0.0310155  -0.0426484   0.04302492  0.04389408  0.0055267 ]\n",
      "  ...\n",
      "  [-0.0310155  -0.0426484   0.04302492  0.04389408  0.0055267 ]\n",
      "  [-0.0310155  -0.0426484   0.04302492  0.04389408  0.0055267 ]\n",
      "  [-0.0310155  -0.0426484   0.04302492  0.04389408  0.0055267 ]]\n",
      "\n",
      " ...\n",
      "\n",
      " [[-0.0310155  -0.0426484   0.04302492  0.04389408  0.0055267 ]\n",
      "  [-0.0310155  -0.0426484   0.04302492  0.04389408  0.0055267 ]\n",
      "  [-0.0310155  -0.0426484   0.04302492  0.04389408  0.0055267 ]\n",
      "  ...\n",
      "  [-0.0310155  -0.0426484   0.04302492  0.04389408  0.0055267 ]\n",
      "  [-0.0310155  -0.0426484   0.04302492  0.04389408  0.0055267 ]\n",
      "  [-0.0310155  -0.0426484   0.04302492  0.04389408  0.0055267 ]]\n",
      "\n",
      " [[-0.0310155  -0.0426484   0.04302492  0.04389408  0.0055267 ]\n",
      "  [-0.0310155  -0.0426484   0.04302492  0.04389408  0.0055267 ]\n",
      "  [-0.0310155  -0.0426484   0.04302492  0.04389408  0.0055267 ]\n",
      "  ...\n",
      "  [-0.0310155  -0.0426484   0.04302492  0.04389408  0.0055267 ]\n",
      "  [-0.0310155  -0.0426484   0.04302492  0.04389408  0.0055267 ]\n",
      "  [-0.0310155  -0.0426484   0.04302492  0.04389408  0.0055267 ]]\n",
      "\n",
      " [[-0.0310155  -0.0426484   0.04302492  0.04389408  0.0055267 ]\n",
      "  [-0.0310155  -0.0426484   0.04302492  0.04389408  0.0055267 ]\n",
      "  [-0.0310155  -0.0426484   0.04302492  0.04389408  0.0055267 ]\n",
      "  ...\n",
      "  [-0.0310155  -0.0426484   0.04302492  0.04389408  0.0055267 ]\n",
      "  [-0.0310155  -0.0426484   0.04302492  0.04389408  0.0055267 ]\n",
      "  [-0.0310155  -0.0426484   0.04302492  0.04389408  0.0055267 ]]]\n"
     ],
     "name": "stdout"
    }
   ]
  },
  {
   "cell_type": "markdown",
   "metadata": {
    "id": "MgAOZAR5x7fd"
   },
   "source": [
    "The returned tensor has one more axis than the input and the embedding vectors are aligned along the new last axis. Hence, the shape of the embedded tensor is `(samples, sequence_length, embedding_size)`."
   ]
  },
  {
   "cell_type": "markdown",
   "metadata": {
    "id": "CK36AOLAz-WS"
   },
   "source": [
    "# 3 - Training Embeddings from Scratch\n"
   ]
  },
  {
   "cell_type": "markdown",
   "metadata": {
    "id": "uHWgPBaS5_di"
   },
   "source": [
    "## 3.1 - Next Word Prediction\n",
    "You can actually train word embeddings in a model for solving a certain task, just as next word prediction. For this task, you will use the same text data as for the DL Lab 3.1, i.e., a collection of certain tweets.\n",
    "\n",
    "Execute the cell below for downloading and preprocessing the text data."
   ]
  },
  {
   "cell_type": "code",
   "metadata": {
    "cellView": "form",
    "id": "nfKpRufwo_nG",
    "colab": {
     "base_uri": "https://localhost:8080/"
    },
    "outputId": "91c8e15e-ebf3-41c4-cbe1-d83ef8c82674"
   },
   "source": [
    "#@title Dataset Download and Preprocessing\n",
    "\n",
    "import requests, os, zipfile\n",
    "import numpy as np\n",
    "\n",
    "def download_file_from_google_drive(id, destination):\n",
    "    URL = \"https://docs.google.com/uc?export=download\"\n",
    "    session = requests.Session()\n",
    "    response = session.get(URL, params = { 'id' : id }, stream = True)\n",
    "    token = get_confirm_token(response)\n",
    "    if token:\n",
    "        params = { 'id' : id, 'confirm' : token }\n",
    "        response = session.get(URL, params = params, stream = True)\n",
    "    save_response_content(response, destination)    \n",
    "\n",
    "def get_confirm_token(response):\n",
    "    for key, value in response.cookies.items():\n",
    "        if key.startswith('download_warning'):\n",
    "            return value\n",
    "    return None\n",
    "\n",
    "def save_response_content(response, destination):\n",
    "    CHUNK_SIZE = 32768\n",
    "    with open(destination, \"wb\") as f:\n",
    "        for chunk in response.iter_content(CHUNK_SIZE):\n",
    "            if chunk: # filter out keep-alive new chunks\n",
    "                f.write(chunk)\n",
    "    \n",
    "dataset_file = '/tmp/tweets.csv'\n",
    "download_file_from_google_drive('1HE_ezCVWG7JSy5fDSASAmrkmUUbPpWAC', dataset_file)\n",
    "\n",
    "\n",
    "import pandas as pd\n",
    "\n",
    "tweets = pd.read_csv(dataset_file, )\n",
    "tweets.head()\n",
    "\n",
    "print('Initial amount of Tweets:',len(tweets))\n",
    "# remove retweets\n",
    "tweets.drop(tweets[tweets.isRetweet == 't'].index, inplace=True)\n",
    "# remove unpopular tweets\n",
    "tweets.drop(tweets[tweets.favorites < 1e4].index, inplace=True)\n",
    "# convert to lowercase\n",
    "tweets.text = tweets.text.str.lower()\n",
    "# remove urls from tweets\n",
    "tweets.text.replace(regex=r'https?:\\/\\/(www\\.)?[-a-z0-9@:%._\\+~#=]{1,256}\\.[a-z0-9()]{1,6}\\b([-a-z0-9()@:%_\\+.~#?&\\/=]*)', value='', inplace=True)\n",
    "\n",
    "# remove hashtags and replace ampersands\n",
    "tweets.text.replace(regex=r'#\\w+', value='', inplace=True)\n",
    "tweets.text.replace('&amp;', '&', inplace=True, regex=True)\n",
    "\n",
    "# remove citation tweets\n",
    "tweets.drop(tweets[tweets.text.str.startswith('\"\"\"')].index, inplace=True)\n",
    "tweets.drop(tweets[tweets.text.str.startswith('\"via ')].index, inplace=True)\n",
    "# remove non alphanumeric chars\n",
    "tweets.text.replace(regex=r'[^a-z0-9,. ]', value='', inplace=True)\n",
    "tweets.drop(tweets[tweets.text.str.startswith('    ')].index, inplace=True)\n",
    "# remove short tweets\n",
    "tweets.drop(tweets[tweets.text.map(len) < 50].index, inplace=True)\n",
    "print('Remaining Tweets:',len(tweets))\n",
    "\n",
    "tweets = tweets.text.to_list()"
   ],
   "execution_count": null,
   "outputs": [
    {
     "output_type": "stream",
     "text": [
      "Initial amount of Tweets: 55090\n",
      "Remaining Tweets: 14113\n"
     ],
     "name": "stdout"
    }
   ]
  },
  {
   "cell_type": "code",
   "metadata": {
    "id": "KIk04MNdqOtD",
    "colab": {
     "base_uri": "https://localhost:8080/"
    },
    "outputId": "e68bed7c-8ce4-4c82-d540-ace68266eae6"
   },
   "source": [
    "# no. of unique words\n",
    "len(list(set(' '.join(tweets).split(' '))))"
   ],
   "execution_count": null,
   "outputs": [
    {
     "output_type": "execute_result",
     "data": {
      "text/plain": [
       "26673"
      ]
     },
     "metadata": {
      "tags": []
     },
     "execution_count": 7
    }
   ]
  },
  {
   "cell_type": "markdown",
   "metadata": {
    "id": "hbH7X18NIm8z"
   },
   "source": [
    "You can see that this dataset has more than 26k different words. However, we will use a vocabulary of 10k most frequent words as detailed in the video.\n",
    "\n",
    "TensorFlow Keras provides a convenient class for converting text from words into indexed representations: the [Tokenizer class](https://www.tensorflow.org/api_docs/python/tf/keras/preprocessing/text/Tokenizer?hl=en).\n",
    "\n",
    "**Task**: (1) Initialize an instance `tokenizer` of the Tokenizer class using\n",
    "- a vocabulary size of 10`000 words\n",
    "- `<unk>` as replacement for any word not contained within the vocabulary,\n",
    "- a filter for removing special characters '!\"“#$%&()*+.,-/:;=?@[\\]^_`{|}~ \\'.\n",
    "\n",
    "(2) Next, compute the most 10k frequent words by calling the [`fit_on_texts` method](https://www.tensorflow.org/api_docs/python/tf/keras/preprocessing/text/Tokenizer?hl=en#fit_on_texts) on the tweets."
   ]
  },
  {
   "cell_type": "code",
   "metadata": {
    "id": "1unmh3ZOpNTG"
   },
   "source": [
    "VOCABULARY_SIZE = int(1e4)\n",
    "\n",
    "### START YOUR CODE HERE ###  (≈2 LOC)\n",
    "tokenizer = keras.preprocessing.text.Tokenizer(\n",
    "    num_words = 1000,\n",
    "    oov_token = \"<unk>\",\n",
    "    filters = '!\"“#$%&()*+.,-/:;=?@[]^_`{|}~ '\n",
    ")\n",
    "tokenizer.fit_on_texts(tweets)\n",
    "\n",
    "### END YOUR CODE HERE ###"
   ],
   "execution_count": null,
   "outputs": []
  },
  {
   "cell_type": "markdown",
   "metadata": {
    "id": "bSUI9rdQL7tn"
   },
   "source": [
    "We also add another token `<pad>` that will be used for padding all sequences to equal length."
   ]
  },
  {
   "cell_type": "code",
   "metadata": {
    "id": "6xFLj9Aupa_K",
    "colab": {
     "base_uri": "https://localhost:8080/"
    },
    "outputId": "cf6e0259-a55e-444e-9f6e-f363786796da"
   },
   "source": [
    "# add `'<pad>'` token to tokenizer at index `0`\n",
    "tokenizer.word_index['<pad>'] = 0\n",
    "tokenizer.index_word[0] = '<pad>'\n",
    "\n",
    "# print first 10 words\n",
    "print(list(tokenizer.index_word.items())[:10])"
   ],
   "execution_count": null,
   "outputs": [
    {
     "output_type": "stream",
     "text": [
      "[(1, '<unk>'), (2, 'the'), (3, 'to'), (4, 'and'), (5, 'of'), (6, 'a'), (7, 'in'), (8, 'is'), (9, 'for'), (10, 'i')]\n"
     ],
     "name": "stdout"
    }
   ]
  },
  {
   "cell_type": "markdown",
   "metadata": {
    "id": "6JkRaq3yLAtI"
   },
   "source": [
    "The [`text_to_sequences` method](https://www.tensorflow.org/api_docs/python/tf/keras/preprocessing/text/Tokenizer?hl=en#texts_to_sequences) of your tokenizer can now be used for converting the text data into index representation.\n",
    "\n",
    "**Task**: Convert the tweets into index representation and pad the sequences by adding `0`s at the end of every sequence."
   ]
  },
  {
   "cell_type": "code",
   "metadata": {
    "id": "DAVVhojYtbEU"
   },
   "source": [
    "### START YOUR CODE HERE ###  (≈2 LOC)\n",
    "sequences = tokenizer.texts_to_sequences(tweets)\n",
    "sequences=tf.keras.preprocessing.sequence.pad_sequences(sequences=sequences,padding='post')\n",
    "\n",
    "### END YOUR CODE HERE ###"
   ],
   "execution_count": null,
   "outputs": []
  },
  {
   "cell_type": "code",
   "metadata": {
    "id": "oUl77goQtbG_",
    "colab": {
     "base_uri": "https://localhost:8080/"
    },
    "outputId": "e4185d1f-3277-48d8-941f-d065e7a6bfbb"
   },
   "source": [
    "sequence_length = sequences.shape[1]  \n",
    "print('Max sequence length:', sequence_length)"
   ],
   "execution_count": null,
   "outputs": [
    {
     "output_type": "stream",
     "text": [
      "Max sequence length: 61\n"
     ],
     "name": "stdout"
    }
   ]
  },
  {
   "cell_type": "markdown",
   "metadata": {
    "id": "Qxz6w5MiNRGR"
   },
   "source": [
    "Next, we initialize the dataset, split each tweet into an input and an output sequence, and create shuffled batches:"
   ]
  },
  {
   "cell_type": "code",
   "metadata": {
    "id": "bokbiU11xTXy",
    "colab": {
     "base_uri": "https://localhost:8080/"
    },
    "outputId": "b4d8789f-4da1-4190-8f00-a60d54e6a3bc"
   },
   "source": [
    "BATCH_SIZE = 64\n",
    "BUFFER_SIZE = 10000\n",
    "EMBEDDING_DIM = 16\n",
    "\n",
    "def split_input_target(sequence):\n",
    "  input_sequence = sequence[:-1]\n",
    "  target_sequence = sequence[1:]\n",
    "  return input_sequence, target_sequence\n",
    "\n",
    "dataset = tf.data.Dataset.from_tensor_slices(sequences)\n",
    "dataset = dataset.map(split_input_target)\n",
    "\n",
    "dataset = dataset.shuffle(BUFFER_SIZE).batch(BATCH_SIZE, drop_remainder=True)\n",
    "print(dataset)"
   ],
   "execution_count": null,
   "outputs": [
    {
     "output_type": "stream",
     "text": [
      "<BatchDataset shapes: ((64, 60), (64, 60)), types: (tf.int32, tf.int32)>\n"
     ],
     "name": "stdout"
    }
   ]
  },
  {
   "cell_type": "markdown",
   "metadata": {
    "id": "ovrCmZT2N-VQ"
   },
   "source": [
    "We will use a RNN with GRU layer for next word prediction. The next cells build the model and train it for 50 epochs.\n",
    "\n",
    "If you are interested, increase the size of the GRU layer, e.g., to 1024, and train it for 200 epochs with an early stopping callback."
   ]
  },
  {
   "cell_type": "code",
   "metadata": {
    "id": "VqsWt7j3yTva"
   },
   "source": [
    "from tensorflow.keras import layers, Model\n",
    "from tensorflow.keras.optimizers import Adam\n",
    "\n",
    "def build_model_gru(vocabulary_size, embedding_dim, batch_size, sequence_length, summary=True):\n",
    "  \n",
    "  inputs = layers.Input(batch_input_shape=(batch_size,))\n",
    "  \n",
    "  x = layers.Embedding(vocabulary_size,\n",
    "                       embedding_dim, m)(inputs)\n",
    "  x = layers.GRU(128,\n",
    "                 return_sequences=True,\n",
    "                 stateful=True,\n",
    "                 )(x)\n",
    "  x = layers.Dropout(.2)(x)\n",
    "  out = layers.Dense(vocabulary_size, \n",
    "                     activation='softmax'\n",
    "                     )(x)\n",
    "\n",
    "  model = Model(inputs, out, name='next_character_prediction')\n",
    "  model.compile(loss='sparse_categorical_crossentropy',\n",
    "                optimizer=Adam(lr=1e-3),\n",
    "                metrics='accuracy')\n",
    "  \n",
    "  if summary:\n",
    "    print(model.summary())\n",
    "  \n",
    "  return model\n",
    "\n",
    "EarlyStoppingCallback = tf.keras.callbacks.EarlyStopping(monitor='loss', \n",
    "                                                         patience=5, \n",
    "                                                         restore_best_weights=True)"
   ],
   "execution_count": null,
   "outputs": []
  },
  {
   "cell_type": "code",
   "metadata": {
    "cellView": "form",
    "id": "tEJecYKv-QJ6"
   },
   "source": [
    "#@title `plot_history()` definition\n",
    "from matplotlib import pyplot as plt\n",
    "\n",
    "def plot_history(history, ylim=None):\n",
    "  fig, (ax1, ax2) = plt.subplots(2,1, sharex=True, dpi=150)\n",
    "  ax1.plot(np.array(history.epoch)+1, history.history['loss'])\n",
    "  ax1.set_ylabel('Cross-Entropy Loss')\n",
    "  ax1.set_yscale('log')\n",
    "  ax1.grid(alpha=.5)\n",
    "  if history.history.__contains__('lr'):\n",
    "    ax1b = ax1.twinx()\n",
    "    ax1b.plot(history.history['lr'], 'g-', linewidth=1)\n",
    "    ax1b.set_yscale('log')\n",
    "    ax1b.set_ylabel('Learning Rate', color='g')\n",
    "\n",
    "  ax2.plot(np.array(history.epoch)+1, history.history['accuracy'])\n",
    "  ax2.set_ylabel('Accuracy')\n",
    "  ax2.set_xlabel('Epochs')\n",
    "  ax2.grid(alpha=.5)\n",
    "  if ylim:\n",
    "    ax2.set_ylim(ylim)\n",
    "  #ax2.legend()\n",
    "  plt.show() "
   ],
   "execution_count": null,
   "outputs": []
  },
  {
   "cell_type": "code",
   "metadata": {
    "id": "OpaQq1jtyT0S",
    "colab": {
     "base_uri": "https://localhost:8080/"
    },
    "outputId": "61f93363-c1d8-4ee2-afce-68778b99b5be"
   },
   "source": [
    "gru_model = build_model_gru(VOCABULARY_SIZE, EMBEDDING_DIM, BATCH_SIZE, sequence_length)\n",
    "gru_history = gru_model.fit(dataset, \n",
    "                            epochs=50,\n",
    "                            callbacks=[EarlyStoppingCallback]\n",
    "                            )\n",
    "plot_history(gru_history)"
   ],
   "execution_count": null,
   "outputs": [
    {
     "output_type": "stream",
     "text": [
      "Model: \"next_character_prediction\"\n",
      "_________________________________________________________________\n",
      "Layer (type)                 Output Shape              Param #   \n",
      "=================================================================\n",
      "input_1 (InputLayer)         [(64, 60)]                0         \n",
      "_________________________________________________________________\n",
      "embedding_1 (Embedding)      (64, 60, 16)              160000    \n",
      "_________________________________________________________________\n",
      "gru (GRU)                    (64, 60, 128)             56064     \n",
      "_________________________________________________________________\n",
      "dropout (Dropout)            (64, 60, 128)             0         \n",
      "_________________________________________________________________\n",
      "dense (Dense)                (64, 60, 10000)           1290000   \n",
      "=================================================================\n",
      "Total params: 1,506,064\n",
      "Trainable params: 1,506,064\n",
      "Non-trainable params: 0\n",
      "_________________________________________________________________\n",
      "None\n",
      "Epoch 1/50\n",
      "220/220 [==============================] - 29s 130ms/step - loss: 3.9254 - accuracy: 0.5023\n",
      "Epoch 2/50\n",
      "220/220 [==============================] - 28s 129ms/step - loss: 3.2587 - accuracy: 0.5054\n",
      "Epoch 3/50\n",
      "220/220 [==============================] - 28s 129ms/step - loss: 3.2566 - accuracy: 0.5055\n",
      "Epoch 4/50\n",
      "220/220 [==============================] - 28s 129ms/step - loss: 3.2559 - accuracy: 0.5055\n",
      "Epoch 5/50\n",
      "220/220 [==============================] - 28s 129ms/step - loss: 3.0560 - accuracy: 0.5249\n",
      "Epoch 6/50\n",
      "220/220 [==============================] - 28s 129ms/step - loss: 2.5798 - accuracy: 0.5844\n",
      "Epoch 7/50\n",
      "220/220 [==============================] - 28s 128ms/step - loss: 2.4982 - accuracy: 0.5853\n",
      "Epoch 8/50\n",
      "220/220 [==============================] - 28s 129ms/step - loss: 2.4514 - accuracy: 0.5865\n",
      "Epoch 9/50\n",
      "220/220 [==============================] - 28s 129ms/step - loss: 2.3856 - accuracy: 0.5905\n",
      "Epoch 10/50\n",
      "220/220 [==============================] - 28s 129ms/step - loss: 2.3271 - accuracy: 0.5954\n",
      "Epoch 11/50\n",
      "220/220 [==============================] - 28s 129ms/step - loss: 2.2819 - accuracy: 0.5986\n",
      "Epoch 12/50\n",
      "220/220 [==============================] - 29s 130ms/step - loss: 2.2463 - accuracy: 0.6013\n",
      "Epoch 13/50\n",
      "220/220 [==============================] - 28s 129ms/step - loss: 2.2166 - accuracy: 0.6030\n",
      "Epoch 14/50\n",
      "220/220 [==============================] - 28s 129ms/step - loss: 2.1924 - accuracy: 0.6048\n",
      "Epoch 15/50\n",
      "220/220 [==============================] - 28s 129ms/step - loss: 2.1694 - accuracy: 0.6067\n",
      "Epoch 16/50\n",
      "220/220 [==============================] - 28s 129ms/step - loss: 2.1480 - accuracy: 0.6087\n",
      "Epoch 17/50\n",
      "220/220 [==============================] - 28s 129ms/step - loss: 2.1295 - accuracy: 0.6105\n",
      "Epoch 18/50\n",
      "220/220 [==============================] - 28s 128ms/step - loss: 2.1124 - accuracy: 0.6121\n",
      "Epoch 19/50\n",
      "220/220 [==============================] - 28s 129ms/step - loss: 2.0958 - accuracy: 0.6136\n",
      "Epoch 20/50\n",
      "220/220 [==============================] - 28s 128ms/step - loss: 2.0803 - accuracy: 0.6152\n",
      "Epoch 21/50\n",
      "220/220 [==============================] - 28s 129ms/step - loss: 2.0690 - accuracy: 0.6160\n",
      "Epoch 22/50\n",
      "220/220 [==============================] - 28s 129ms/step - loss: 2.0564 - accuracy: 0.6171\n",
      "Epoch 23/50\n",
      "220/220 [==============================] - 29s 130ms/step - loss: 2.0446 - accuracy: 0.6180\n",
      "Epoch 24/50\n",
      "220/220 [==============================] - 28s 128ms/step - loss: 2.0346 - accuracy: 0.6186\n",
      "Epoch 25/50\n",
      "220/220 [==============================] - 28s 127ms/step - loss: 2.0244 - accuracy: 0.6196\n",
      "Epoch 26/50\n",
      "220/220 [==============================] - 28s 127ms/step - loss: 2.0161 - accuracy: 0.6202\n",
      "Epoch 27/50\n",
      "220/220 [==============================] - 28s 127ms/step - loss: 2.0078 - accuracy: 0.6209\n",
      "Epoch 28/50\n",
      "220/220 [==============================] - 28s 127ms/step - loss: 1.9998 - accuracy: 0.6213\n",
      "Epoch 29/50\n",
      "220/220 [==============================] - 28s 127ms/step - loss: 1.9923 - accuracy: 0.6222\n",
      "Epoch 30/50\n",
      "220/220 [==============================] - 28s 127ms/step - loss: 1.9871 - accuracy: 0.6229\n",
      "Epoch 31/50\n",
      "220/220 [==============================] - 28s 128ms/step - loss: 1.9804 - accuracy: 0.6230\n",
      "Epoch 32/50\n",
      "220/220 [==============================] - 28s 128ms/step - loss: 1.9742 - accuracy: 0.6237\n",
      "Epoch 33/50\n",
      "220/220 [==============================] - 28s 129ms/step - loss: 1.9681 - accuracy: 0.6239\n",
      "Epoch 34/50\n",
      "220/220 [==============================] - 29s 130ms/step - loss: 1.9640 - accuracy: 0.6241\n",
      "Epoch 35/50\n",
      "220/220 [==============================] - 28s 129ms/step - loss: 1.9598 - accuracy: 0.6245\n",
      "Epoch 36/50\n",
      "220/220 [==============================] - 28s 129ms/step - loss: 1.9546 - accuracy: 0.6249\n",
      "Epoch 37/50\n",
      "220/220 [==============================] - 28s 128ms/step - loss: 1.9491 - accuracy: 0.6255\n",
      "Epoch 38/50\n",
      "220/220 [==============================] - 28s 129ms/step - loss: 1.9456 - accuracy: 0.6257\n",
      "Epoch 39/50\n",
      "220/220 [==============================] - 28s 129ms/step - loss: 1.9402 - accuracy: 0.6261\n",
      "Epoch 40/50\n",
      "220/220 [==============================] - 29s 130ms/step - loss: 1.9358 - accuracy: 0.6265\n",
      "Epoch 41/50\n",
      "220/220 [==============================] - 28s 129ms/step - loss: 1.9324 - accuracy: 0.6267\n",
      "Epoch 42/50\n",
      "220/220 [==============================] - 28s 129ms/step - loss: 1.9293 - accuracy: 0.6269\n",
      "Epoch 43/50\n",
      "220/220 [==============================] - 28s 128ms/step - loss: 1.9236 - accuracy: 0.6276\n",
      "Epoch 44/50\n",
      "220/220 [==============================] - 28s 128ms/step - loss: 1.9219 - accuracy: 0.6274\n",
      "Epoch 45/50\n",
      "220/220 [==============================] - 28s 130ms/step - loss: 1.9170 - accuracy: 0.6279\n",
      "Epoch 46/50\n",
      "220/220 [==============================] - 28s 128ms/step - loss: 1.9151 - accuracy: 0.6281\n",
      "Epoch 47/50\n",
      "220/220 [==============================] - 28s 128ms/step - loss: 1.9122 - accuracy: 0.6284\n",
      "Epoch 48/50\n",
      "220/220 [==============================] - 28s 128ms/step - loss: 1.9083 - accuracy: 0.6287\n",
      "Epoch 49/50\n",
      "220/220 [==============================] - 28s 128ms/step - loss: 1.9057 - accuracy: 0.6290\n",
      "Epoch 50/50\n",
      "220/220 [==============================] - 28s 129ms/step - loss: 1.9051 - accuracy: 0.6290\n"
     ],
     "name": "stdout"
    },
    {
     "output_type": "display_data",
     "data": {
      "image/png": "[encoded data removed]",
      "text/plain": [
       "<Figure size 900x600 with 2 Axes>"
      ]
     },
     "metadata": {
      "tags": [],
      "needs_background": "light"
     }
    }
   ]
  },
  {
   "cell_type": "markdown",
   "metadata": {
    "id": "QMoDbTHYFROP"
   },
   "source": [
    "# 4 - Operations on Embeddings\n",
    "\n",
    "Next, let's retrieve the word embeddings learned during training. This will be a matrix of shape `(vocab_size, embedding_size)`:"
   ]
  },
  {
   "cell_type": "code",
   "metadata": {
    "id": "nL4LDEV7ELZn",
    "colab": {
     "base_uri": "https://localhost:8080/"
    },
    "outputId": "5d670919-8e83-4d68-8a9c-dd7cebbbc88f"
   },
   "source": [
    "emb_matrix = gru_model.layers[1].get_weights()[0]\n",
    "print(emb_matrix.shape)"
   ],
   "execution_count": null,
   "outputs": [
    {
     "output_type": "stream",
     "text": [
      "(10000, 16)\n"
     ],
     "name": "stdout"
    }
   ]
  },
  {
   "cell_type": "markdown",
   "metadata": {
    "id": "Kl1F4LvdaWMv"
   },
   "source": [
    "Using the word indices as defined by the tokenizer, you can now retrieve the word embedding vectors from the embedding matrix.\n",
    "\n",
    "**Task**: Complete the function `get_embedding_vector` for returning the embedding vector of a given word `word_in`."
   ]
  },
  {
   "cell_type": "code",
   "metadata": {
    "id": "_hkJKYavWqPj"
   },
   "source": [
    "def get_embedding_vector( word_in, tokenizer, embedding_matrix ):\n",
    "  \n",
    "  assert word_in in tokenizer.word_index.keys(), 'word not in vocabulary: \"{}\"'.format(word_in)\n",
    "\n",
    "  ### START YOUR CODE HERE ###  (≈2 LOC)\n",
    "\n",
    "  # Get the word index\n",
    "  ind = tokenizer.word_index[word_in]\n",
    "  # Lookup the embedding vector\n",
    "  emb_vec = emb_matrix[ind]\n",
    "\n",
    "  \n",
    "  ### END YOUR CODE HERE ###\n",
    "\n",
    "  return emb_vec"
   ],
   "execution_count": null,
   "outputs": []
  },
  {
   "cell_type": "code",
   "metadata": {
    "id": "qoQzFDEMTDvA",
    "colab": {
     "base_uri": "https://localhost:8080/"
    },
    "outputId": "0d707287-2f03-4137-8318-41bd12707b0a"
   },
   "source": [
    "len(list(tokenizer.index_word.keys()))"
   ],
   "execution_count": null,
   "outputs": [
    {
     "output_type": "execute_result",
     "data": {
      "text/plain": [
       "16286"
      ]
     },
     "metadata": {
      "tags": []
     },
     "execution_count": 18
    }
   ]
  },
  {
   "cell_type": "code",
   "metadata": {
    "id": "iD0SU1FwD7k3",
    "colab": {
     "base_uri": "https://localhost:8080/"
    },
    "outputId": "864507a2-4131-4305-ca93-de19fa13e875"
   },
   "source": [
    "get_embedding_vector('dog', tokenizer, emb_matrix)"
   ],
   "execution_count": null,
   "outputs": [
    {
     "output_type": "execute_result",
     "data": {
      "text/plain": [
       "array([-0.01588162,  0.04801065, -0.00946326,  0.02618463, -0.03257658,\n",
       "        0.02487237,  0.0173738 , -0.0404321 , -0.03775306,  0.04921504,\n",
       "       -0.04428474, -0.04773955, -0.03934409, -0.04432237,  0.00366922,\n",
       "        0.04565248], dtype=float32)"
      ]
     },
     "metadata": {
      "tags": []
     },
     "execution_count": 19
    }
   ]
  },
  {
   "cell_type": "markdown",
   "metadata": {
    "id": "OeKKqlWxViqP"
   },
   "source": [
    "## 4.1 - Word Similarity\n",
    "\n",
    "To measure how similar two words are, we need a way to measure the degree of similarity between two embeddings vectors for the two words. Given two word vectors $u$ and $v$, cosine similarity is defined by the cosine of the angle $\\theta$ between the two vectors: \n",
    "\n",
    "$$\\text{CosineSimilarity(u, v)} = cos(\\theta) = \\frac {u \\cdot v} {\\Vert u \\Vert \\Vert v \\Vert} $$\n",
    "\n",
    "where $u \\cdot v$ is the dot product of two vectors, $\\Vert u \\Vert$ is the norm (or length) of the vector $u$, and $\\theta$ is the angle between $u$ and $v$.\n",
    "\n",
    "If $u$ and $v$ are very similar, their cosine similarity will be close to 1. If they are dissimilar, the cosine similarity will take a smaller value down to -1. \n",
    "\n",
    "**Note**: The norm of $u$ is defined as $ \\Vert u \\Vert = \\sqrt{\\sum_{i=1}^{n} u_i^2}$.\n",
    "\n",
    "**Task**: Complete the function `cosine_similarity`."
   ]
  },
  {
   "cell_type": "code",
   "metadata": {
    "id": "YTVMBBWHVi8q"
   },
   "source": [
    "def cosine_similarity(u, v):\n",
    "\n",
    "  ### START YOUR CODE HERE ###  (≈3 LOC) \n",
    "  norm_a = np.linalg.norm(u)\n",
    "  norm_b = np.linalg.norm(v)\n",
    "  cos_similarity = np.dot(u, v) / (norm_a * norm_b)\n",
    "  ### END YOUR CODE HERE ###\n",
    "\n",
    "  return cos_similarity"
   ],
   "execution_count": 31,
   "outputs": []
  },
  {
   "cell_type": "markdown",
   "metadata": {
    "id": "7Pd0qIsvVWZa"
   },
   "source": [
    "Let's test some combinations:"
   ]
  },
  {
   "cell_type": "code",
   "metadata": {
    "id": "cr5i2ucUsnH4",
    "colab": {
     "base_uri": "https://localhost:8080/"
    },
    "outputId": "516fdf1b-0074-4769-8f70-081b392d849e"
   },
   "source": [
    "print(cosine_similarity(get_embedding_vector( 'beautiful', tokenizer, emb_matrix ),\n",
    "                        get_embedding_vector( 'wonderful', tokenizer, emb_matrix )))\n",
    "\n",
    "print(cosine_similarity(get_embedding_vector( 'woman', tokenizer, emb_matrix ),\n",
    "                        get_embedding_vector( 'man', tokenizer, emb_matrix )))"
   ],
   "execution_count": 32,
   "outputs": [
    {
     "output_type": "stream",
     "text": [
      "0.896077\n",
      "0.12309178\n"
     ],
     "name": "stdout"
    }
   ]
  },
  {
   "cell_type": "markdown",
   "metadata": {
    "id": "4DeJDhIbVZsN"
   },
   "source": [
    "## 4.2 - Similar Word Retrieval\n",
    "\n",
    "As mentioned in the video, we can use the word embedding for retrieval of $k$ semantically close words:"
   ]
  },
  {
   "cell_type": "code",
   "metadata": {
    "id": "J2LNV8PqFNJ1",
    "colab": {
     "base_uri": "https://localhost:8080/"
    },
    "outputId": "cb6d5d27-4de9-4282-8d2a-decf90743b75"
   },
   "source": [
    "def closest_word(word_in, emb_matrix, top_k=5):\n",
    "\n",
    "  # Get embedding vector of input word\n",
    "  word_in_emb = get_embedding_vector(word_in, tokenizer, emb_matrix)\n",
    "\n",
    "  # Compute similarities\n",
    "  similarity = [ cosine_similarity(w_emb, word_in_emb) for w_emb in emb_matrix ]\n",
    "\n",
    "  # Top-k words having largest similarity\n",
    "  idxs = np.argsort( similarity )[::-1][1:top_k+1]\n",
    "\n",
    "  return [ [tokenizer.index_word[i], similarity[i]] for i in idxs ]\n",
    "\n",
    "\n",
    "for word in ['beautiful', 'news']:\n",
    "  print(closest_word(word, emb_matrix))"
   ],
   "execution_count": 33,
   "outputs": [
    {
     "output_type": "stream",
     "text": [
      "[['important', 0.9083743], ['wonderful', 0.896077], ['every', 0.88394386], ['potential', 0.8737282], ['good', 0.8698812]]\n",
      "[['credibility', 0.87429506], ['soon', 0.81251645], ['trump', 0.80276686], ['word', 0.7987612], ['happy', 0.78762835]]\n"
     ],
     "name": "stdout"
    }
   ]
  },
  {
   "cell_type": "markdown",
   "metadata": {
    "id": "ml9h-Um8VjwR"
   },
   "source": [
    "## 4.3 - Word Analogy\n",
    "\n",
    "Another interesting task is the \"Word analogy task\", where we complete the sentence \"`a` is to `b` as `c` is to __\". In detail, we are trying to find a word `d`, such that the associated word vectors $e_a$, $e_b$, $e_c$, $e_d$, are related as follows:\n",
    "$$ e_b - e_a \\approx e_d - e_c. $$ \n",
    "\n",
    "The similary between $ e_b - e_a $ and $ e_d - e_c $ is measured using cosine similarity."
   ]
  },
  {
   "cell_type": "code",
   "metadata": {
    "id": "1ctEG9OSGZ5U"
   },
   "source": [
    "def complete_analogy(word_a, word_b, word_c):\n",
    "\n",
    "  # Convert words to lower case\n",
    "  word_a, word_b, word_c = word_a.lower(), word_b.lower(), word_c.lower()\n",
    "\n",
    "  # Get the embedding vectors\n",
    "  e_a = get_embedding_vector(word_a, tokenizer, emb_matrix)\n",
    "  e_b = get_embedding_vector(word_b, tokenizer, emb_matrix)\n",
    "  e_c = get_embedding_vector(word_c, tokenizer, emb_matrix)\n",
    "  \n",
    "  max_cosine_sim = -100\n",
    "  best_word = None\n",
    "\n",
    "  # Loop over the whole word vector set\n",
    "  for w_idx, w in enumerate(emb_matrix):\n",
    "    \n",
    "    # To avoid best_word being one of the input words, pass on them.\n",
    "    if (w == [e_a, e_b, e_c]).all(1).any():\n",
    "      continue\n",
    "    \n",
    "    # Compute cosine similarity between the vector (e_b - e_a) and the vector (w - e_c)\n",
    "    ### START YOUR CODE HERE ###  (≈1 LOC)\n",
    "    cosine_sim = cosine_similarity((e_b - e_a), (w - e_c) )\n",
    "    ### END YOUR CODE HERE ###\n",
    "\n",
    "    if cosine_sim > max_cosine_sim:\n",
    "      # Set new max similarity\n",
    "      max_cosine_sim = cosine_sim\n",
    "      # Select new best_word\n",
    "      best_word_idx = w_idx\n",
    "\n",
    "      print(cosine_sim, tokenizer.index_word[best_word_idx])\n",
    "      \n",
    "  return tokenizer.index_word[best_word_idx]"
   ],
   "execution_count": 34,
   "outputs": []
  },
  {
   "cell_type": "code",
   "metadata": {
    "id": "u-JolLb-GbAY",
    "colab": {
     "base_uri": "https://localhost:8080/"
    },
    "outputId": "f94bd647-9d7e-4a3d-ef56-77f113dcbf50"
   },
   "source": [
    "print(complete_analogy('china', 'beijing', 'usa'))\n",
    "\n",
    "print(complete_analogy('man', 'king', 'woman'))"
   ],
   "execution_count": 35,
   "outputs": [
    {
     "output_type": "stream",
     "text": [
      "0.6917039 <pad>\n",
      "<pad>\n",
      "0.47493193 <pad>\n",
      "0.5253788 prior\n",
      "0.56955963 broken\n",
      "0.61883724 popular\n",
      "0.6264749 fracking\n",
      "0.6273687 sides\n",
      "0.6869686 touch\n",
      "0.71308845 normal\n",
      "0.75096744 holocaust\n",
      "0.7884558 balance\n",
      "balance\n"
     ],
     "name": "stdout"
    }
   ]
  },
  {
   "cell_type": "markdown",
   "metadata": {
    "id": "ak5nkmWtmGxu"
   },
   "source": [
    "You may try different word combinations. However, our word embedding is not very powerful as we used a rather simple model for training, and more importantly, a comparably small text corpus."
   ]
  },
  {
   "cell_type": "markdown",
   "metadata": {
    "id": "L4nP9FYhcpdf"
   },
   "source": [
    "## 4.4 - GloVe Embedding\n",
    "\n",
    "Execute the cell below to download a more powerful word embedding, i.e., a 50-dimensional GloVe word embedding trained on Wikipedia (2014) and the Gigaword 5 corpus. The [GloVe embedding](https://nlp.stanford.edu/projects/glove/) is provided by the NLP research group at Stanford University."
   ]
  },
  {
   "cell_type": "code",
   "metadata": {
    "id": "HuSkrbHVmu7T",
    "cellView": "form"
   },
   "source": [
    "#@title Download GloVe Embedding\n",
    "\n",
    "import requests, os, zipfile\n",
    "import numpy as np\n",
    "\n",
    "def download_file_from_google_drive(id, destination):\n",
    "    URL = \"https://docs.google.com/uc?export=download\"\n",
    "    session = requests.Session()\n",
    "    response = session.get(URL, params = { 'id' : id }, stream = True)\n",
    "    token = get_confirm_token(response)\n",
    "    if token:\n",
    "        params = { 'id' : id, 'confirm' : token }\n",
    "        response = session.get(URL, params = params, stream = True)\n",
    "    save_response_content(response, destination)    \n",
    "\n",
    "def get_confirm_token(response):\n",
    "    for key, value in response.cookies.items():\n",
    "        if key.startswith('download_warning'):\n",
    "            return value\n",
    "    return None\n",
    "\n",
    "def save_response_content(response, destination):\n",
    "    CHUNK_SIZE = 32768\n",
    "    with open(destination, \"wb\") as f:\n",
    "        for chunk in response.iter_content(CHUNK_SIZE):\n",
    "            if chunk: # filter out keep-alive new chunks\n",
    "                f.write(chunk)\n",
    "\n",
    "def unzip(file, destination=None):\n",
    "  if not destination or not os.path.isdir(destination):\n",
    "    destination = os.path.dirname(file)\n",
    "  print('unzipping to ',destination)\n",
    "  zip_ref = zipfile.ZipFile(file, 'r')\n",
    "  zip_ref.extractall(destination)\n",
    "  zip_ref.close()\n",
    "\n",
    "\n",
    "data_path = '/tmp/glove'\n",
    "glove_file = os.path.join(data_path, 'glove.6B.50d.txt')\n",
    "!rm -rf $data_path\n",
    "os.makedirs(data_path)\n",
    "\n",
    "# download glove file\n",
    "download_file_from_google_drive('1JUdsQpf_-fGs8kYA4PBS1rnd0IPZYFVd', glove_file)\n",
    "\n",
    "def read_glove_vecs(glove_file):\n",
    "  with open(glove_file, 'r') as f:\n",
    "    words = set()\n",
    "    word_to_vec_map = {}\n",
    "    \n",
    "    for line in f:\n",
    "      line = line.strip().split()\n",
    "      curr_word = line[0]\n",
    "      words.add(curr_word)\n",
    "      word_to_vec_map[curr_word] = np.array(line[1:], dtype=np.float64)\n",
    "          \n",
    "  return words, word_to_vec_map"
   ],
   "execution_count": null,
   "outputs": []
  },
  {
   "cell_type": "code",
   "metadata": {
    "id": "HHmQji_yqbCH"
   },
   "source": [
    "words, word_to_vec_map = read_glove_vecs(glove_file)"
   ],
   "execution_count": 36,
   "outputs": []
  },
  {
   "cell_type": "markdown",
   "metadata": {
    "id": "-tvrwofYs698"
   },
   "source": [
    "You can get the embedding vector of a string by a lookup in the `word_to_vec_map`. Let's compute some word similarities using the GloVe embedding:"
   ]
  },
  {
   "cell_type": "code",
   "metadata": {
    "id": "SWABnyJgtCSN",
    "colab": {
     "base_uri": "https://localhost:8080/"
    },
    "outputId": "96c406bc-2f53-4b30-b046-c7a44aa92fda"
   },
   "source": [
    "print(cosine_similarity(word_to_vec_map['beautiful'],\n",
    "                        word_to_vec_map['wonderful'],))\n",
    "\n",
    "print(cosine_similarity(word_to_vec_map['dog'],\n",
    "                        word_to_vec_map['cat'],))\n",
    "\n",
    "print(cosine_similarity(word_to_vec_map['woman'],\n",
    "                        word_to_vec_map['man'],))"
   ],
   "execution_count": 37,
   "outputs": [
    {
     "output_type": "stream",
     "text": [
      "0.8296378712614463\n",
      "0.9218005273769252\n",
      "0.886033771849582\n"
     ],
     "name": "stdout"
    }
   ]
  },
  {
   "cell_type": "markdown",
   "metadata": {
    "id": "tRthN117e91L"
   },
   "source": [
    "Let's see if the GloVe Embedding allows for better analogies:"
   ]
  },
  {
   "cell_type": "code",
   "metadata": {
    "id": "AEm6ZQzyZ-Qb"
   },
   "source": [
    "def complete_analogy_glove(word_a, word_b, word_c):\n",
    "\n",
    "  # Convert words to lower case\n",
    "  word_a, word_b, word_c = word_a.lower(), word_b.lower(), word_c.lower()\n",
    "\n",
    "  # Get the embedding vectors\n",
    "  e_a = word_to_vec_map[word_a]\n",
    "  e_b = word_to_vec_map[word_b]\n",
    "  e_c = word_to_vec_map[word_c]\n",
    "  \n",
    "  words = word_to_vec_map.keys()\n",
    "  max_cosine_sim = -100\n",
    "  best_word = None\n",
    "\n",
    "  # Loop over the whole word vector set\n",
    "  for w in words:        \n",
    "    \n",
    "    # To avoid best_word being one of the input words, pass on them.\n",
    "    if w in [word_a, word_b, word_c] :\n",
    "      continue\n",
    "    \n",
    "    # Compute cosine similarity between the vector (e_b - e_a) and the vector ((w's vector representation) - e_c)\n",
    "    cosine_sim = cosine_similarity(e_b - e_a, word_to_vec_map[w] - e_c)\n",
    "    \n",
    "    if cosine_sim > max_cosine_sim:\n",
    "      # Set new max similarity\n",
    "      max_cosine_sim = cosine_sim\n",
    "      # Select new best_word\n",
    "      best_word = w\n",
    "      \n",
    "  return best_word"
   ],
   "execution_count": 38,
   "outputs": []
  },
  {
   "cell_type": "markdown",
   "metadata": {
    "id": "Jve-Ak7Nu6_K"
   },
   "source": [
    "Try out a few! Cool triplets are\n",
    "- `('king', 'man', 'queen')`\n",
    "- `('russia', 'russian', 'china')`\n",
    "- `('india', 'delhi', 'japan')`\n",
    "- `('man', 'woman', 'boy')`\n",
    "- `('small', 'smaller', 'big')`"
   ]
  },
  {
   "cell_type": "code",
   "metadata": {
    "id": "fRdX57Rshp3N",
    "colab": {
     "base_uri": "https://localhost:8080/",
     "height": 35
    },
    "outputId": "7a26a0ac-c97d-4f0e-8837-b2d376a74686"
   },
   "source": [
    "complete_analogy_glove('man', 'woman', 'boy')"
   ],
   "execution_count": 39,
   "outputs": [
    {
     "output_type": "execute_result",
     "data": {
      "application/vnd.google.colaboratory.intrinsic+json": {
       "type": "string"
      },
      "text/plain": [
       "'girl'"
      ]
     },
     "metadata": {
      "tags": []
     },
     "execution_count": 39
    }
   ]
  },
  {
   "cell_type": "markdown",
   "metadata": {
    "id": "IrIxnff2mTGi"
   },
   "source": [
    "And for the most similar words:"
   ]
  },
  {
   "cell_type": "code",
   "metadata": {
    "id": "D-frwnAow2jP",
    "colab": {
     "base_uri": "https://localhost:8080/"
    },
    "outputId": "69ca0d47-8307-4016-fd10-23d37be8661c"
   },
   "source": [
    "def closest_word_glove(embedding_vector, remove_words=[], top_k=5):\n",
    "\n",
    "  # Get vocabulary\n",
    "  vocabulary = list(word_to_vec_map.keys())\n",
    "  # To avoid top words being one of the input words, remove them from list\n",
    "  for w in remove_words:\n",
    "    vocabulary.remove(w)\n",
    "\n",
    "  # Compute embeddings of all words\n",
    "  w_embeddings = np.array([word_to_vec_map[w] for w in vocabulary])\n",
    "\n",
    "  # Compute similarities\n",
    "  similarity = [ cosine_similarity(w_emb, embedding_vector) for w_emb in w_embeddings ]\n",
    "\n",
    "  # Index of max similary\n",
    "  idxs = np.argsort( similarity )[::-1][:top_k]\n",
    "\n",
    "  return [ [vocabulary[i], similarity[i]] for i in idxs ]\n",
    "\n",
    "\n",
    "for word in ['beautiful', 'news']:\n",
    "  print(closest_word_glove(word_to_vec_map[word], [word]))"
   ],
   "execution_count": 40,
   "outputs": [
    {
     "output_type": "stream",
     "text": [
      "[['lovely', 0.921088084676833], ['gorgeous', 0.893486407216522], ['wonderful', 0.8296378712614463], ['charming', 0.8249218663752111], ['beauty', 0.8014683990617305]]\n",
      "[['press', 0.8883447788255655], ['interview', 0.849574463576904], ['newspaper', 0.8341822594978635], ['newspapers', 0.828009445659333], ['reported', 0.8237055907435875]]\n"
     ],
     "name": "stdout"
    }
   ]
  },
  {
   "cell_type": "markdown",
   "metadata": {
    "id": "4sbNGZ5xdbxK"
   },
   "source": [
    "***\n",
    "\n",
    "# Congratulations!\n",
    "\n",
    "You may now submit your notebook to moodle:\n",
    "- Enter your email adress in the cell below.\n",
    "- Save the notebook (`CTRL`+ `s` or '*File*' -> '*Save*')\n",
    "- Click on '*File*' -> '*Download .ipynb*' for downloading the notebook as IPython Notebook file.\n",
    "- Upload the downloaded IPython Notebook file to **Moodle**."
   ]
  }
 ]
}