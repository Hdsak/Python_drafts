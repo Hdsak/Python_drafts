{
  "nbformat": 4,
  "nbformat_minor": 0,
  "metadata": {
    "accelerator": "GPU",
    "colab": {
      "name": "DL_Lab_3_1_homework.ipynb",
      "provenance": [],
      "collapsed_sections": [],
      "toc_visible": true
    },
    "kernelspec": {
      "display_name": "Python 3",
      "name": "python3"
    }
  },
  "cells": [
    {
      "cell_type": "markdown",
      "metadata": {
        "id": "B_9de7rQ0zLH"
      },
      "source": [
        "# DL Lab 3.1 - Homework - Text Generation\n",
        "\n",
        "In this lab, you will generate text using character-based Neural Networks. You will work on a dataset of Tweets by Donald Trump as provided by the [Trump Twitter Archive](https://www.thetrumparchive.com) by Brendan Brown. Given a sequence of characters from this text data, e.g, \"*Make Americ*\", you will train models to predict the next character in the sequence (\"*a*\").\n",
        "\n",
        "Trying to predict the unpredictable, this lab is meant to contrast three approaches:\n",
        "\n",
        "(1) using a fully-connected neural network,\n",
        "(2) using a fully convolutional network, and\n",
        "(3) using a type of Recurrent Neural Networks (RNNs) based on Gated Recurrent Unit (GRU) cells.\n",
        "\n",
        "***\n",
        "\n",
        "**After completing this homework you will be able to**\n",
        "\n",
        "- Process text data in terms of **character vectorization** and **sequence slicing** for **batched dataset generation**.\n",
        "- Build **RNN models** based on **GRU** cells.\n",
        "- Use trained models for **text generation**.\n",
        "\n",
        "***\n",
        "\n",
        "**Instructions**\n",
        "\n",
        "- You'll be using Python 3 in the iPython based Google Colaboratory\n",
        "- Lines encapsulated in \"<font color='green'>`### START YOUR CODE HERE ###`</font>\" and \"<font color='green'>`### END YOUR CODE HERE ###`</font>\" denote the code fragments to be completed by you.\n",
        "- There's no need to write any other code.\n",
        "- After writing your code, you can run the cell by either pressing `SHIFT`+`ENTER` or by clicking on the play symbol on the left side of the cell.\n",
        "- We may specify \"<font color='green'>`(≈ X LOC)`</font>\" to tell you about how many lines of code you need to write. This is just a rough estimate, so don't feel bad if your code is longer or shorter.\n",
        "- If you get stuck, check your Lecture and Lab notes and use the [discussion forum](https://moodle2.tu-ilmenau.de/mod/forum/view.php?id=102963) in Moodle.\n",
        "\n",
        "Let's get started!"
      ]
    },
    {
      "cell_type": "markdown",
      "metadata": {
        "id": "AsnLdskLJKVS"
      },
      "source": [
        "**Note**: Training Neural Networks is a computationally expensive process. Most of the computations can be parallelized very efficently, making them a perfect fit for GPU-acceleration. In order to enable a GPU for your Colab session, do the following steps:\n",
        "- Click '*Runtime*' -> '*Change runtime type*'\n",
        "- In the pop-up window for '*Hardware accelerator*', select '*GPU*' \n",
        "- Click '*Save*'"
      ]
    },
    {
      "cell_type": "markdown",
      "metadata": {
        "id": "__7Oh3RUSUCI"
      },
      "source": [
        "# 0 - Test for GPU\n",
        "\n",
        "Execute the code below for printing the TF version and testing for GPU availability."
      ]
    },
    {
      "cell_type": "code",
      "metadata": {
        "cellView": "form",
        "id": "3i2rd_teRGJv",
        "colab": {
          "base_uri": "https://localhost:8080/"
        },
        "outputId": "afaec627-d0e5-42f9-c8c7-c98ff2075b80"
      },
      "source": [
        "#@title Print TF version and GPU stats\n",
        "import tensorflow as tf\n",
        "import sys\n",
        "print('TensorFlow version:', tf.__version__)\n",
        "\n",
        "device_name = tf.test.gpu_device_name()\n",
        "if device_name != '/device:GPU:0':\n",
        "   raise SystemError('GPU device not found')\n",
        "print('Found GPU at: {}'.format(device_name), '', sep='\\n')\n",
        "!nvidia-smi"
      ],
      "execution_count": 1,
      "outputs": [
        {
          "output_type": "stream",
          "text": [
            "TensorFlow version: 2.3.0\n",
            "Found GPU at: /device:GPU:0\n",
            "\n",
            "Tue Dec  8 02:48:00 2020       \n",
            "+-----------------------------------------------------------------------------+\n",
            "| NVIDIA-SMI 455.45.01    Driver Version: 418.67       CUDA Version: 10.1     |\n",
            "|-------------------------------+----------------------+----------------------+\n",
            "| GPU  Name        Persistence-M| Bus-Id        Disp.A | Volatile Uncorr. ECC |\n",
            "| Fan  Temp  Perf  Pwr:Usage/Cap|         Memory-Usage | GPU-Util  Compute M. |\n",
            "|                               |                      |               MIG M. |\n",
            "|===============================+======================+======================|\n",
            "|   0  Tesla T4            Off  | 00000000:00:04.0 Off |                    0 |\n",
            "| N/A   67C    P0    31W /  70W |    227MiB / 15079MiB |      2%      Default |\n",
            "|                               |                      |                 ERR! |\n",
            "+-------------------------------+----------------------+----------------------+\n",
            "                                                                               \n",
            "+-----------------------------------------------------------------------------+\n",
            "| Processes:                                                                  |\n",
            "|  GPU   GI   CI        PID   Type   Process name                  GPU Memory |\n",
            "|        ID   ID                                                   Usage      |\n",
            "|=============================================================================|\n",
            "|  No running processes found                                                 |\n",
            "+-----------------------------------------------------------------------------+\n"
          ],
          "name": "stdout"
        }
      ]
    },
    {
      "cell_type": "markdown",
      "metadata": {
        "id": "cFyNVcbwj959"
      },
      "source": [
        "# 1 - Download and Prepare the Data\n",
        "Execute the cells below to download the data provided by the [Trump Twitter Archive](https://www.thetrumparchive.com)"
      ]
    },
    {
      "cell_type": "code",
      "metadata": {
        "cellView": "form",
        "id": "F2O82Brfj8Ih"
      },
      "source": [
        "#@title Dataset Downloader\n",
        "\n",
        "import requests, os, zipfile\n",
        "import numpy as np\n",
        "\n",
        "def download_file_from_google_drive(id, destination):\n",
        "    URL = \"https://docs.google.com/uc?export=download\"\n",
        "    session = requests.Session()\n",
        "    response = session.get(URL, params = { 'id' : id }, stream = True)\n",
        "    token = get_confirm_token(response)\n",
        "    if token:\n",
        "        params = { 'id' : id, 'confirm' : token }\n",
        "        response = session.get(URL, params = params, stream = True)\n",
        "    save_response_content(response, destination)    \n",
        "\n",
        "def get_confirm_token(response):\n",
        "    for key, value in response.cookies.items():\n",
        "        if key.startswith('download_warning'):\n",
        "            return value\n",
        "    return None\n",
        "\n",
        "def save_response_content(response, destination):\n",
        "    CHUNK_SIZE = 32768\n",
        "    with open(destination, \"wb\") as f:\n",
        "        for chunk in response.iter_content(CHUNK_SIZE):\n",
        "            if chunk: # filter out keep-alive new chunks\n",
        "                f.write(chunk)\n",
        "    \n",
        "dataset_file = '/tmp/tweets.csv'\n",
        "download_file_from_google_drive('1HE_ezCVWG7JSy5fDSASAmrkmUUbPpWAC', dataset_file)\n"
      ],
      "execution_count": 2,
      "outputs": []
    },
    {
      "cell_type": "code",
      "metadata": {
        "cellView": "form",
        "id": "p864yInEI5En"
      },
      "source": [
        "#@title `plot_history()` definition\n",
        "from matplotlib import pyplot as plt\n",
        "\n",
        "def plot_history(history, ylim=None):\n",
        "  fig, (ax1, ax2) = plt.subplots(2,1, sharex=True, dpi=150)\n",
        "  ax1.plot(np.array(history.epoch)+1, history.history['loss'])\n",
        "  ax1.set_ylabel('Cross-Entropy Loss')\n",
        "  ax1.set_yscale('log')\n",
        "  ax1.grid(alpha=.5)\n",
        "  if history.history.__contains__('lr'):\n",
        "    ax1b = ax1.twinx()\n",
        "    ax1b.plot(history.history['lr'], 'g-', linewidth=1)\n",
        "    ax1b.set_yscale('log')\n",
        "    ax1b.set_ylabel('Learning Rate', color='g')\n",
        "\n",
        "  ax2.plot(np.array(history.epoch)+1, history.history['accuracy'])\n",
        "  ax2.set_ylabel('Accuracy')\n",
        "  ax2.set_xlabel('Epochs')\n",
        "  ax2.grid(alpha=.5)\n",
        "  if ylim:\n",
        "    ax2.set_ylim(ylim)\n",
        "  #ax2.legend()\n",
        "  plt.show() "
      ],
      "execution_count": 3,
      "outputs": []
    },
    {
      "cell_type": "markdown",
      "metadata": {
        "id": "gjl9QvOToA_J"
      },
      "source": [
        "We will use [pandas](https://pandas.pydata.org/docs/) for importing and cleaning of the data. Let's load the data and see how it is structured:"
      ]
    },
    {
      "cell_type": "code",
      "metadata": {
        "id": "AsYbb_V2MqmK",
        "colab": {
          "base_uri": "https://localhost:8080/",
          "height": 195
        },
        "outputId": "fee1f930-ed74-41bc-aba7-4d02eed466fa"
      },
      "source": [
        "import pandas as pd\n",
        "\n",
        "tweets = pd.read_csv(dataset_file, )\n",
        "tweets.head()"
      ],
      "execution_count": 4,
      "outputs": [
        {
          "output_type": "execute_result",
          "data": {
            "text/html": [
              "<div>\n",
              "<style scoped>\n",
              "    .dataframe tbody tr th:only-of-type {\n",
              "        vertical-align: middle;\n",
              "    }\n",
              "\n",
              "    .dataframe tbody tr th {\n",
              "        vertical-align: top;\n",
              "    }\n",
              "\n",
              "    .dataframe thead th {\n",
              "        text-align: right;\n",
              "    }\n",
              "</style>\n",
              "<table border=\"1\" class=\"dataframe\">\n",
              "  <thead>\n",
              "    <tr style=\"text-align: right;\">\n",
              "      <th></th>\n",
              "      <th>id</th>\n",
              "      <th>text</th>\n",
              "      <th>isRetweet</th>\n",
              "      <th>isDeleted</th>\n",
              "      <th>device</th>\n",
              "      <th>favorites</th>\n",
              "      <th>retweets</th>\n",
              "      <th>date</th>\n",
              "    </tr>\n",
              "  </thead>\n",
              "  <tbody>\n",
              "    <tr>\n",
              "      <th>0</th>\n",
              "      <td>98454970654916608</td>\n",
              "      <td>Republicans and Democrats have both created ou...</td>\n",
              "      <td>f</td>\n",
              "      <td>f</td>\n",
              "      <td>TweetDeck</td>\n",
              "      <td>49</td>\n",
              "      <td>255</td>\n",
              "      <td>2011-08-02 18:07:48</td>\n",
              "    </tr>\n",
              "    <tr>\n",
              "      <th>1</th>\n",
              "      <td>1234653427789070336</td>\n",
              "      <td>I was thrilled to be back in the Great city of...</td>\n",
              "      <td>f</td>\n",
              "      <td>f</td>\n",
              "      <td>Twitter for iPhone</td>\n",
              "      <td>73748</td>\n",
              "      <td>17404</td>\n",
              "      <td>2020-03-03 01:34:50</td>\n",
              "    </tr>\n",
              "    <tr>\n",
              "      <th>2</th>\n",
              "      <td>1218010753434820614</td>\n",
              "      <td>RT @CBS_Herridge: READ: Letter to surveillance...</td>\n",
              "      <td>t</td>\n",
              "      <td>f</td>\n",
              "      <td>Twitter for iPhone</td>\n",
              "      <td>0</td>\n",
              "      <td>7396</td>\n",
              "      <td>2020-01-17 03:22:47</td>\n",
              "    </tr>\n",
              "    <tr>\n",
              "      <th>3</th>\n",
              "      <td>1304875170860015617</td>\n",
              "      <td>The Unsolicited Mail In Ballot Scam is a major...</td>\n",
              "      <td>f</td>\n",
              "      <td>f</td>\n",
              "      <td>Twitter for iPhone</td>\n",
              "      <td>80527</td>\n",
              "      <td>23502</td>\n",
              "      <td>2020-09-12 20:10:58</td>\n",
              "    </tr>\n",
              "    <tr>\n",
              "      <th>4</th>\n",
              "      <td>1218159531554897920</td>\n",
              "      <td>RT @MZHemingway: Very friendly telling of even...</td>\n",
              "      <td>t</td>\n",
              "      <td>f</td>\n",
              "      <td>Twitter for iPhone</td>\n",
              "      <td>0</td>\n",
              "      <td>9081</td>\n",
              "      <td>2020-01-17 13:13:59</td>\n",
              "    </tr>\n",
              "  </tbody>\n",
              "</table>\n",
              "</div>"
            ],
            "text/plain": [
              "                    id  ...                 date\n",
              "0    98454970654916608  ...  2011-08-02 18:07:48\n",
              "1  1234653427789070336  ...  2020-03-03 01:34:50\n",
              "2  1218010753434820614  ...  2020-01-17 03:22:47\n",
              "3  1304875170860015617  ...  2020-09-12 20:10:58\n",
              "4  1218159531554897920  ...  2020-01-17 13:13:59\n",
              "\n",
              "[5 rows x 8 columns]"
            ]
          },
          "metadata": {
            "tags": []
          },
          "execution_count": 4
        }
      ]
    },
    {
      "cell_type": "markdown",
      "metadata": {
        "id": "9CnwieFWp0xp"
      },
      "source": [
        "We will clean the data by removing Retweets, citation tweets, urls etc. Also, we will keep only popular tweets (having $ \\geq 10^4$ likes) and tweets with a minimum of 50 characters. In addition, we will convert all characters to lowercase and keep only alphanumeric characters:"
      ]
    },
    {
      "cell_type": "code",
      "metadata": {
        "id": "m2lSfxLyMqo_",
        "colab": {
          "base_uri": "https://localhost:8080/"
        },
        "outputId": "948935c8-ee25-46c1-fa8b-39849fd28e39"
      },
      "source": [
        "print('Initial amount of Tweets:',len(tweets))\n",
        "# remove retweets\n",
        "tweets.drop(tweets[tweets.isRetweet == 't'].index, inplace=True)\n",
        "# remove unpopular tweets\n",
        "tweets.drop(tweets[tweets.favorites < 1e4].index, inplace=True)\n",
        "# convert to lowercase\n",
        "tweets.text = tweets.text.str.lower()\n",
        "# remove urls from tweets\n",
        "tweets.text.replace(regex=r'https?:\\/\\/(www\\.)?[-a-z0-9@:%._\\+~#=]{1,256}\\.[a-z0-9()]{1,6}\\b([-a-z0-9()@:%_\\+.~#?&\\/=]*)', value='', inplace=True)\n",
        "# remove citation tweets\n",
        "tweets.drop(tweets[tweets.text.str.startswith('\"\"\"')].index, inplace=True)\n",
        "tweets.drop(tweets[tweets.text.str.startswith('\"via ')].index, inplace=True)\n",
        "# remove non alphanumeric chars\n",
        "tweets.text.replace(regex=r'[^a-z0-9,. ]', value='', inplace=True)\n",
        "tweets.drop(tweets[tweets.text.str.startswith('    ')].index, inplace=True)\n",
        "# remove short tweets\n",
        "tweets.drop(tweets[tweets.text.map(len) < 50].index, inplace=True)\n",
        "print('Remaining Tweets:',len(tweets))"
      ],
      "execution_count": 5,
      "outputs": [
        {
          "output_type": "stream",
          "text": [
            "Initial amount of Tweets: 55090\n",
            "Remaining Tweets: 14271\n"
          ],
          "name": "stdout"
        }
      ]
    },
    {
      "cell_type": "markdown",
      "metadata": {
        "id": "7gMsqhCVq0Uv"
      },
      "source": [
        "Next, we will put the tweets' text into a list and create a vocabulary of all unique characters. Note that we add another distinct character `&` at index `0`. We will use this character for sequence padding in Section 4."
      ]
    },
    {
      "cell_type": "code",
      "metadata": {
        "id": "u39ceeKjMquo",
        "colab": {
          "base_uri": "https://localhost:8080/"
        },
        "outputId": "0a7b2829-d462-42bd-bc0f-1e018b75bdc0"
      },
      "source": [
        "tweets = tweets.text.to_list()\n",
        "\n",
        "vocabulary = ['&'] + list(set(char for tweet in tweets for char in tweet))\n",
        "print('{} unique characters'.format(len(vocabulary)))"
      ],
      "execution_count": 6,
      "outputs": [
        {
          "output_type": "stream",
          "text": [
            "40 unique characters\n"
          ],
          "name": "stdout"
        }
      ]
    },
    {
      "cell_type": "markdown",
      "metadata": {
        "id": "atnyCAjudgeC"
      },
      "source": [
        "As discussed in the video, we need a vectorized representation of the characters. The next cell creates lookup dictionaries for converting all characters to indices (`char2idx`) and vice versa (`idx2char`):"
      ]
    },
    {
      "cell_type": "code",
      "metadata": {
        "id": "lXdPKRGPdb5I",
        "colab": {
          "base_uri": "https://localhost:8080/"
        },
        "outputId": "dc159f96-0de1-4c40-92e8-dc462385ce20"
      },
      "source": [
        "# Create a mapping from unique characters to indices and vice versa\n",
        "char2idx = {u:i for i, u in enumerate(vocabulary)}\n",
        "idx2char = dict(map(reversed, char2idx.items()))\n",
        "\n",
        "print(char2idx)\n",
        "print(idx2char)"
      ],
      "execution_count": 7,
      "outputs": [
        {
          "output_type": "stream",
          "text": [
            "{'&': 0, '5': 1, 'a': 2, 'v': 3, '8': 4, 'd': 5, 'g': 6, 'b': 7, 's': 8, 'z': 9, 'x': 10, 'l': 11, 'u': 12, 'h': 13, 'j': 14, '4': 15, 'i': 16, 'o': 17, 'n': 18, 't': 19, 'm': 20, ',': 21, '1': 22, '3': 23, ' ': 24, 'w': 25, 'q': 26, 'c': 27, '6': 28, '2': 29, '0': 30, 'f': 31, 'p': 32, '9': 33, 'e': 34, 'r': 35, '7': 36, 'y': 37, 'k': 38, '.': 39}\n",
            "{0: '&', 1: '5', 2: 'a', 3: 'v', 4: '8', 5: 'd', 6: 'g', 7: 'b', 8: 's', 9: 'z', 10: 'x', 11: 'l', 12: 'u', 13: 'h', 14: 'j', 15: '4', 16: 'i', 17: 'o', 18: 'n', 19: 't', 20: 'm', 21: ',', 22: '1', 23: '3', 24: ' ', 25: 'w', 26: 'q', 27: 'c', 28: '6', 29: '2', 30: '0', 31: 'f', 32: 'p', 33: '9', 34: 'e', 35: 'r', 36: '7', 37: 'y', 38: 'k', 39: '.'}\n"
          ],
          "name": "stdout"
        }
      ]
    },
    {
      "cell_type": "markdown",
      "metadata": {
        "id": "L2-LZz2WsIOB"
      },
      "source": [
        "Let's create some utility functions for converting a text to sequence as well as a sequence to text:"
      ]
    },
    {
      "cell_type": "code",
      "metadata": {
        "id": "VVPyFUk1MrDq",
        "colab": {
          "base_uri": "https://localhost:8080/"
        },
        "outputId": "c108c1fc-aa18-43fd-9a9a-4521ce9398bb"
      },
      "source": [
        "def sequence_to_text(sequence):\n",
        "  ''' Convert input sequence of character indices `sequence` to text. '''\n",
        "  text = [idx2char.get(char_idx) for char_idx in np.array(sequence) if char_idx]\n",
        "  return ''.join(text)\n",
        "\n",
        "def text_to_sequence(text):\n",
        "  ''' Convert input text `text` into sequence of character indices. '''\n",
        "  sequence = [char2idx.get(char) for char in text]\n",
        "  return sequence\n",
        "\n",
        "print(text_to_sequence('foo bar'))\n",
        "print(sequence_to_text(text_to_sequence('foo bar')))"
      ],
      "execution_count": 8,
      "outputs": [
        {
          "output_type": "stream",
          "text": [
            "[31, 17, 17, 24, 7, 2, 35]\n",
            "foo bar\n"
          ],
          "name": "stdout"
        }
      ]
    },
    {
      "cell_type": "markdown",
      "metadata": {
        "id": "ZiyJmwarD5e1"
      },
      "source": [
        "# 2 - Multi Layer Perceptron"
      ]
    },
    {
      "cell_type": "markdown",
      "metadata": {
        "id": "wm9Ozuc7F8o3"
      },
      "source": [
        "## 2.1 - Data Preparation for MLP\n",
        "\n",
        "As discussed in DL lab video 3.1, the MLP and FCN models will be fed with a coherent list of input characters, e.g., 16 characters. Given this input of 16 characters, the training objective for these models is to predict the next character.\n",
        "\n",
        "As we cannot use sequential data as is, we will join all tweets into a single one, i.e., we merge all tweets into one large list of characters."
      ]
    },
    {
      "cell_type": "code",
      "metadata": {
        "id": "-IrN4UVqGAFK"
      },
      "source": [
        "# length of input sequence\n",
        "seq_length_mlp = 16\n",
        "\n",
        "combined_text = ' '.join([tweet for tweet in tweets])\n",
        "combined_sequence = text_to_sequence(combined_text)"
      ],
      "execution_count": 9,
      "outputs": []
    },
    {
      "cell_type": "markdown",
      "metadata": {
        "id": "eIodgym3EbKg"
      },
      "source": [
        "Next, we can use TensorFlows [Dataset module](https://www.tensorflow.org/api_docs/python/tf/data/Dataset) for slicing the combined text into pieces containing 17 characters each. For slicing, we can simply use the [`batch` method](https://www.tensorflow.org/api_docs/python/tf/data/Dataset#batch) on our dataset:"
      ]
    },
    {
      "cell_type": "code",
      "metadata": {
        "id": "_c0C4PHrEbfF"
      },
      "source": [
        "dataset = tf.data.Dataset.from_tensor_slices(combined_sequence)\n",
        "sequences_mlp = dataset.batch(seq_length_mlp+1, drop_remainder=True)"
      ],
      "execution_count": 10,
      "outputs": []
    },
    {
      "cell_type": "markdown",
      "metadata": {
        "id": "tjASXyhYE4Vq"
      },
      "source": [
        "Our dataset now consist of samples, and each of them contains 17 characters. Next, we split these samples into input samples that contain the first 16 characters, and target samples that contain the last (17th) characters: "
      ]
    },
    {
      "cell_type": "code",
      "metadata": {
        "id": "qyBf7GRJOXrH",
        "colab": {
          "base_uri": "https://localhost:8080/"
        },
        "outputId": "63b46c2b-880f-4b9a-c9b1-866c84fc0404"
      },
      "source": [
        "def split_input_target(sequence):\n",
        "  input_sequence = sequence[:-1]\n",
        "  target_sequence = sequence[-1]\n",
        "  return input_sequence, target_sequence\n",
        "\n",
        "dataset_mlp = sequences_mlp.map(split_input_target)\n",
        "dataset_mlp"
      ],
      "execution_count": 11,
      "outputs": [
        {
          "output_type": "execute_result",
          "data": {
            "text/plain": [
              "<MapDataset shapes: ((16,), ()), types: (tf.int32, tf.int32)>"
            ]
          },
          "metadata": {
            "tags": []
          },
          "execution_count": 11
        }
      ]
    },
    {
      "cell_type": "markdown",
      "metadata": {
        "id": "OiBFOfSsHKgC"
      },
      "source": [
        "Let's check few input and target samples:"
      ]
    },
    {
      "cell_type": "code",
      "metadata": {
        "id": "Yr307_EbGAHq",
        "colab": {
          "base_uri": "https://localhost:8080/"
        },
        "outputId": "a5f77576-3de4-4218-874e-289acc3a1f49"
      },
      "source": [
        "for input_sample, target_sample in dataset_mlp.take(5):\n",
        "  print('Input sample: \"{}\"'.format(sequence_to_text(input_sample)))\n",
        "  print('Target sample: \"{}\"'.format(sequence_to_text([target_sample])))\n",
        "  print()"
      ],
      "execution_count": 12,
      "outputs": [
        {
          "output_type": "stream",
          "text": [
            "Input sample: \"i was thrilled t\"\n",
            "Target sample: \"o\"\n",
            "\n",
            "Input sample: \" be back in the \"\n",
            "Target sample: \"g\"\n",
            "\n",
            "Input sample: \"reat city of cha\"\n",
            "Target sample: \"r\"\n",
            "\n",
            "Input sample: \"lotte, north car\"\n",
            "Target sample: \"o\"\n",
            "\n",
            "Input sample: \"lina with thousa\"\n",
            "Target sample: \"n\"\n",
            "\n"
          ],
          "name": "stdout"
        }
      ]
    },
    {
      "cell_type": "markdown",
      "metadata": {
        "id": "Tdp_xccxHYTp"
      },
      "source": [
        "As you can see, the dataset now contains of tuples of input and target samples. For training, we need to group these tuples into batches:"
      ]
    },
    {
      "cell_type": "code",
      "metadata": {
        "id": "BzEnCtMbMVEk",
        "colab": {
          "base_uri": "https://localhost:8080/"
        },
        "outputId": "4ea5cc56-ad0c-448c-b5f7-fc16a60ea233"
      },
      "source": [
        "BATCH_SIZE = 64\n",
        "BUFFER_SIZE = 10000\n",
        "\n",
        "dataset_mlp = dataset_mlp.shuffle(BUFFER_SIZE).batch(BATCH_SIZE)\n",
        "dataset_mlp"
      ],
      "execution_count": 13,
      "outputs": [
        {
          "output_type": "execute_result",
          "data": {
            "text/plain": [
              "<BatchDataset shapes: ((None, 16), (None,)), types: (tf.int32, tf.int32)>"
            ]
          },
          "metadata": {
            "tags": []
          },
          "execution_count": 13
        }
      ]
    },
    {
      "cell_type": "markdown",
      "metadata": {
        "id": "EXfrEMFbH6Wr"
      },
      "source": [
        "## 2.2 - Model Definition and Training\n",
        "\n",
        "Let's create the MLP model consisting of *three hidden fully connected layers* with *1024 neurons*, *ReLU activation*, and `0.2` *dropout rate*. Character prediction is performed by a last *fully connected layer* with *softmax activation*.\n",
        "\n",
        "You should be pretty familiar with this already. Complete the model as defined in the DL lab video 3.1.\n",
        "\n",
        "**Task**: Complete the method `build_model_mlp` for creating the MLP model."
      ]
    },
    {
      "cell_type": "code",
      "metadata": {
        "id": "WS8qlKASMVLb"
      },
      "source": [
        "from tensorflow.keras import layers, Model\n",
        "from tensorflow.keras.optimizers import Adam\n",
        "\n",
        "def build_model_mlp(vocabulary_size, embedding_dim, input_length, summary=True):\n",
        "\n",
        "  inputs = layers.Input(shape=(input_length))\n",
        "  x = layers.Embedding(vocabulary_size, embedding_dim)(inputs)\n",
        "  x = layers.Flatten()(x)\n",
        "\n",
        "  ### START YOUR CODE HERE ###  (≈7 LOC)\n",
        "  x = layers.Dense(1024, activation=\"relu\")(x)\n",
        "  x = layers.Dropout(0.2)(x)\n",
        "  x = layers.Dense(1024, activation=\"relu\")(x)\n",
        "  x = layers.Dropout(0.2)(x)\n",
        "  x = layers.Dense(1024, activation=\"relu\")(x)\n",
        "  x = layers.Dropout(0.2)(x)\n",
        "  out = layers.Dense(vocabulary_size,activation='softmax')(x)\n",
        "\n",
        "  ### END YOUR CODE HERE ###\n",
        "\n",
        "  model = Model(inputs, out, name='multi_layer_perceptron')\n",
        "  model.compile(loss='sparse_categorical_crossentropy',\n",
        "                optimizer=Adam(lr=1e-3),\n",
        "                metrics='accuracy')\n",
        "  \n",
        "  if summary:\n",
        "    print(model.summary())\n",
        "  \n",
        "  return model"
      ],
      "execution_count": 16,
      "outputs": []
    },
    {
      "cell_type": "markdown",
      "metadata": {
        "id": "o_swu6pLJ3T8"
      },
      "source": [
        "Next we create an instance of the MLP model and train it for  30 epochs:"
      ]
    },
    {
      "cell_type": "code",
      "metadata": {
        "id": "zGi96jUPMVOW",
        "colab": {
          "base_uri": "https://localhost:8080/"
        },
        "outputId": "19571ca6-2f30-4200-a69e-c54ef75fe9b0"
      },
      "source": [
        "EMBEDDING_DIM = 32\n",
        "VOCABULARY_SIZE = len(vocabulary)\n",
        "\n",
        "mlp_model = build_model_mlp(VOCABULARY_SIZE, EMBEDDING_DIM, seq_length_mlp)\n",
        "mlp_history = mlp_model.fit(dataset_mlp, \n",
        "                            epochs=30)"
      ],
      "execution_count": 17,
      "outputs": [
        {
          "output_type": "stream",
          "text": [
            "Model: \"multi_layer_perceptron\"\n",
            "_________________________________________________________________\n",
            "Layer (type)                 Output Shape              Param #   \n",
            "=================================================================\n",
            "input_2 (InputLayer)         [(None, 16)]              0         \n",
            "_________________________________________________________________\n",
            "embedding_1 (Embedding)      (None, 16, 32)            1280      \n",
            "_________________________________________________________________\n",
            "flatten_1 (Flatten)          (None, 512)               0         \n",
            "_________________________________________________________________\n",
            "dense_4 (Dense)              (None, 1024)              525312    \n",
            "_________________________________________________________________\n",
            "dropout_3 (Dropout)          (None, 1024)              0         \n",
            "_________________________________________________________________\n",
            "dense_5 (Dense)              (None, 1024)              1049600   \n",
            "_________________________________________________________________\n",
            "dropout_4 (Dropout)          (None, 1024)              0         \n",
            "_________________________________________________________________\n",
            "dense_6 (Dense)              (None, 1024)              1049600   \n",
            "_________________________________________________________________\n",
            "dropout_5 (Dropout)          (None, 1024)              0         \n",
            "_________________________________________________________________\n",
            "dense_7 (Dense)              (None, 40)                41000     \n",
            "=================================================================\n",
            "Total params: 2,666,792\n",
            "Trainable params: 2,666,792\n",
            "Non-trainable params: 0\n",
            "_________________________________________________________________\n",
            "None\n",
            "Epoch 1/30\n",
            "2322/2322 [==============================] - 13s 6ms/step - loss: 2.1710 - accuracy: 0.3680\n",
            "Epoch 2/30\n",
            "2322/2322 [==============================] - 14s 6ms/step - loss: 1.7580 - accuracy: 0.4792\n",
            "Epoch 3/30\n",
            "2322/2322 [==============================] - 14s 6ms/step - loss: 1.5560 - accuracy: 0.5339\n",
            "Epoch 4/30\n",
            "2322/2322 [==============================] - 14s 6ms/step - loss: 1.4148 - accuracy: 0.5700\n",
            "Epoch 5/30\n",
            "2322/2322 [==============================] - 14s 6ms/step - loss: 1.3043 - accuracy: 0.5974\n",
            "Epoch 6/30\n",
            "2322/2322 [==============================] - 14s 6ms/step - loss: 1.2160 - accuracy: 0.6230\n",
            "Epoch 7/30\n",
            "2322/2322 [==============================] - 14s 6ms/step - loss: 1.1428 - accuracy: 0.6432\n",
            "Epoch 8/30\n",
            "2322/2322 [==============================] - 14s 6ms/step - loss: 1.0849 - accuracy: 0.6587\n",
            "Epoch 9/30\n",
            "2322/2322 [==============================] - 14s 6ms/step - loss: 1.0305 - accuracy: 0.6742\n",
            "Epoch 10/30\n",
            "2322/2322 [==============================] - 14s 6ms/step - loss: 0.9871 - accuracy: 0.6893\n",
            "Epoch 11/30\n",
            "2322/2322 [==============================] - 15s 6ms/step - loss: 0.9499 - accuracy: 0.6988\n",
            "Epoch 12/30\n",
            "2322/2322 [==============================] - 14s 6ms/step - loss: 0.9153 - accuracy: 0.7097\n",
            "Epoch 13/30\n",
            "2322/2322 [==============================] - 13s 6ms/step - loss: 0.8820 - accuracy: 0.7196\n",
            "Epoch 14/30\n",
            "2322/2322 [==============================] - 14s 6ms/step - loss: 0.8524 - accuracy: 0.7283\n",
            "Epoch 15/30\n",
            "2322/2322 [==============================] - 14s 6ms/step - loss: 0.8305 - accuracy: 0.7360\n",
            "Epoch 16/30\n",
            "2322/2322 [==============================] - 14s 6ms/step - loss: 0.8041 - accuracy: 0.7433\n",
            "Epoch 17/30\n",
            "2322/2322 [==============================] - 14s 6ms/step - loss: 0.7817 - accuracy: 0.7519\n",
            "Epoch 18/30\n",
            "2322/2322 [==============================] - 14s 6ms/step - loss: 0.7638 - accuracy: 0.7563\n",
            "Epoch 19/30\n",
            "2322/2322 [==============================] - 14s 6ms/step - loss: 0.7442 - accuracy: 0.7620\n",
            "Epoch 20/30\n",
            "2322/2322 [==============================] - 14s 6ms/step - loss: 0.7295 - accuracy: 0.7674\n",
            "Epoch 21/30\n",
            "2322/2322 [==============================] - 14s 6ms/step - loss: 0.7086 - accuracy: 0.7732\n",
            "Epoch 22/30\n",
            "2322/2322 [==============================] - 14s 6ms/step - loss: 0.6956 - accuracy: 0.7782\n",
            "Epoch 23/30\n",
            "2322/2322 [==============================] - 14s 6ms/step - loss: 0.6834 - accuracy: 0.7823\n",
            "Epoch 24/30\n",
            "2322/2322 [==============================] - 14s 6ms/step - loss: 0.6688 - accuracy: 0.7867\n",
            "Epoch 25/30\n",
            "2322/2322 [==============================] - 14s 6ms/step - loss: 0.6586 - accuracy: 0.7909\n",
            "Epoch 26/30\n",
            "2322/2322 [==============================] - 14s 6ms/step - loss: 0.6374 - accuracy: 0.7965\n",
            "Epoch 27/30\n",
            "2322/2322 [==============================] - 14s 6ms/step - loss: 0.6359 - accuracy: 0.7982\n",
            "Epoch 28/30\n",
            "2322/2322 [==============================] - 14s 6ms/step - loss: 0.6229 - accuracy: 0.8021\n",
            "Epoch 29/30\n",
            "2322/2322 [==============================] - 14s 6ms/step - loss: 0.6168 - accuracy: 0.8056\n",
            "Epoch 30/30\n",
            "2322/2322 [==============================] - 14s 6ms/step - loss: 0.6039 - accuracy: 0.8095\n"
          ],
          "name": "stdout"
        }
      ]
    },
    {
      "cell_type": "code",
      "metadata": {
        "id": "-zuS1KQl1gcv",
        "colab": {
          "base_uri": "https://localhost:8080/",
          "height": 562
        },
        "outputId": "5c5e07cd-edb8-45ef-d9ac-b9f622efd640"
      },
      "source": [
        "plot_history(mlp_history)"
      ],
      "execution_count": 18,
      "outputs": [
        {
          "output_type": "display_data",
          "data": {
            "image/png": "[encoded data removed]",
            "text/plain": [
              "<Figure size 900x600 with 2 Axes>"
            ]
          },
          "metadata": {
            "tags": [],
            "needs_background": "light"
          }
        }
      ]
    },
    {
      "cell_type": "markdown",
      "metadata": {
        "id": "EisC1eI4Sr60"
      },
      "source": [
        "## 2.2 - Text Generation\n",
        "\n",
        "If we want to use the trained model generating text, we repeatedly forward propagate a sequence of 16 characters through the model and append the predicted character to the sequence of generated text. In every step, we take the last 16 characters as input for out model."
      ]
    },
    {
      "cell_type": "code",
      "metadata": {
        "id": "kuHdSCWMMVRz"
      },
      "source": [
        "def generate_text_mlp(model, start_string, num_generate = 100):\n",
        "  # Convert start string to indices\n",
        "  seed_sequence = text_to_sequence(start_string)\n",
        "  generated_text = seed_sequence\n",
        "\n",
        "  for i in range(num_generate):\n",
        "    # feed last 16 characters into model\n",
        "    seed_sequence = tf.expand_dims(generated_text[-16:], 0)\n",
        "    predictions = model(seed_sequence)\n",
        "    # remove the batch dimension\n",
        "    predictions = tf.squeeze(predictions, 0)\n",
        "    predicted_id = np.argmax(predictions)\n",
        "\n",
        "    # append predicted char\n",
        "    generated_text.append(predicted_id)\n",
        "\n",
        "  return sequence_to_text(generated_text)"
      ],
      "execution_count": 19,
      "outputs": []
    },
    {
      "cell_type": "markdown",
      "metadata": {
        "id": "SrlJJDnqK5pD"
      },
      "source": [
        "Let's see what your model generates:"
      ]
    },
    {
      "cell_type": "code",
      "metadata": {
        "id": "MxHIud_jNr_r",
        "colab": {
          "base_uri": "https://localhost:8080/"
        },
        "outputId": "f8ade706-4a51-4172-b648-37463c9dfc5a"
      },
      "source": [
        "print(generate_text_mlp(mlp_model, 'many are saying '))\n",
        "print(generate_text_mlp(mlp_model, 'any are saying i')) # shift invariance"
      ],
      "execution_count": 20,
      "outputs": [
        {
          "output_type": "stream",
          "text": [
            "many are saying a big fally in our decision with the u.s. the whitehing in the can any the fake news media. we are b\n",
            "any are saying in the past of the 2020 and boom ot prople whole so with a fantastic. we will be a great governor, th\n"
          ],
          "name": "stdout"
        }
      ]
    },
    {
      "cell_type": "markdown",
      "metadata": {
        "id": "ZJyGSr43SX59"
      },
      "source": [
        "# 3 - Fully Convolutional Network"
      ]
    },
    {
      "cell_type": "markdown",
      "metadata": {
        "id": "LSkHD7miLBBa"
      },
      "source": [
        "## 3.1 - Data Preparation\n",
        "We will use the same data as aleady prepared for the MLP model. So, nothing to do here..."
      ]
    },
    {
      "cell_type": "markdown",
      "metadata": {
        "id": "vyCyQqumLZU2"
      },
      "source": [
        "## 3.2 - Model Definition and Training\n",
        "\n",
        "Next, create a FCN architecture consisting of stacks of Conv1D layers and MaxPooling1D layers. You may just create your very own architecture or use the one detailed in the lab 3.1 video.\n",
        "\n",
        "**Task**: Complete the method `build_model_cnn` for creating a fully convolutional model for predicting the next character of a given input sequence of characters."
      ]
    },
    {
      "cell_type": "code",
      "metadata": {
        "id": "lIwkp_OuRMAm"
      },
      "source": [
        "from tensorflow.keras import layers, Model\n",
        "from tensorflow.keras.optimizers import Adam\n",
        "\n",
        "def build_model_cnn(vocabulary_size, embedding_dim, input_length, summary=True):\n",
        "\n",
        "  inputs = layers.Input(shape=(input_length))\n",
        "  x = layers.Embedding(vocabulary_size, embedding_dim)(inputs)\n",
        "\n",
        "  ### START YOUR CODE HERE ###  (≈8 LOC)\n",
        "  x= layers.Conv1D(filters = 64,\n",
        "      kernel_size = 3,\n",
        "      padding=\"same\",\n",
        "      activation = 'relu')(x)\n",
        "  x= layers.Conv1D(filters = 64,\n",
        "      kernel_size = 3,\n",
        "      padding=\"same\",\n",
        "      activation = 'relu')(x)\n",
        "  x = layers.MaxPool1D(2)(x)\n",
        "  x= layers.Conv1D(filters = 128,\n",
        "      kernel_size = 3,\n",
        "      padding=\"same\",\n",
        "      activation = 'relu')(x)\n",
        "  x= layers.Conv1D(filters = 128,\n",
        "      kernel_size = 3,\n",
        "      padding=\"same\",\n",
        "      activation = 'relu')(x)\n",
        "  x=layers.MaxPool1D(2)(x)\n",
        "  x= layers.Conv1D(filters = 256,\n",
        "      kernel_size = 3,\n",
        "      padding=\"same\",\n",
        "      activation = 'relu')(x)\n",
        "  x= layers.Conv1D(filters = 256,\n",
        "      kernel_size = 3,\n",
        "      padding=\"same\",\n",
        "      activation = 'relu')(x)\n",
        "  ### END YOUR CODE HERE ###\n",
        "\n",
        "  out = layers.Conv1D(vocabulary_size, x.shape[1], activation='softmax')(x)\n",
        "\n",
        "  model = Model(inputs, out, name='fully_convolutional_model')\n",
        "\n",
        "  model.compile(loss='sparse_categorical_crossentropy',\n",
        "              optimizer=Adam(lr=1e-3),\n",
        "              metrics='accuracy')\n",
        "  \n",
        "  if summary:\n",
        "    print(model.summary())\n",
        "  \n",
        "  return model"
      ],
      "execution_count": 78,
      "outputs": []
    },
    {
      "cell_type": "code",
      "metadata": {
        "id": "hHoSN5SPScxL",
        "colab": {
          "base_uri": "https://localhost:8080/",
          "height": 1000
        },
        "outputId": "6c03f1b9-5476-43a0-e2cf-52d80f3d3981"
      },
      "source": [
        "cnn_model = build_model_cnn(VOCABULARY_SIZE, EMBEDDING_DIM, seq_length_mlp)\n",
        "cnn_history = cnn_model.fit(dataset_mlp,\n",
        "                            epochs=30)\n",
        "plot_history(cnn_history)"
      ],
      "execution_count": 79,
      "outputs": [
        {
          "output_type": "stream",
          "text": [
            "Model: \"fully_convolutional_model\"\n",
            "_________________________________________________________________\n",
            "Layer (type)                 Output Shape              Param #   \n",
            "=================================================================\n",
            "input_31 (InputLayer)        [(None, 16)]              0         \n",
            "_________________________________________________________________\n",
            "embedding_30 (Embedding)     (None, 16, 32)            1280      \n",
            "_________________________________________________________________\n",
            "conv1d_151 (Conv1D)          (None, 16, 64)            6208      \n",
            "_________________________________________________________________\n",
            "conv1d_152 (Conv1D)          (None, 16, 64)            12352     \n",
            "_________________________________________________________________\n",
            "max_pooling1d_50 (MaxPooling (None, 8, 64)             0         \n",
            "_________________________________________________________________\n",
            "conv1d_153 (Conv1D)          (None, 8, 128)            24704     \n",
            "_________________________________________________________________\n",
            "conv1d_154 (Conv1D)          (None, 8, 128)            49280     \n",
            "_________________________________________________________________\n",
            "max_pooling1d_51 (MaxPooling (None, 4, 128)            0         \n",
            "_________________________________________________________________\n",
            "conv1d_155 (Conv1D)          (None, 4, 256)            98560     \n",
            "_________________________________________________________________\n",
            "conv1d_156 (Conv1D)          (None, 4, 256)            196864    \n",
            "_________________________________________________________________\n",
            "conv1d_157 (Conv1D)          (None, 1, 40)             41000     \n",
            "=================================================================\n",
            "Total params: 430,248\n",
            "Trainable params: 430,248\n",
            "Non-trainable params: 0\n",
            "_________________________________________________________________\n",
            "None\n",
            "Epoch 1/30\n",
            "2322/2322 [==============================] - 16s 7ms/step - loss: 2.3425 - accuracy: 0.3262\n",
            "Epoch 2/30\n",
            "2322/2322 [==============================] - 17s 7ms/step - loss: 1.8814 - accuracy: 0.4474\n",
            "Epoch 3/30\n",
            "2322/2322 [==============================] - 16s 7ms/step - loss: 1.6987 - accuracy: 0.4984\n",
            "Epoch 4/30\n",
            "2322/2322 [==============================] - 16s 7ms/step - loss: 1.5796 - accuracy: 0.5300\n",
            "Epoch 5/30\n",
            "2322/2322 [==============================] - 16s 7ms/step - loss: 1.4954 - accuracy: 0.5526\n",
            "Epoch 6/30\n",
            "2322/2322 [==============================] - 16s 7ms/step - loss: 1.4268 - accuracy: 0.5689\n",
            "Epoch 7/30\n",
            "2322/2322 [==============================] - 16s 7ms/step - loss: 1.3711 - accuracy: 0.5829\n",
            "Epoch 8/30\n",
            "2322/2322 [==============================] - 17s 7ms/step - loss: 1.3203 - accuracy: 0.5957\n",
            "Epoch 9/30\n",
            "2322/2322 [==============================] - 16s 7ms/step - loss: 1.2743 - accuracy: 0.6072\n",
            "Epoch 10/30\n",
            "2322/2322 [==============================] - 16s 7ms/step - loss: 1.2307 - accuracy: 0.6172\n",
            "Epoch 11/30\n",
            "2322/2322 [==============================] - 17s 7ms/step - loss: 1.1868 - accuracy: 0.6308\n",
            "Epoch 12/30\n",
            "2322/2322 [==============================] - 17s 7ms/step - loss: 1.1526 - accuracy: 0.6391\n",
            "Epoch 13/30\n",
            "2322/2322 [==============================] - 17s 7ms/step - loss: 1.1160 - accuracy: 0.6487\n",
            "Epoch 14/30\n",
            "2322/2322 [==============================] - 17s 7ms/step - loss: 1.0826 - accuracy: 0.6577\n",
            "Epoch 15/30\n",
            "2322/2322 [==============================] - 16s 7ms/step - loss: 1.0478 - accuracy: 0.6666\n",
            "Epoch 16/30\n",
            "2322/2322 [==============================] - 17s 7ms/step - loss: 1.0228 - accuracy: 0.6745\n",
            "Epoch 17/30\n",
            "2322/2322 [==============================] - 16s 7ms/step - loss: 0.9908 - accuracy: 0.6829\n",
            "Epoch 18/30\n",
            "2322/2322 [==============================] - 17s 7ms/step - loss: 0.9650 - accuracy: 0.6897\n",
            "Epoch 19/30\n",
            "2322/2322 [==============================] - 16s 7ms/step - loss: 0.9442 - accuracy: 0.6973\n",
            "Epoch 20/30\n",
            "2322/2322 [==============================] - 16s 7ms/step - loss: 0.9194 - accuracy: 0.7039\n",
            "Epoch 21/30\n",
            "2322/2322 [==============================] - 17s 7ms/step - loss: 0.8924 - accuracy: 0.7131\n",
            "Epoch 22/30\n",
            "2322/2322 [==============================] - 16s 7ms/step - loss: 0.8764 - accuracy: 0.7164\n",
            "Epoch 23/30\n",
            "2322/2322 [==============================] - 17s 7ms/step - loss: 0.8559 - accuracy: 0.7219\n",
            "Epoch 24/30\n",
            "2322/2322 [==============================] - 16s 7ms/step - loss: 0.8454 - accuracy: 0.7260\n",
            "Epoch 25/30\n",
            "2322/2322 [==============================] - 16s 7ms/step - loss: 0.8231 - accuracy: 0.7317\n",
            "Epoch 26/30\n",
            "2322/2322 [==============================] - 16s 7ms/step - loss: 0.8121 - accuracy: 0.7357\n",
            "Epoch 27/30\n",
            "2322/2322 [==============================] - 17s 7ms/step - loss: 0.7957 - accuracy: 0.7406\n",
            "Epoch 28/30\n",
            "2322/2322 [==============================] - 16s 7ms/step - loss: 0.7844 - accuracy: 0.7451\n",
            "Epoch 29/30\n",
            "2322/2322 [==============================] - 16s 7ms/step - loss: 0.7747 - accuracy: 0.7479\n",
            "Epoch 30/30\n",
            "2322/2322 [==============================] - 16s 7ms/step - loss: 0.7563 - accuracy: 0.7531\n"
          ],
          "name": "stdout"
        },
        {
          "output_type": "display_data",
          "data": {
            "image/png": "[encoded data removed]",
            "text/plain": [
              "<Figure size 900x600 with 2 Axes>"
            ]
          },
          "metadata": {
            "tags": [],
            "needs_background": "light"
          }
        }
      ]
    },
    {
      "cell_type": "markdown",
      "metadata": {
        "id": "p9L2oETtfKuz"
      },
      "source": [
        "## 3.3 - Text Generation\n",
        "Let's see what your model generates:"
      ]
    },
    {
      "cell_type": "code",
      "metadata": {
        "id": "5gMsDJgppVy4",
        "colab": {
          "base_uri": "https://localhost:8080/"
        },
        "outputId": "71222417-7450-4efc-c610-62aeb2844469"
      },
      "source": [
        "print(generate_text_mlp(cnn_model, 'many are saying '))\n",
        "print(generate_text_mlp(cnn_model, 'any are saying i')) # shift invariance\n",
        "print(generate_text_mlp(cnn_model, 'many are saying im the')) # longer sequences"
      ],
      "execution_count": 82,
      "outputs": [
        {
          "output_type": "stream",
          "text": [
            "many are saying it day way on the way intil future, we have been us very difference buddua there are non the probald\n",
            "any are saying it day way on the way intil future, we have been us very difference buddua there are non the probald \n",
            "many are saying im the wayed and puppetc irnal, and real is compories are doing in friend about he the day there has been \n"
          ],
          "name": "stdout"
        }
      ]
    },
    {
      "cell_type": "markdown",
      "metadata": {
        "id": "Z4dmT1ZrF4jK"
      },
      "source": [
        "# 4 - Recurrent Neural Network"
      ]
    },
    {
      "cell_type": "markdown",
      "metadata": {
        "id": "BIT8HCSVfWYx"
      },
      "source": [
        "## 4.1 - Data Preparation\n",
        "We train the RNN in a sequence-to-sequence fashion. In detail, we have an input sequence of characters, and a corresponding target sequence of characters that is shifted by 1 character.\n",
        "In addition, instead of sampling from one merged large sequence, we will keep the original separated sequences. So, we start by converting all tweets into their vectorized representation:\n"
      ]
    },
    {
      "cell_type": "code",
      "metadata": {
        "id": "40LuE5W6SfWH"
      },
      "source": [
        "sequences = [text_to_sequence(tweet) for tweet in tweets]"
      ],
      "execution_count": 83,
      "outputs": []
    },
    {
      "cell_type": "markdown",
      "metadata": {
        "id": "RrcA7e01v0p-"
      },
      "source": [
        "The original tweets, hence also the vectorized sequences, have different lengths. For arranging them in a dataset of tensors, we need all sequences to have the same length."
      ]
    },
    {
      "cell_type": "code",
      "metadata": {
        "id": "HvagnRdxMqww",
        "colab": {
          "base_uri": "https://localhost:8080/",
          "height": 382
        },
        "outputId": "e75b171c-47dd-4dc3-cbcf-78aee0415041"
      },
      "source": [
        "from matplotlib import pyplot as plt\n",
        "\n",
        "plt.figure(dpi=100)\n",
        "plt.hist([len(x) for x in sequences])\n",
        "plt.xlabel('Sequence Length')\n",
        "plt.ylabel('No. of Sequences')\n",
        "plt.show()"
      ],
      "execution_count": 84,
      "outputs": [
        {
          "output_type": "display_data",
          "data": {
            "image/png": "[encoded data removed]",
            "text/plain": [
              "<Figure size 600x400 with 1 Axes>"
            ]
          },
          "metadata": {
            "tags": [],
            "needs_background": "light"
          }
        }
      ]
    },
    {
      "cell_type": "markdown",
      "metadata": {
        "id": "agkjBLrIoSqh"
      },
      "source": [
        "As we don't want to loose information by cutting all sequences to the shortest one, we will instead pad all sequences with a defined value, e.g., `0` (by default).\n",
        "\n",
        "Tensorflow comes with a [`pad_sequences`](https://www.tensorflow.org/api_docs/python/tf/keras/preprocessing/sequence/pad_sequences) method, that will do the padding:"
      ]
    },
    {
      "cell_type": "code",
      "metadata": {
        "id": "pacAkeKIMq-v"
      },
      "source": [
        "from tensorflow.keras.preprocessing.sequence import pad_sequences\n",
        "\n",
        "sequences = pad_sequences(sequences, \n",
        "                          padding='post',\n",
        "                          value=0)"
      ],
      "execution_count": 85,
      "outputs": []
    },
    {
      "cell_type": "markdown",
      "metadata": {
        "id": "87UITLwSpUq1"
      },
      "source": [
        "Now we can create a TF dataset and take a look on some examples:"
      ]
    },
    {
      "cell_type": "code",
      "metadata": {
        "id": "JzJw2J54FXSf",
        "colab": {
          "base_uri": "https://localhost:8080/"
        },
        "outputId": "2725a87f-df87-4d54-b676-9bc0b9900c48"
      },
      "source": [
        "dataset = tf.data.Dataset.from_tensor_slices(sequences)\n",
        "\n",
        "for item in dataset.take(5):\n",
        "  print(sequence_to_text(item))\n",
        "\n",
        "print('\\nSequence length:', sequences.shape[1])"
      ],
      "execution_count": 86,
      "outputs": [
        {
          "output_type": "stream",
          "text": [
            "i was thrilled to be back in the great city of charlotte, north carolina with thousands of hardworking american patriots who love our country, cherish our values, respect our laws, and always put america first thank you for a wonderful evening kag2020 \n",
            "the unsolicited mail in ballot scam is a major threat to our democracy, amp the democrats know it. almost all recent elections using this system, even though much smaller amp  with far fewer ballots to count, have ended up being a disaster. large numbers of missing ballots amp fraud\n",
            "im running as a proud democrat, for the senate. sleepy joe biden today. its only going to get worse. it is not sustainable for our county  china will own us\n",
            "huge win today for the united states and for peace in the world. sudan has agreed to a peace and normalization agreement with israel with the united arab emirates and bahrain, thats three arabcountries to have done so in only a matter of weeks. more will follow \n",
            "nobody is showing up for obamas hate laced speeches. 47 people no energy, but still better than joe\n",
            "\n",
            "Sequence length: 291\n"
          ],
          "name": "stdout"
        }
      ]
    },
    {
      "cell_type": "markdown",
      "metadata": {
        "id": "t8XZaecQEJTA"
      },
      "source": [
        "Now we have a dataset of sequences with 291 elements each. For training, we need to split these sequences into input and target sequences. Each will have 290 elements, but the text in the target sequences is shifted one character to the right:"
      ]
    },
    {
      "cell_type": "code",
      "metadata": {
        "id": "pTiD5N1bMrGV",
        "colab": {
          "base_uri": "https://localhost:8080/"
        },
        "outputId": "93cdc6f9-3f42-477f-a679-fcb93c17d100"
      },
      "source": [
        "def split_input_target(sequence):\n",
        "  input_sequence = sequence[:-1]\n",
        "  target_sequence = sequence[1:]\n",
        "  return input_sequence, target_sequence\n",
        "\n",
        "dataset = dataset.map(split_input_target)\n",
        "print(dataset)"
      ],
      "execution_count": 87,
      "outputs": [
        {
          "output_type": "stream",
          "text": [
            "<MapDataset shapes: ((290,), (290,)), types: (tf.int32, tf.int32)>\n"
          ],
          "name": "stdout"
        }
      ]
    },
    {
      "cell_type": "markdown",
      "metadata": {
        "id": "EuJZ00jSyFKa"
      },
      "source": [
        "Let's take a look on few examples:"
      ]
    },
    {
      "cell_type": "code",
      "metadata": {
        "id": "MsmId8zKBQF9",
        "colab": {
          "base_uri": "https://localhost:8080/"
        },
        "outputId": "fe6e3a63-ce95-4e26-f82a-38abbf91d6db"
      },
      "source": [
        "for input_sample, target_sample in dataset.take(3):\n",
        "  print('Input sequence: \"{}\"'.format(sequence_to_text(input_sample)))\n",
        "  print('Target sequence: \"{}\"'.format(sequence_to_text(target_sample)))\n",
        "  print()"
      ],
      "execution_count": 88,
      "outputs": [
        {
          "output_type": "stream",
          "text": [
            "Input sequence: \"i was thrilled to be back in the great city of charlotte, north carolina with thousands of hardworking american patriots who love our country, cherish our values, respect our laws, and always put america first thank you for a wonderful evening kag2020 \"\n",
            "Target sequence: \" was thrilled to be back in the great city of charlotte, north carolina with thousands of hardworking american patriots who love our country, cherish our values, respect our laws, and always put america first thank you for a wonderful evening kag2020 \"\n",
            "\n",
            "Input sequence: \"the unsolicited mail in ballot scam is a major threat to our democracy, amp the democrats know it. almost all recent elections using this system, even though much smaller amp  with far fewer ballots to count, have ended up being a disaster. large numbers of missing ballots amp fraud\"\n",
            "Target sequence: \"he unsolicited mail in ballot scam is a major threat to our democracy, amp the democrats know it. almost all recent elections using this system, even though much smaller amp  with far fewer ballots to count, have ended up being a disaster. large numbers of missing ballots amp fraud\"\n",
            "\n",
            "Input sequence: \"im running as a proud democrat, for the senate. sleepy joe biden today. its only going to get worse. it is not sustainable for our county  china will own us\"\n",
            "Target sequence: \"m running as a proud democrat, for the senate. sleepy joe biden today. its only going to get worse. it is not sustainable for our county  china will own us\"\n",
            "\n"
          ],
          "name": "stdout"
        }
      ]
    },
    {
      "cell_type": "markdown",
      "metadata": {
        "id": "Pd-V_y-uyUdX"
      },
      "source": [
        "Finally, we group these samples into mini-batches of size 64 and shuffle them:"
      ]
    },
    {
      "cell_type": "code",
      "metadata": {
        "id": "RB9z1M9ziEZ3"
      },
      "source": [
        "BATCH_SIZE = 64\n",
        "BUFFER_SIZE = 10000\n",
        "EMBEDDING_DIM = 32\n",
        "VOCABULARY_SIZE = len(vocabulary)\n",
        "sequence_length = sequences.shape[1]"
      ],
      "execution_count": 89,
      "outputs": []
    },
    {
      "cell_type": "code",
      "metadata": {
        "id": "UXMbEs8ABNzP",
        "colab": {
          "base_uri": "https://localhost:8080/"
        },
        "outputId": "5bf05c61-755e-430a-8d27-f109009e4698"
      },
      "source": [
        "dataset = dataset.shuffle(BUFFER_SIZE).batch(BATCH_SIZE, drop_remainder=True)\n",
        "print(dataset)"
      ],
      "execution_count": 90,
      "outputs": [
        {
          "output_type": "stream",
          "text": [
            "<BatchDataset shapes: ((64, 290), (64, 290)), types: (tf.int32, tf.int32)>\n"
          ],
          "name": "stdout"
        }
      ]
    },
    {
      "cell_type": "markdown",
      "metadata": {
        "id": "dXQvUROTFbAa"
      },
      "source": [
        "## 4.2 - Model Definition and Training\n",
        "\n",
        "Finally, you will design the architecture of the RNN model using Keras' Functional API. Please note that we need to define the batch size for using sequential models. Instead of defining the `input_shape`, we will thus define the `batch_input_shape`.\n",
        "\n",
        "The architecture is very simple, i.e., you will just add a [GRU layer](https://www.tensorflow.org/api_docs/python/tf/keras/layers/GRU) on top of the Embedding layer. You may use a GRU with 1024 units. Also, remember to set the `return_sequences` parameter accordingly.\n",
        "\n",
        "Then stack a Dropout layer with `.2` dropout rate and a final Dense layer wit softmax activation for classification across the characters of the vocabulary.\n",
        "\n",
        "**Task**: Complete the function `build_model_gru` for creating the defined RNN model."
      ]
    },
    {
      "cell_type": "code",
      "metadata": {
        "id": "cZSAwzCAGXVW"
      },
      "source": [
        "from tensorflow.keras import layers, Model\n",
        "from tensorflow.keras.optimizers import Adam\n",
        "\n",
        "def build_model_gru(vocabulary_size, embedding_dim, batch_size, sequence_length, summary=True):\n",
        "  \n",
        "  inputs = layers.Input(batch_input_shape=(batch_size, sequence_length-1,))\n",
        "  \n",
        "  x = layers.Embedding(vocabulary_size,\n",
        "                       embedding_dim)(inputs)\n",
        "  \n",
        "  ### START YOUR CODE HERE ###  (≈3 LOC)\n",
        "  x = layers.GRU(1024,\n",
        "                 return_sequences=True,\n",
        "                 stateful=True,\n",
        "      )(x)\n",
        "  x = layers.Dropout(0.2)(x)\n",
        "  out = layers.Dense(vocabulary_size,activation='softmax')(x)\n",
        "  ### END YOUR CODE HERE ###\n",
        "  \n",
        "  model = Model(inputs, out, name='gated_recurrent_unit')\n",
        "\n",
        "  model.compile(loss='sparse_categorical_crossentropy',\n",
        "                optimizer=Adam(lr=1e-3),\n",
        "                metrics='accuracy')\n",
        "  \n",
        "  if summary:\n",
        "    print(model.summary())\n",
        "  \n",
        "  return model"
      ],
      "execution_count": 91,
      "outputs": []
    },
    {
      "cell_type": "markdown",
      "metadata": {
        "id": "MQGET0sy10Qt"
      },
      "source": [
        "You may now build the model and train it for 30 epochs."
      ]
    },
    {
      "cell_type": "code",
      "metadata": {
        "id": "xdZij_8FGXX2",
        "colab": {
          "base_uri": "https://localhost:8080/",
          "height": 1000
        },
        "outputId": "37c9f129-8b36-4afa-e56d-714fdc2c74f6"
      },
      "source": [
        "gru_model = build_model_gru(VOCABULARY_SIZE, EMBEDDING_DIM, BATCH_SIZE, sequence_length)\n",
        "gru_history = gru_model.fit(dataset, \n",
        "                            epochs=30\n",
        "                            )\n",
        "plot_history(gru_history)"
      ],
      "execution_count": 92,
      "outputs": [
        {
          "output_type": "stream",
          "text": [
            "Model: \"gated_recurrent_unit\"\n",
            "_________________________________________________________________\n",
            "Layer (type)                 Output Shape              Param #   \n",
            "=================================================================\n",
            "input_32 (InputLayer)        [(64, 290)]               0         \n",
            "_________________________________________________________________\n",
            "embedding_31 (Embedding)     (64, 290, 32)             1280      \n",
            "_________________________________________________________________\n",
            "gru (GRU)                    (64, 290, 1024)           3250176   \n",
            "_________________________________________________________________\n",
            "dropout_6 (Dropout)          (64, 290, 1024)           0         \n",
            "_________________________________________________________________\n",
            "dense_8 (Dense)              (64, 290, 40)             41000     \n",
            "=================================================================\n",
            "Total params: 3,292,456\n",
            "Trainable params: 3,292,456\n",
            "Non-trainable params: 0\n",
            "_________________________________________________________________\n",
            "None\n",
            "Epoch 1/30\n",
            "222/222 [==============================] - 27s 121ms/step - loss: 1.8487 - accuracy: 0.5026\n",
            "Epoch 2/30\n",
            "222/222 [==============================] - 28s 126ms/step - loss: 1.4499 - accuracy: 0.5883\n",
            "Epoch 3/30\n",
            "222/222 [==============================] - 28s 127ms/step - loss: 1.2209 - accuracy: 0.6454\n",
            "Epoch 4/30\n",
            "222/222 [==============================] - 29s 131ms/step - loss: 1.0408 - accuracy: 0.6984\n",
            "Epoch 5/30\n",
            "222/222 [==============================] - 29s 131ms/step - loss: 0.9182 - accuracy: 0.7336\n",
            "Epoch 6/30\n",
            "222/222 [==============================] - 29s 132ms/step - loss: 0.8405 - accuracy: 0.7547\n",
            "Epoch 7/30\n",
            "222/222 [==============================] - 30s 134ms/step - loss: 0.7871 - accuracy: 0.7687\n",
            "Epoch 8/30\n",
            "222/222 [==============================] - 30s 137ms/step - loss: 0.7465 - accuracy: 0.7796\n",
            "Epoch 9/30\n",
            "222/222 [==============================] - 31s 138ms/step - loss: 0.7148 - accuracy: 0.7878\n",
            "Epoch 10/30\n",
            "222/222 [==============================] - 30s 135ms/step - loss: 0.6881 - accuracy: 0.7950\n",
            "Epoch 11/30\n",
            "222/222 [==============================] - 31s 138ms/step - loss: 0.6648 - accuracy: 0.8012\n",
            "Epoch 12/30\n",
            "222/222 [==============================] - 30s 135ms/step - loss: 0.6435 - accuracy: 0.8068\n",
            "Epoch 13/30\n",
            "222/222 [==============================] - 30s 136ms/step - loss: 0.6246 - accuracy: 0.8117\n",
            "Epoch 14/30\n",
            "222/222 [==============================] - 30s 137ms/step - loss: 0.6069 - accuracy: 0.8165\n",
            "Epoch 15/30\n",
            "222/222 [==============================] - 30s 137ms/step - loss: 0.5903 - accuracy: 0.8211\n",
            "Epoch 16/30\n",
            "222/222 [==============================] - 31s 138ms/step - loss: 0.5748 - accuracy: 0.8251\n",
            "Epoch 17/30\n",
            "222/222 [==============================] - 30s 136ms/step - loss: 0.5613 - accuracy: 0.8289\n",
            "Epoch 18/30\n",
            "222/222 [==============================] - 31s 138ms/step - loss: 0.5484 - accuracy: 0.8323\n",
            "Epoch 19/30\n",
            "222/222 [==============================] - 30s 136ms/step - loss: 0.5377 - accuracy: 0.8353\n",
            "Epoch 20/30\n",
            "222/222 [==============================] - 30s 136ms/step - loss: 0.5282 - accuracy: 0.8379\n",
            "Epoch 21/30\n",
            "222/222 [==============================] - 30s 136ms/step - loss: 0.5187 - accuracy: 0.8404\n",
            "Epoch 22/30\n",
            "222/222 [==============================] - 31s 137ms/step - loss: 0.5112 - accuracy: 0.8423\n",
            "Epoch 23/30\n",
            "222/222 [==============================] - 31s 139ms/step - loss: 0.5033 - accuracy: 0.8445\n",
            "Epoch 24/30\n",
            "222/222 [==============================] - 30s 136ms/step - loss: 0.4976 - accuracy: 0.8461\n",
            "Epoch 25/30\n",
            "222/222 [==============================] - 31s 138ms/step - loss: 0.4924 - accuracy: 0.8475\n",
            "Epoch 26/30\n",
            "222/222 [==============================] - 30s 135ms/step - loss: 0.4870 - accuracy: 0.8488\n",
            "Epoch 27/30\n",
            "222/222 [==============================] - 30s 135ms/step - loss: 0.4827 - accuracy: 0.8502\n",
            "Epoch 28/30\n",
            "222/222 [==============================] - 30s 136ms/step - loss: 0.4775 - accuracy: 0.8515\n",
            "Epoch 29/30\n",
            "222/222 [==============================] - 31s 138ms/step - loss: 0.4741 - accuracy: 0.8523\n",
            "Epoch 30/30\n",
            "222/222 [==============================] - 31s 139ms/step - loss: 0.4709 - accuracy: 0.8532\n"
          ],
          "name": "stdout"
        },
        {
          "output_type": "display_data",
          "data": {
            "image/png": "[encoded data removed]",
            "text/plain": [
              "<Figure size 900x600 with 2 Axes>"
            ]
          },
          "metadata": {
            "tags": [],
            "needs_background": "light"
          }
        }
      ]
    },
    {
      "cell_type": "code",
      "metadata": {
        "id": "aWR3lLS6KQQq",
        "colab": {
          "base_uri": "https://localhost:8080/"
        },
        "outputId": "283a4ae5-9fcf-4533-acfd-c328e20f188e"
      },
      "source": [
        "gru_history = gru_model.fit(dataset, \n",
        "                            epochs=30\n",
        "                            )"
      ],
      "execution_count": 93,
      "outputs": [
        {
          "output_type": "stream",
          "text": [
            "Epoch 1/30\n",
            "222/222 [==============================] - 30s 135ms/step - loss: 0.4675 - accuracy: 0.8543\n",
            "Epoch 2/30\n",
            "222/222 [==============================] - 30s 137ms/step - loss: 0.4640 - accuracy: 0.8552\n",
            "Epoch 3/30\n",
            "222/222 [==============================] - 30s 134ms/step - loss: 0.4611 - accuracy: 0.8559\n",
            "Epoch 4/30\n",
            "222/222 [==============================] - 30s 135ms/step - loss: 0.4600 - accuracy: 0.8562\n",
            "Epoch 5/30\n",
            "222/222 [==============================] - 30s 136ms/step - loss: 0.4564 - accuracy: 0.8572\n",
            "Epoch 6/30\n",
            "222/222 [==============================] - 30s 137ms/step - loss: 0.4546 - accuracy: 0.8578\n",
            "Epoch 7/30\n",
            "222/222 [==============================] - 31s 137ms/step - loss: 0.4528 - accuracy: 0.8581\n",
            "Epoch 8/30\n",
            "222/222 [==============================] - 30s 135ms/step - loss: 0.4500 - accuracy: 0.8588\n",
            "Epoch 9/30\n",
            "222/222 [==============================] - 30s 137ms/step - loss: 0.4481 - accuracy: 0.8593\n",
            "Epoch 10/30\n",
            "222/222 [==============================] - 30s 135ms/step - loss: 0.4460 - accuracy: 0.8599\n",
            "Epoch 11/30\n",
            "222/222 [==============================] - 30s 135ms/step - loss: 0.4451 - accuracy: 0.8603\n",
            "Epoch 12/30\n",
            "222/222 [==============================] - 30s 136ms/step - loss: 0.4443 - accuracy: 0.8604\n",
            "Epoch 13/30\n",
            "222/222 [==============================] - 30s 137ms/step - loss: 0.4419 - accuracy: 0.8611\n",
            "Epoch 14/30\n",
            "222/222 [==============================] - 30s 137ms/step - loss: 0.4397 - accuracy: 0.8618\n",
            "Epoch 15/30\n",
            "222/222 [==============================] - 30s 135ms/step - loss: 0.4384 - accuracy: 0.8620\n",
            "Epoch 16/30\n",
            "222/222 [==============================] - 31s 138ms/step - loss: 0.4372 - accuracy: 0.8623\n",
            "Epoch 17/30\n",
            "222/222 [==============================] - 30s 135ms/step - loss: 0.4359 - accuracy: 0.8626\n",
            "Epoch 18/30\n",
            "222/222 [==============================] - 30s 136ms/step - loss: 0.4345 - accuracy: 0.8630\n",
            "Epoch 19/30\n",
            "222/222 [==============================] - 30s 137ms/step - loss: 0.4335 - accuracy: 0.8632\n",
            "Epoch 20/30\n",
            "222/222 [==============================] - 31s 138ms/step - loss: 0.4323 - accuracy: 0.8637\n",
            "Epoch 21/30\n",
            "222/222 [==============================] - 31s 139ms/step - loss: 0.4306 - accuracy: 0.8639\n",
            "Epoch 22/30\n",
            "222/222 [==============================] - 30s 136ms/step - loss: 0.4290 - accuracy: 0.8646\n",
            "Epoch 23/30\n",
            "222/222 [==============================] - 31s 138ms/step - loss: 0.4278 - accuracy: 0.8649\n",
            "Epoch 24/30\n",
            "222/222 [==============================] - 30s 135ms/step - loss: 0.4276 - accuracy: 0.8648\n",
            "Epoch 25/30\n",
            "222/222 [==============================] - 30s 136ms/step - loss: 0.4264 - accuracy: 0.8653\n",
            "Epoch 26/30\n",
            "222/222 [==============================] - 30s 136ms/step - loss: 0.4258 - accuracy: 0.8653\n",
            "Epoch 27/30\n",
            "222/222 [==============================] - 30s 137ms/step - loss: 0.4252 - accuracy: 0.8653\n",
            "Epoch 28/30\n",
            "222/222 [==============================] - 31s 138ms/step - loss: 0.4230 - accuracy: 0.8661\n",
            "Epoch 29/30\n",
            "222/222 [==============================] - 30s 136ms/step - loss: 0.4223 - accuracy: 0.8661\n",
            "Epoch 30/30\n",
            "222/222 [==============================] - 30s 137ms/step - loss: 0.4214 - accuracy: 0.8665\n"
          ],
          "name": "stdout"
        }
      ]
    },
    {
      "cell_type": "markdown",
      "metadata": {
        "id": "jZQtP4EpLOoX"
      },
      "source": [
        "## 4.3 - Generate Text\n",
        "\n",
        "Whereas your `gru_model` was trained on batches of size 64, we will perform text generation using only a single sample per batch, i.e., using a batch size of 1. However, sequence models only accept a **fixed batch size**. Hence, we need to \n",
        "1. Save the weights of the trained `gru_model`.\n",
        "2. Rebuild another model `tweety` with same architecture but using a batch size of 1.\n",
        "3. Load the weights of the `gru_model` into the `tweety` model.\n",
        "\n",
        "You may conviently use the `save_weights` and `load_weights` methods of the [tf.keras.Model](https://www.tensorflow.org/api_docs/python/tf/keras/Model) class.\n",
        "\n",
        "**Task**: Complete the code below for saving and restoring model weights as well as creating another GRU model (call `build_model_gru`) with batch size of 1."
      ]
    },
    {
      "cell_type": "code",
      "metadata": {
        "id": "htW79CMViYJK",
        "colab": {
          "base_uri": "https://localhost:8080/"
        },
        "outputId": "bd14290d-a41c-49e5-f2be-8805cd33ebbd"
      },
      "source": [
        "weights_file = '/tmp/gru_model_weights'\n",
        "\n",
        "### START YOUR CODE HERE ###  (≈3 LOC)\n",
        "\n",
        "# 1) Save weights of `gru_model`\n",
        "gru_model.save_weights(\"ckpt\")\n",
        "# 2) Build `tweety` model\n",
        "tweety = build_model_gru(VOCABULARY_SIZE, EMBEDDING_DIM, 1, sequence_length)\n",
        "# 3) Load the saved weights into `tweety` model\n",
        "tweety.load_weights(\"ckpt\")\n",
        "### END YOUR CODE HERE ###"
      ],
      "execution_count": 95,
      "outputs": [
        {
          "output_type": "stream",
          "text": [
            "Model: \"gated_recurrent_unit\"\n",
            "_________________________________________________________________\n",
            "Layer (type)                 Output Shape              Param #   \n",
            "=================================================================\n",
            "input_34 (InputLayer)        [(1, 290)]                0         \n",
            "_________________________________________________________________\n",
            "embedding_33 (Embedding)     (1, 290, 32)              1280      \n",
            "_________________________________________________________________\n",
            "gru_2 (GRU)                  (1, 290, 1024)            3250176   \n",
            "_________________________________________________________________\n",
            "dropout_8 (Dropout)          (1, 290, 1024)            0         \n",
            "_________________________________________________________________\n",
            "dense_10 (Dense)             (1, 290, 40)              41000     \n",
            "=================================================================\n",
            "Total params: 3,292,456\n",
            "Trainable params: 3,292,456\n",
            "Non-trainable params: 0\n",
            "_________________________________________________________________\n",
            "None\n"
          ],
          "name": "stdout"
        },
        {
          "output_type": "execute_result",
          "data": {
            "text/plain": [
              "<tensorflow.python.training.tracking.util.CheckpointLoadStatus at 0x7f81dc15ebe0>"
            ]
          },
          "metadata": {
            "tags": []
          },
          "execution_count": 95
        }
      ]
    },
    {
      "cell_type": "markdown",
      "metadata": {
        "id": "cZMoQf7162D_"
      },
      "source": [
        "The `generate_text` function in the next cell below generates the text. It is running the loop as discussed in the lab 3.1 video:\n",
        "- Forward a seed string and predict next character.\n",
        "- Use predicted character as next input to the model."
      ]
    },
    {
      "cell_type": "code",
      "metadata": {
        "id": "FKLPbAPTLN-o"
      },
      "source": [
        "def generate_text(model, start_string, num_generate=100):\n",
        "  # Convert start string\n",
        "  seed_sequence = text_to_sequence(start_string)\n",
        "\n",
        "  # Storage for generated text, init with start string\n",
        "  text_generated = seed_sequence\n",
        "\n",
        "  # Adjust for batch dimension\n",
        "  seed_sequence = tf.expand_dims(seed_sequence, 0)\n",
        "\n",
        "  # Start with fresh state\n",
        "  model.reset_states()\n",
        "\n",
        "  for i in range(num_generate):\n",
        "    # Predict next characters for `seed_sequence`\n",
        "    predictions = model(seed_sequence)\n",
        "\n",
        "    # Remove the batch dimension\n",
        "    predictions = tf.squeeze(predictions, 0)\n",
        "\n",
        "    # Get last predicted character idx\n",
        "    predicted_id = np.argmax(predictions[-1,:])\n",
        "\n",
        "    # Store generated character\n",
        "    text_generated.append(predicted_id)\n",
        "\n",
        "    # Prepare predicted character idx as the next input to the model\n",
        "    seed_sequence = tf.expand_dims([predicted_id], 0)\n",
        "\n",
        "  return sequence_to_text(text_generated)"
      ],
      "execution_count": 96,
      "outputs": []
    },
    {
      "cell_type": "code",
      "metadata": {
        "id": "bKeXh5UX1FLc",
        "colab": {
          "base_uri": "https://localhost:8080/"
        },
        "outputId": "d3c339cc-b130-4145-d29a-ce6ef67546e4"
      },
      "source": [
        "print(generate_text(tweety, 'many are saying '))\n",
        "print(generate_text(tweety, 'any are saying i'))\n",
        "print(generate_text(tweety, 'many are saying im the'))\n",
        "print(generate_text(tweety, 'many'))"
      ],
      "execution_count": 97,
      "outputs": [
        {
          "output_type": "stream",
          "text": [
            "many are saying that i am having in the national security advisor. i am leaving now for the state of israel until th\n",
            "any are saying indoctrinate your country and our great military and vets. he is strong on crime, borders, and hispan\n",
            "many are saying im there is also somewhere the rigged system  amp, we will be with you \n",
            "many companies are coming back to the u.s. in the house, but when you have to do with the massive tax cu\n"
          ],
          "name": "stdout"
        }
      ]
    },
    {
      "cell_type": "markdown",
      "metadata": {
        "id": "IAk6yWj2NVHe"
      },
      "source": [
        "Pretty close to the original?"
      ]
    },
    {
      "cell_type": "markdown",
      "metadata": {
        "id": "9FNWrd4sUSJz"
      },
      "source": [
        "***\n",
        "\n",
        "# Congratulations!\n",
        "\n",
        "You saw how easily Recurrent Neural Networks can be trained. You might further improve the model by **increasing the amount of units** in the recurrent cell, **stacking multiple recurrent layers**, and train the model for **more epochs**. In addition, you might just replace the [GRU](https://www.tensorflow.org/api_docs/python/tf/keras/layers/GRU) with a [LSTM](https://www.tensorflow.org/api_docs/python/tf/keras/layers/LSTM) and see whether this makes an impact.\n",
        "\n",
        "***"
      ]
    },
    {
      "cell_type": "markdown",
      "metadata": {
        "id": "LfNkpA7FUUtE"
      },
      "source": [
        "You may now submit your notebook to moodle:\n",
        "- Enter your email adress in the cell below.\n",
        "- Save the notebook (`CTRL`+ `s` or '*File*' -> '*Save*')\n",
        "- Click on '*File*' -> '*Download .ipynb*' for downloading the notebook as IPython Notebook file.\n",
        "- Upload the downloaded IPython Notebook file to **Moodle**."
      ]
    }
  ]
}