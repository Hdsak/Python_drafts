{
 "cells": [
  {
   "cell_type": "code",
   "execution_count": 1,
   "metadata": {
    "collapsed": true
   },
   "outputs": [
    {
     "data": {
      "text/plain": "3.1415916535897743"
     },
     "execution_count": 1,
     "metadata": {},
     "output_type": "execute_result"
    }
   ],
   "source": [
    "\n",
    "def calc_pi(n):\n",
    "    numerator = 4\n",
    "    denominator = 1\n",
    "    operator = 1\n",
    "    pi = 0.0\n",
    "    for _ in range(n):\n",
    "        pi += operator * (numerator/denominator)\n",
    "        denominator +=2\n",
    "        operator *= -1\n",
    "    return pi\n",
    "\n",
    "\n",
    "calc_pi(1000000)"
   ]
  }
 ],
 "metadata": {
  "kernelspec": {
   "display_name": "Python 3",
   "language": "python",
   "name": "python3"
  },
  "language_info": {
   "codemirror_mode": {
    "name": "ipython",
    "version": 2
   },
   "file_extension": ".py",
   "mimetype": "text/x-python",
   "name": "python",
   "nbconvert_exporter": "python",
   "pygments_lexer": "ipython2",
   "version": "2.7.6"
  }
 },
 "nbformat": 4,
 "nbformat_minor": 0
}